{
 "cells": [
  {
   "cell_type": "markdown",
   "metadata": {},
   "source": [
    "# Functions\n",
    "\n",
    "In Julia, a function is an object that maps a tuple of argument values to a return value. In the following example we define function that"
   ]
  },
  {
   "cell_type": "code",
   "execution_count": 1,
   "metadata": {},
   "outputs": [
    {
     "data": {
      "text/plain": [
       "f (generic function with 1 method)"
      ]
     },
     "execution_count": 1,
     "metadata": {},
     "output_type": "execute_result"
    }
   ],
   "source": [
    "function f(x,y)\n",
    "    x * y\n",
    "end"
   ]
  },
  {
   "cell_type": "markdown",
   "metadata": {},
   "source": [
    "This function accepts two arguments `x` and `y` and returns the value of the last expression evaluated, which is `x * y`."
   ]
  },
  {
   "cell_type": "code",
   "execution_count": 2,
   "metadata": {},
   "outputs": [
    {
     "data": {
      "text/plain": [
       "2-element Array{Int64,1}:\n",
       "  6\n",
       " -6"
      ]
     },
     "execution_count": 2,
     "metadata": {},
     "output_type": "execute_result"
    }
   ],
   "source": [
    "[f(2, 3), f(2, -3)]"
   ]
  },
  {
   "cell_type": "markdown",
   "metadata": {},
   "source": [
    "Sometimes it is useful to return something other than the last expression.  For such a case there is an `return` keyword:"
   ]
  },
  {
   "cell_type": "code",
   "execution_count": 3,
   "metadata": {},
   "outputs": [
    {
     "data": {
      "text/plain": [
       "g (generic function with 1 method)"
      ]
     },
     "execution_count": 3,
     "metadata": {},
     "output_type": "execute_result"
    }
   ],
   "source": [
    "function g(x,y)\n",
    "    val = x * y\n",
    "    if val < 0\n",
    "        return -val\n",
    "    else\n",
    "        return val\n",
    "    end\n",
    "end"
   ]
  },
  {
   "cell_type": "markdown",
   "metadata": {},
   "source": [
    "This function accepts two arguments `x` and `y` and computes `val = x * y`. Then if `val` is less than zero, it returns` -val`, otherwise it returns `val`."
   ]
  },
  {
   "cell_type": "code",
   "execution_count": 4,
   "metadata": {},
   "outputs": [
    {
     "data": {
      "text/plain": [
       "2-element Array{Int64,1}:\n",
       " 6\n",
       " 6"
      ]
     },
     "execution_count": 4,
     "metadata": {},
     "output_type": "execute_result"
    }
   ],
   "source": [
    "[g(2, 3), g(2, -3)]"
   ]
  },
  {
   "cell_type": "markdown",
   "metadata": {},
   "source": [
    "The traditional function declaration syntax demonstrated above is equivalent to the following compact form, which is very common in Julia:"
   ]
  },
  {
   "cell_type": "code",
   "execution_count": 5,
   "metadata": {},
   "outputs": [
    {
     "data": {
      "text/plain": [
       "f (generic function with 1 method)"
      ]
     },
     "execution_count": 5,
     "metadata": {},
     "output_type": "execute_result"
    }
   ],
   "source": [
    "f(x,y) = x * y"
   ]
  },
  {
   "cell_type": "markdown",
   "metadata": {},
   "source": [
    "### Optional and keyword arguments"
   ]
  },
  {
   "cell_type": "markdown",
   "metadata": {},
   "source": [
    "Other very useful things are optional and keyword arguments, which can be added in a very easy way"
   ]
  },
  {
   "cell_type": "code",
   "execution_count": 6,
   "metadata": {},
   "outputs": [
    {
     "data": {
      "text/plain": [
       "f_hello (generic function with 2 methods)"
      ]
     },
     "execution_count": 6,
     "metadata": {},
     "output_type": "execute_result"
    }
   ],
   "source": [
    "function f_hello(x, y, a = 0; sayhello = false)\n",
    "    sayhello && println(\"Hello everyone 👋\" )\n",
    "    x * y + a\n",
    "end"
   ]
  },
  {
   "cell_type": "markdown",
   "metadata": {},
   "source": [
    "This function accepts two arguments `x` and `y`, one optional argument `a` and one keyword argument `sayhello`. If the function is called only with mandatory arguments, then it returns `x * y + 0`"
   ]
  },
  {
   "cell_type": "code",
   "execution_count": 7,
   "metadata": {},
   "outputs": [
    {
     "data": {
      "text/plain": [
       "6"
      ]
     },
     "execution_count": 7,
     "metadata": {},
     "output_type": "execute_result"
    }
   ],
   "source": [
    "f_hello(2,3)"
   ]
  },
  {
   "cell_type": "markdown",
   "metadata": {},
   "source": [
    "The change of the optional argument `a` will change the output value to `x * y + a`"
   ]
  },
  {
   "cell_type": "code",
   "execution_count": 8,
   "metadata": {},
   "outputs": [
    {
     "data": {
      "text/plain": [
       "8"
      ]
     },
     "execution_count": 8,
     "metadata": {},
     "output_type": "execute_result"
    }
   ],
   "source": [
    "f_hello(2,3,2)"
   ]
  },
  {
   "cell_type": "markdown",
   "metadata": {},
   "source": [
    "Since `f_hello` is a function with good manners (as opposed to `f`), it says hello if the keyword argument `sayhello` is true"
   ]
  },
  {
   "cell_type": "code",
   "execution_count": 9,
   "metadata": {},
   "outputs": [
    {
     "name": "stdout",
     "output_type": "stream",
     "text": [
      "Hello everyone 👋\n"
     ]
    },
    {
     "data": {
      "text/plain": [
       "6"
      ]
     },
     "execution_count": 9,
     "metadata": {},
     "output_type": "execute_result"
    }
   ],
   "source": [
    "f_hello(2,3; sayhello = true)"
   ]
  },
  {
   "cell_type": "markdown",
   "metadata": {},
   "source": [
    "### Anonymous functions"
   ]
  },
  {
   "cell_type": "markdown",
   "metadata": {},
   "source": [
    "It is also common to use anonymous functions, ie functions without specified name. Such a function can be defined in almost the same way as a normal function:"
   ]
  },
  {
   "cell_type": "code",
   "execution_count": 10,
   "metadata": {},
   "outputs": [
    {
     "data": {
      "text/plain": [
       "#6 (generic function with 1 method)"
      ]
     },
     "execution_count": 10,
     "metadata": {},
     "output_type": "execute_result"
    }
   ],
   "source": [
    "h1 = function (x)\n",
    "    x^2 + 2x - 1\n",
    "end\n",
    "\n",
    "h2 = x ->  x^2 + 2x - 1"
   ]
  },
  {
   "cell_type": "markdown",
   "metadata": {},
   "source": [
    " Those two function declarations create functions with automatically generated names. Then variables `h1` and `h2` only refers to these functions. The primary use for anonymous functions is passing them to functions which take other functions as arguments. A classic example is `map`, which applies a function to each value of an array and returns a new array containing the resulting values:"
   ]
  },
  {
   "cell_type": "code",
   "execution_count": 11,
   "metadata": {},
   "outputs": [
    {
     "data": {
      "text/plain": [
       "3-element Array{Int64,1}:\n",
       "  2\n",
       " 14\n",
       " -2"
      ]
     },
     "execution_count": 11,
     "metadata": {},
     "output_type": "execute_result"
    }
   ],
   "source": [
    "map(x -> x^2 + 2x - 1, [1,3,-1])"
   ]
  },
  {
   "cell_type": "markdown",
   "metadata": {},
   "source": [
    "For more complicated functions, the `do` blocks can be used"
   ]
  },
  {
   "cell_type": "code",
   "execution_count": 12,
   "metadata": {},
   "outputs": [
    {
     "data": {
      "text/plain": [
       "3-element Array{Int64,1}:\n",
       "  2\n",
       " 14\n",
       " -2"
      ]
     },
     "execution_count": 12,
     "metadata": {},
     "output_type": "execute_result"
    }
   ],
   "source": [
    "map([1,3,-1]) do x\n",
    "    x^2 + 2x - 1\n",
    "end"
   ]
  },
  {
   "cell_type": "markdown",
   "metadata": {},
   "source": [
    "# Types, methods and multiple-dispatch"
   ]
  },
  {
   "cell_type": "markdown",
   "metadata": {},
   "source": [
    "So far we did not mention any types. The default behavior in Julia when types are omitted is to allow values to be of any type. Thus, one can write many useful Julia functions without ever explicitly using types. When additional expressiveness is needed, however, it is easy to gradually introduce explicit type annotations into previously \"untyped\" code.\n",
    "\n",
    " In Julia, functions consist of multiple methods. The choice of which method to execute when a function is applied is called dispatch. Julia allows the dispatch process to choose which of a function's methods to call based on\n",
    "* the number of arguments given\n",
    "* types of all of the function's arguments.\n",
    "\n",
    "Using all of a function's arguments to choose which method should be invoked is known as **multiple dispatch**.\n",
    "\n",
    "Until now, we have defined only functions with a single method having unconstrained argument types."
   ]
  },
  {
   "cell_type": "code",
   "execution_count": 13,
   "metadata": {},
   "outputs": [
    {
     "data": {
      "text/plain": [
       "f (generic function with 1 method)"
      ]
     },
     "execution_count": 13,
     "metadata": {},
     "output_type": "execute_result"
    }
   ],
   "source": [
    "f(x, y) = x * y"
   ]
  },
  {
   "cell_type": "markdown",
   "metadata": {},
   "source": [
    "We can easily check which methods are defined for this function using the `methods` function"
   ]
  },
  {
   "cell_type": "code",
   "execution_count": 14,
   "metadata": {},
   "outputs": [
    {
     "data": {
      "text/html": [
       "# 1 method for generic function <b>f</b>:<ul><li> f(x, y) in Main at In[13]:1</li> </ul>"
      ],
      "text/plain": [
       "# 1 method for generic function \"f\":\n",
       "[1] f(x, y) in Main at In[13]:1"
      ]
     },
     "execution_count": 14,
     "metadata": {},
     "output_type": "execute_result"
    }
   ],
   "source": [
    "methods(f)"
   ]
  },
  {
   "cell_type": "markdown",
   "metadata": {},
   "source": [
    "Each function can be easily extended by new methods"
   ]
  },
  {
   "cell_type": "code",
   "execution_count": 15,
   "metadata": {},
   "outputs": [
    {
     "data": {
      "text/html": [
       "# 4 methods for generic function <b>f</b>:<ul><li> f(x, y) in Main at In[13]:1</li> <li> f(x, y, z) in Main at In[15]:1</li> <li> f(x, y, z, q) in Main at In[15]:2</li> <li> f(x...) in Main at In[15]:3</li> </ul>"
      ],
      "text/plain": [
       "# 4 methods for generic function \"f\":\n",
       "[1] f(x, y) in Main at In[13]:1\n",
       "[2] f(x, y, z) in Main at In[15]:1\n",
       "[3] f(x, y, z, q) in Main at In[15]:2\n",
       "[4] f(x...) in Main at In[15]:3"
      ]
     },
     "execution_count": 15,
     "metadata": {},
     "output_type": "execute_result"
    }
   ],
   "source": [
    "f(x, y, z) = x * y * z\n",
    "f(x, y, z, q) = x * y * z * q\n",
    "f(x...) = reduce(*, x)\n",
    "\n",
    "methods(f)"
   ]
  },
  {
   "cell_type": "markdown",
   "metadata": {},
   "source": [
    "Since we did not specify what types of arguments are allowed, function `f` will work for all types"
   ]
  },
  {
   "cell_type": "code",
   "execution_count": 16,
   "metadata": {},
   "outputs": [
    {
     "data": {
      "text/plain": [
       "4-element Array{Any,1}:\n",
       " 6\n",
       " 6.0\n",
       " 6.0\n",
       "  \"ab\""
      ]
     },
     "execution_count": 16,
     "metadata": {},
     "output_type": "execute_result"
    }
   ],
   "source": [
    "[\n",
    "    f(2, 3),\n",
    "    f(2.0, 3),\n",
    "    f(2, 3.0),\n",
    "    f(\"a\", \"b\")\n",
    "]"
   ]
  },
  {
   "cell_type": "markdown",
   "metadata": {},
   "source": [
    "However, some combinations of arguments will result in an error"
   ]
  },
  {
   "cell_type": "code",
   "execution_count": 17,
   "metadata": {},
   "outputs": [
    {
     "ename": "MethodError",
     "evalue": "MethodError: no method matching *(::Symbol, ::Symbol)\nClosest candidates are:\n  *(::Any, ::Any, !Matched::Any, !Matched::Any...) at operators.jl:529",
     "output_type": "error",
     "traceback": [
      "MethodError: no method matching *(::Symbol, ::Symbol)\nClosest candidates are:\n  *(::Any, ::Any, !Matched::Any, !Matched::Any...) at operators.jl:529",
      "",
      "Stacktrace:",
      " [1] f(::Symbol, ::Symbol) at ./In[13]:1",
      " [2] top-level scope at In[17]:1"
     ]
    }
   ],
   "source": [
    "f(:a, :b)"
   ]
  },
  {
   "cell_type": "markdown",
   "metadata": {},
   "source": [
    " When using types we can be extremely conservative and we can set a specific type for each function argument"
   ]
  },
  {
   "cell_type": "code",
   "execution_count": 18,
   "metadata": {},
   "outputs": [
    {
     "data": {
      "text/plain": [
       "foo (generic function with 1 method)"
      ]
     },
     "execution_count": 18,
     "metadata": {},
     "output_type": "execute_result"
    }
   ],
   "source": [
    "foo(x::Int64, y::Int64) = x * y"
   ]
  },
  {
   "cell_type": "markdown",
   "metadata": {},
   "source": [
    "This function definition applies only to calls where `x` and `y` are both values of type Int64:"
   ]
  },
  {
   "cell_type": "code",
   "execution_count": 19,
   "metadata": {},
   "outputs": [
    {
     "data": {
      "text/plain": [
       "6"
      ]
     },
     "execution_count": 19,
     "metadata": {},
     "output_type": "execute_result"
    }
   ],
   "source": [
    "foo(2,3)"
   ]
  },
  {
   "cell_type": "markdown",
   "metadata": {},
   "source": [
    "Applying it to any other types of arguments will result in a `MethodError`:"
   ]
  },
  {
   "cell_type": "code",
   "execution_count": 20,
   "metadata": {},
   "outputs": [
    {
     "ename": "MethodError",
     "evalue": "MethodError: no method matching foo(::Float64, ::Int64)\nClosest candidates are:\n  foo(!Matched::Int64, ::Int64) at In[18]:1",
     "output_type": "error",
     "traceback": [
      "MethodError: no method matching foo(::Float64, ::Int64)\nClosest candidates are:\n  foo(!Matched::Int64, ::Int64) at In[18]:1",
      "",
      "Stacktrace:",
      " [1] top-level scope at In[20]:1"
     ]
    }
   ],
   "source": [
    "foo(2.0,3)"
   ]
  },
  {
   "cell_type": "markdown",
   "metadata": {},
   "source": [
    "It is better to use abstract types like `Number` or` Real` instead of concrete types like `Float64`,` Float32`, `Int64` ... .  To find an super type for a specific type, we can use  `supertype` function"
   ]
  },
  {
   "cell_type": "code",
   "execution_count": 21,
   "metadata": {},
   "outputs": [
    {
     "data": {
      "text/plain": [
       "Signed"
      ]
     },
     "execution_count": 21,
     "metadata": {},
     "output_type": "execute_result"
    }
   ],
   "source": [
    "supertype(Int64)"
   ]
  },
  {
   "cell_type": "markdown",
   "metadata": {},
   "source": [
    "or we can create a simple recursive function that prints the entire tree of supertypes for a given type"
   ]
  },
  {
   "cell_type": "code",
   "execution_count": 22,
   "metadata": {},
   "outputs": [
    {
     "name": "stdout",
     "output_type": "stream",
     "text": [
      "\u001b[32m\u001b[1mInt64\u001b[22m\u001b[39m\n",
      "\u001b[34m\u001b[1m   Signed\u001b[22m\u001b[39m\n",
      "\u001b[34m\u001b[1m      Integer\u001b[22m\u001b[39m\n",
      "\u001b[34m\u001b[1m         Real\u001b[22m\u001b[39m\n",
      "\u001b[34m\u001b[1m            Number\u001b[22m\u001b[39m\n"
     ]
    }
   ],
   "source": [
    "function supertypes_tree(::Type{T}, k::Int = 0) where {T <: Any}\n",
    "    T === Any && return\n",
    "    col = isabstracttype(T) ? :blue : :green\n",
    "    printstyled(repeat(\"   \", k)..., T, \"\\n\"; bold = true, color = col)\n",
    "    supertypes_tree(supertype(T), k + 1)\n",
    "    return\n",
    "end\n",
    "\n",
    "supertypes_tree(Int64)"
   ]
  },
  {
   "cell_type": "markdown",
   "metadata": {},
   "source": [
    " All abstract types are printed in blue and all concrete types are printed in green. There is also `subtypes` function, which returns all subtypes for a given type."
   ]
  },
  {
   "cell_type": "code",
   "execution_count": 23,
   "metadata": {},
   "outputs": [
    {
     "data": {
      "text/plain": [
       "2-element Array{Any,1}:\n",
       " Complex\n",
       " Real"
      ]
     },
     "execution_count": 23,
     "metadata": {},
     "output_type": "execute_result"
    }
   ],
   "source": [
    "subtypes(Number)"
   ]
  },
  {
   "cell_type": "markdown",
   "metadata": {},
   "source": [
    "As with supertypes, we can create a simple recursive function that prints the entire tree of subtypes for a given type."
   ]
  },
  {
   "cell_type": "code",
   "execution_count": 24,
   "metadata": {},
   "outputs": [
    {
     "name": "stdout",
     "output_type": "stream",
     "text": [
      "\u001b[34m\u001b[1mNumber\u001b[22m\u001b[39m\n",
      "\u001b[32m\u001b[1m   Complex\u001b[22m\u001b[39m\n",
      "\u001b[34m\u001b[1m   Real\u001b[22m\u001b[39m\n",
      "\u001b[34m\u001b[1m      AbstractFloat\u001b[22m\u001b[39m\n",
      "\u001b[32m\u001b[1m         BigFloat\u001b[22m\u001b[39m\n",
      "\u001b[32m\u001b[1m         Float16\u001b[22m\u001b[39m\n",
      "\u001b[32m\u001b[1m         Float32\u001b[22m\u001b[39m\n",
      "\u001b[32m\u001b[1m         Float64\u001b[22m\u001b[39m\n",
      "\u001b[34m\u001b[1m      AbstractIrrational\u001b[22m\u001b[39m\n",
      "\u001b[32m\u001b[1m         Irrational\u001b[22m\u001b[39m\n",
      "\u001b[34m\u001b[1m      Integer\u001b[22m\u001b[39m\n",
      "\u001b[32m\u001b[1m         Bool\u001b[22m\u001b[39m\n",
      "\u001b[34m\u001b[1m         Signed\u001b[22m\u001b[39m\n",
      "\u001b[32m\u001b[1m            BigInt\u001b[22m\u001b[39m\n",
      "\u001b[32m\u001b[1m            Int128\u001b[22m\u001b[39m\n",
      "\u001b[32m\u001b[1m            Int16\u001b[22m\u001b[39m\n",
      "\u001b[32m\u001b[1m            Int32\u001b[22m\u001b[39m\n",
      "\u001b[32m\u001b[1m            Int64\u001b[22m\u001b[39m\n",
      "\u001b[32m\u001b[1m            Int8\u001b[22m\u001b[39m\n",
      "\u001b[34m\u001b[1m         Unsigned\u001b[22m\u001b[39m\n",
      "\u001b[32m\u001b[1m            UInt128\u001b[22m\u001b[39m\n",
      "\u001b[32m\u001b[1m            UInt16\u001b[22m\u001b[39m\n",
      "\u001b[32m\u001b[1m            UInt32\u001b[22m\u001b[39m\n",
      "\u001b[32m\u001b[1m            UInt64\u001b[22m\u001b[39m\n",
      "\u001b[32m\u001b[1m            UInt8\u001b[22m\u001b[39m\n",
      "\u001b[32m\u001b[1m      Rational\u001b[22m\u001b[39m\n"
     ]
    }
   ],
   "source": [
    "function subtypes_tree(::Type{T}, k::Int = 0) where {T <: Any}\n",
    "    col = isabstracttype(T) ? :blue : :green\n",
    "    printstyled(repeat(\"   \", k)..., T; bold = true, color = col)\n",
    "    println()\n",
    "    subtypes_tree.(subtypes(T), k + 1)\n",
    "    return\n",
    "end\n",
    "\n",
    "\n",
    "subtypes_tree(Number)"
   ]
  },
  {
   "cell_type": "markdown",
   "metadata": {},
   "source": [
    "From the tree of all subtypes of the abstract type \"Number,\" we see the whole structure of numerical types in Julia. So if we really want to specify the argument types of a function, we should use some abstract type, such as `Real`"
   ]
  },
  {
   "cell_type": "code",
   "execution_count": 25,
   "metadata": {},
   "outputs": [
    {
     "data": {
      "text/plain": [
       "foo (generic function with 2 methods)"
      ]
     },
     "execution_count": 25,
     "metadata": {},
     "output_type": "execute_result"
    }
   ],
   "source": [
    "foo(x::Real, y::Real) = x * y"
   ]
  },
  {
   "cell_type": "markdown",
   "metadata": {},
   "source": [
    "This function definition applies to calls where `x` and `y` are both values of any subtype of `Real`."
   ]
  },
  {
   "cell_type": "code",
   "execution_count": 26,
   "metadata": {},
   "outputs": [
    {
     "data": {
      "text/plain": [
       "4-element Array{Real,1}:\n",
       " 6.0\n",
       " 6.0\n",
       " 6\n",
       " 6.0f0"
      ]
     },
     "execution_count": 26,
     "metadata": {},
     "output_type": "execute_result"
    }
   ],
   "source": [
    "Real[\n",
    "    foo(2.0, 3)\n",
    "    foo(2.0, 3.0)\n",
    "    foo(Int32(2), Int16(3.0))\n",
    "    foo(Int32(2), Float32(3.0))\n",
    "]"
   ]
  },
  {
   "cell_type": "markdown",
   "metadata": {},
   "source": [
    "Now we can check again how many methods are defined for `foo`"
   ]
  },
  {
   "cell_type": "code",
   "execution_count": 27,
   "metadata": {},
   "outputs": [
    {
     "data": {
      "text/html": [
       "# 2 methods for generic function <b>foo</b>:<ul><li> foo(x::<b>Int64</b>, y::<b>Int64</b>) in Main at In[18]:1</li> <li> foo(x::<b>Real</b>, y::<b>Real</b>) in Main at In[25]:1</li> </ul>"
      ],
      "text/plain": [
       "# 2 methods for generic function \"foo\":\n",
       "[1] foo(x::Int64, y::Int64) in Main at In[18]:1\n",
       "[2] foo(x::Real, y::Real) in Main at In[25]:1"
      ]
     },
     "execution_count": 27,
     "metadata": {},
     "output_type": "execute_result"
    }
   ],
   "source": [
    "methods(foo)"
   ]
  },
  {
   "cell_type": "markdown",
   "metadata": {},
   "source": [
    "### Method Ambiguities\n",
    "\n",
    "It is possible to define a set of function methods such that there is no unique most specific method applicable to some combinations of arguments:"
   ]
  },
  {
   "cell_type": "code",
   "execution_count": 28,
   "metadata": {},
   "outputs": [
    {
     "data": {
      "text/plain": [
       "goo (generic function with 2 methods)"
      ]
     },
     "execution_count": 28,
     "metadata": {},
     "output_type": "execute_result"
    }
   ],
   "source": [
    "goo(x::Float64, y) = x * y\n",
    "goo(x, y::Float64) = x + y"
   ]
  },
  {
   "cell_type": "markdown",
   "metadata": {},
   "source": [
    " Here, the `goo` function has two methods. The first method applies if the first argument is of type `Float64`."
   ]
  },
  {
   "cell_type": "code",
   "execution_count": 29,
   "metadata": {},
   "outputs": [
    {
     "data": {
      "text/plain": [
       "6.0"
      ]
     },
     "execution_count": 29,
     "metadata": {},
     "output_type": "execute_result"
    }
   ],
   "source": [
    "goo(2.0, 3)"
   ]
  },
  {
   "cell_type": "markdown",
   "metadata": {},
   "source": [
    "The second method applies if the second argument is of type `Float64`."
   ]
  },
  {
   "cell_type": "code",
   "execution_count": 30,
   "metadata": {},
   "outputs": [
    {
     "data": {
      "text/plain": [
       "5.0"
      ]
     },
     "execution_count": 30,
     "metadata": {},
     "output_type": "execute_result"
    }
   ],
   "source": [
    "goo(2, 3.0)"
   ]
  },
  {
   "cell_type": "markdown",
   "metadata": {},
   "source": [
    "The case, where both arguments are of type `Float64` can be handled by both methods. The problem is that neither method is more specific than the other. In such cases, Julia raises a `MethodError` rather than arbitrarily picking a method."
   ]
  },
  {
   "cell_type": "code",
   "execution_count": 31,
   "metadata": {},
   "outputs": [
    {
     "ename": "MethodError",
     "evalue": "MethodError: goo(::Float64, ::Float64) is ambiguous. Candidates:\n  goo(x::Float64, y) in Main at In[28]:1\n  goo(x, y::Float64) in Main at In[28]:2\nPossible fix, define\n  goo(::Float64, ::Float64)",
     "output_type": "error",
     "traceback": [
      "MethodError: goo(::Float64, ::Float64) is ambiguous. Candidates:\n  goo(x::Float64, y) in Main at In[28]:1\n  goo(x, y::Float64) in Main at In[28]:2\nPossible fix, define\n  goo(::Float64, ::Float64)",
      "",
      "Stacktrace:",
      " [1] top-level scope at In[31]:1"
     ]
    }
   ],
   "source": [
    "goo(2.0, 3.0)"
   ]
  },
  {
   "cell_type": "markdown",
   "metadata": {},
   "source": [
    " We can avoid method ambiguities by specifying an appropriate method for the intersection case:"
   ]
  },
  {
   "cell_type": "code",
   "execution_count": 32,
   "metadata": {},
   "outputs": [
    {
     "data": {
      "text/plain": [
       "-1.0"
      ]
     },
     "execution_count": 32,
     "metadata": {},
     "output_type": "execute_result"
    }
   ],
   "source": [
    "goo(x::Float64, y::Float64) = x - y\n",
    "goo(2.0, 3.0)"
   ]
  },
  {
   "cell_type": "markdown",
   "metadata": {},
   "source": [
    "If we can check again how many methods are defined for `goo`, there will be three methods"
   ]
  },
  {
   "cell_type": "code",
   "execution_count": 33,
   "metadata": {},
   "outputs": [
    {
     "data": {
      "text/html": [
       "# 3 methods for generic function <b>goo</b>:<ul><li> goo(x::<b>Float64</b>, y::<b>Float64</b>) in Main at In[32]:1</li> <li> goo(x::<b>Float64</b>, y) in Main at In[28]:1</li> <li> goo(x, y::<b>Float64</b>) in Main at In[28]:2</li> </ul>"
      ],
      "text/plain": [
       "# 3 methods for generic function \"goo\":\n",
       "[1] goo(x::Float64, y::Float64) in Main at In[32]:1\n",
       "[2] goo(x::Float64, y) in Main at In[28]:1\n",
       "[3] goo(x, y::Float64) in Main at In[28]:2"
      ]
     },
     "execution_count": 33,
     "metadata": {},
     "output_type": "execute_result"
    }
   ],
   "source": [
    "methods(goo)"
   ]
  },
  {
   "cell_type": "markdown",
   "metadata": {},
   "source": [
    "### Composite types\n",
    "\n",
    "Composite types are called records, structs, or objects in various languages. A composite type is a collection of named fields, an instance of which can be treated as a single value. In many languages, composite types are the only kind of user-definable type, and they are by far the most commonly used user-defined type in Julia as well."
   ]
  },
  {
   "cell_type": "code",
   "execution_count": 34,
   "metadata": {},
   "outputs": [],
   "source": [
    "abstract type Food{T<:Real} end\n",
    "abstract type Fruit{T<:Real} <: Food{T} end\n",
    "abstract type Vegetable{T<:Real} <: Food{T} end\n",
    "\n",
    "struct Apple{T<:Real} <: Fruit{T}  weight::T end\n",
    "struct Orange{T<:Real} <: Fruit{T} weight::T end\n",
    "struct Banana{T<:Real} <: Fruit{T} weight::T end\n",
    "\n",
    "struct Cucumber{T<:Real} <: Vegetable{T} weight::T end\n",
    "struct Carrot{T<:Real} <: Vegetable{T} weight::T end\n",
    "struct Lettuce{T<:Real} <: Vegetable{T} weight::T end"
   ]
  },
  {
   "cell_type": "markdown",
   "metadata": {},
   "source": [
    "Using the `subtypes_tree` function, we can easily check the type hierarchy"
   ]
  },
  {
   "cell_type": "code",
   "execution_count": 35,
   "metadata": {},
   "outputs": [
    {
     "name": "stdout",
     "output_type": "stream",
     "text": [
      "\u001b[34m\u001b[1mFood\u001b[22m\u001b[39m\n",
      "\u001b[34m\u001b[1m   Fruit\u001b[22m\u001b[39m\n",
      "\u001b[32m\u001b[1m      Apple\u001b[22m\u001b[39m\n",
      "\u001b[32m\u001b[1m      Banana\u001b[22m\u001b[39m\n",
      "\u001b[32m\u001b[1m      Orange\u001b[22m\u001b[39m\n",
      "\u001b[34m\u001b[1m   Vegetable\u001b[22m\u001b[39m\n",
      "\u001b[32m\u001b[1m      Carrot\u001b[22m\u001b[39m\n",
      "\u001b[32m\u001b[1m      Cucumber\u001b[22m\u001b[39m\n",
      "\u001b[32m\u001b[1m      Lettuce\u001b[22m\u001b[39m\n"
     ]
    }
   ],
   "source": [
    "subtypes_tree(Food)"
   ]
  },
  {
   "cell_type": "markdown",
   "metadata": {},
   "source": [
    "In Julia, it is not possible to set mandatory fields for all subtypes of a given abstract type. For example, each food subtype should have a specified color. However, we can easily define general properties using multiple-dispatch"
   ]
  },
  {
   "cell_type": "code",
   "execution_count": 36,
   "metadata": {},
   "outputs": [
    {
     "data": {
      "text/plain": [
       "color (generic function with 6 methods)"
      ]
     },
     "execution_count": 36,
     "metadata": {},
     "output_type": "execute_result"
    }
   ],
   "source": [
    "color(::Type{<:Apple}) = \"red\"\n",
    "color(::Type{<:Orange}) = \"orange\"\n",
    "color(::Type{<:Banana}) = \"yellow\"\n",
    "color(::Type{<:Cucumber}) = \"green\"\n",
    "color(::Type{<:Carrot}) = \"orange\"\n",
    "color(::Type{<:Lettuce}) = \"green\""
   ]
  },
  {
   "cell_type": "markdown",
   "metadata": {},
   "source": [
    "However, these methods can be applied only to the type itself."
   ]
  },
  {
   "cell_type": "code",
   "execution_count": 37,
   "metadata": {},
   "outputs": [
    {
     "data": {
      "text/plain": [
       "2-element Array{String,1}:\n",
       " \"red\"\n",
       " \"green\""
      ]
     },
     "execution_count": 37,
     "metadata": {},
     "output_type": "execute_result"
    }
   ],
   "source": [
    "[color(Apple), color(Lettuce)]"
   ]
  },
  {
   "cell_type": "markdown",
   "metadata": {},
   "source": [
    "To apply `color` function to a specific instance of any `Food` subtype, we must do the following"
   ]
  },
  {
   "cell_type": "code",
   "execution_count": 38,
   "metadata": {},
   "outputs": [
    {
     "data": {
      "text/plain": [
       "\"red\""
      ]
     },
     "execution_count": 38,
     "metadata": {},
     "output_type": "execute_result"
    }
   ],
   "source": [
    "a = Apple(123)\n",
    "color(typeof(a))"
   ]
  },
  {
   "cell_type": "markdown",
   "metadata": {},
   "source": [
    "However, it can be also done in a more elegant way using a new method."
   ]
  },
  {
   "cell_type": "code",
   "execution_count": 39,
   "metadata": {},
   "outputs": [
    {
     "data": {
      "text/plain": [
       "2-element Array{String,1}:\n",
       " \"red\"\n",
       " \"red\""
      ]
     },
     "execution_count": 39,
     "metadata": {},
     "output_type": "execute_result"
    }
   ],
   "source": [
    "color(::T) where {T<:Food} = color(T)\n",
    "\n",
    "[color(Apple), color(Apple(123))]"
   ]
  },
  {
   "cell_type": "markdown",
   "metadata": {},
   "source": [
    "Now we can define two other functions:\n",
    "* `weight` function return the rounded weight of given food\n",
    "* `description` function prints some basic information about a given food"
   ]
  },
  {
   "cell_type": "code",
   "execution_count": 40,
   "metadata": {},
   "outputs": [
    {
     "name": "stdout",
     "output_type": "stream",
     "text": [
      "Fruit: Apple, color: red, weight: 150g\n",
      "Fruit: Orange, color: orange, weight: 236g\n",
      "Fruit: Banana, color: yellow, weight: 187g\n",
      "Vegetable: Cucumber, color: green, weight: 247g\n",
      "Vegetable: Carrot, color: orange, weight: 120g\n",
      "Vegetable: Lettuce, color: green, weight: 169g\n"
     ]
    }
   ],
   "source": [
    "weight(x::Food) = ceil(Int64, x.weight)\n",
    "description(x::T) where {T <: Food} =\n",
    "    println(\"$(supertype(T).name): $(T.name), color: $(color(x)), weight: $(weight(x))g\")\n",
    "\n",
    "fruits = [\n",
    "    Apple(150),\n",
    "    Orange(235.4),\n",
    "    Banana(186.6),\n",
    "    Cucumber(246.1),\n",
    "    Carrot(120),\n",
    "    Lettuce(169)\n",
    "]\n",
    "\n",
    "description.(fruits);"
   ]
  },
  {
   "cell_type": "markdown",
   "metadata": {},
   "source": [
    "It is very useful to know which functions are defined for a particular type. We can use the `methodswith` function to get such information."
   ]
  },
  {
   "cell_type": "code",
   "execution_count": 41,
   "metadata": {},
   "outputs": [
    {
     "data": {
      "text/html": [
       "3-element Array{Method,1}:<ul><li> color(::<b>T</b>)<i> where T<:Food</i> in Main at In[39]:1<li> description(x::<b>T</b>)<i> where T<:Food</i> in Main at In[40]:2<li> weight(x::<b>Food</b>) in Main at In[40]:1</ul>"
      ],
      "text/plain": [
       "[1] color(::T) where T<:Food in Main at In[39]:1\n",
       "[2] description(x::T) where T<:Food in Main at In[40]:2\n",
       "[3] weight(x::Food) in Main at In[40]:1"
      ]
     },
     "execution_count": 41,
     "metadata": {},
     "output_type": "execute_result"
    }
   ],
   "source": [
    "methodswith(Apple; supertypes = true)"
   ]
  },
  {
   "cell_type": "markdown",
   "metadata": {},
   "source": [
    "# Complex example: Temperatures ([original source](https://medium.com/@Jernfrost/defining-custom-units-in-julia-and-python-513c34a4c971))\n",
    "\n",
    "In this example, we will show how to deal with temperatures in different units (*Celsius*, *Kelvin*, *Fahrenheit*). We have following goals:\n",
    "\n",
    "1. define types that represent temperature units\n",
    "2. define functions for conversion between temperature types\n",
    "3. define basic arithmetic operations for temperature types\n",
    "    * `Temperature + Temperature`\n",
    "    * `Temperature - Temperature`\n",
    "    * `number * Temperature`\n",
    "    * `Temperature / number`\n",
    "\n",
    "First, we define the abstract type `Temperature`. All of the above functions can be implemented without the use of the `Temperature` type, but it will be much more complicated."
   ]
  },
  {
   "cell_type": "code",
   "execution_count": 42,
   "metadata": {},
   "outputs": [],
   "source": [
    "abstract type Temperature end"
   ]
  },
  {
   "cell_type": "markdown",
   "metadata": {},
   "source": [
    "We can now define a `Celsius` structure that will represent the temperature in degree *Celsius*."
   ]
  },
  {
   "cell_type": "code",
   "execution_count": 43,
   "metadata": {},
   "outputs": [],
   "source": [
    "struct Celsius <: Temperature\n",
    "    value::Float64\n",
    "\n",
    "    function Celsius(x::Real)\n",
    "        x < -273.15 && throw(ArgumentError(\"input temperature smaller than absolute zero\"))\n",
    "        return new(x)\n",
    "    end\n",
    "end"
   ]
  },
  {
   "cell_type": "markdown",
   "metadata": {},
   "source": [
    "The previous definition is valid for any real number greater than or equal to *-273.15*, which is absolute zero in degrees Celsius."
   ]
  },
  {
   "cell_type": "code",
   "execution_count": 44,
   "metadata": {},
   "outputs": [
    {
     "data": {
      "text/plain": [
       "(Celsius(-273.15), Celsius(0.0), Celsius(100.0))"
      ]
     },
     "execution_count": 44,
     "metadata": {},
     "output_type": "execute_result"
    }
   ],
   "source": [
    "(Celsius(-273.15), Celsius(0), Celsius(100))"
   ]
  },
  {
   "cell_type": "markdown",
   "metadata": {},
   "source": [
    "Since Julia supports multiple-dispatch, we can easily extend existing functions to support newly defined types. For example, we can extend the `show` function from the` Base` module to change the way `Celsius` type is printed in REPL."
   ]
  },
  {
   "cell_type": "code",
   "execution_count": 45,
   "metadata": {},
   "outputs": [],
   "source": [
    "Base.show(io::IO, t::Celsius) = print(io, t.value, \"°C\")"
   ]
  },
  {
   "cell_type": "markdown",
   "metadata": {},
   "source": [
    "Using the same values as above, we get the following output"
   ]
  },
  {
   "cell_type": "code",
   "execution_count": 46,
   "metadata": {},
   "outputs": [
    {
     "data": {
      "text/plain": [
       "(-273.15°C, 0.0°C, 100.0°C)"
      ]
     },
     "execution_count": 46,
     "metadata": {},
     "output_type": "execute_result"
    }
   ],
   "source": [
    "(Celsius(-273.15), Celsius(0), Celsius(100))"
   ]
  },
  {
   "cell_type": "markdown",
   "metadata": {},
   "source": [
    "In  the same way, we can easily define another temperature scale."
   ]
  },
  {
   "cell_type": "code",
   "execution_count": 47,
   "metadata": {},
   "outputs": [],
   "source": [
    "struct Kelvin <: Temperature\n",
    "    value::Float64\n",
    "\n",
    "    function Kelvin(x::Real)\n",
    "        x < 0 && throw(ArgumentError(\"input temperature smaller than absolute zero\"))\n",
    "        return new(x)\n",
    "    end\n",
    "end\n",
    "\n",
    "Base.show(io::IO, t::Kelvin) = print(io, t.value, \"K\")"
   ]
  },
  {
   "cell_type": "markdown",
   "metadata": {},
   "source": [
    "## Conversion\n",
    "\n",
    "We are now able to express temperatures in two different units, but we are not able to convert from one unit to another. In order to convert between units, we need to create a conversion function."
   ]
  },
  {
   "cell_type": "code",
   "execution_count": 48,
   "metadata": {},
   "outputs": [
    {
     "data": {
      "text/plain": [
       "2-element Array{Temperature,1}:\n",
       " 273.15K\n",
       " -273.15°C"
      ]
     },
     "execution_count": 48,
     "metadata": {},
     "output_type": "execute_result"
    }
   ],
   "source": [
    "Celsius2kelvin(t::Celsius) = Kelvin(t.value + 273.15)\n",
    "Kelvin2Celsius(t::Kelvin) = Celsius(t.value - 273.15)\n",
    "\n",
    "[\n",
    "    Celsius2kelvin(Celsius(0)),\n",
    "    Kelvin2Celsius(Kelvin(0))\n",
    "]"
   ]
  },
  {
   "cell_type": "markdown",
   "metadata": {},
   "source": [
    "However, the better way is to extend the `convert` function from the` Base` module and combine it with outer constructors for temperature types. In the first step, we define conversion rules using outer constructors"
   ]
  },
  {
   "cell_type": "code",
   "execution_count": 49,
   "metadata": {},
   "outputs": [
    {
     "data": {
      "text/plain": [
       "Celsius"
      ]
     },
     "execution_count": 49,
     "metadata": {},
     "output_type": "execute_result"
    }
   ],
   "source": [
    "Kelvin(t::Celsius) = Kelvin(t.value + 273.15)\n",
    "Celsius(t::Kelvin) = Celsius(t.value - 273.15)"
   ]
  },
  {
   "cell_type": "markdown",
   "metadata": {},
   "source": [
    "In the second step, we define `convert` function for any subtype of the abstract type `Temperature`."
   ]
  },
  {
   "cell_type": "code",
   "execution_count": 50,
   "metadata": {},
   "outputs": [],
   "source": [
    "Base.convert(::Type{T}, t::T) where {T<:Temperature} = t\n",
    "Base.convert(::Type{T}, t::Temperature) where {T<:Temperature} = T(t)"
   ]
  },
  {
   "cell_type": "markdown",
   "metadata": {},
   "source": [
    "The first method is only a temperature identity. The second method is an auxiliary function that passes the given temperature `t` to the constructor of the given type of temperature `T`. Using the same example as for the `temp_convert` function above results in"
   ]
  },
  {
   "cell_type": "code",
   "execution_count": 51,
   "metadata": {},
   "outputs": [
    {
     "data": {
      "text/plain": [
       "4-element Array{Temperature,1}:\n",
       " 0.0°C\n",
       " 0.0K\n",
       " 273.15K\n",
       " -273.15°C"
      ]
     },
     "execution_count": 51,
     "metadata": {},
     "output_type": "execute_result"
    }
   ],
   "source": [
    "[\n",
    "    convert(Celsius, Celsius(0)),\n",
    "    convert(Kelvin, Kelvin(0)),\n",
    "    convert(Kelvin, Celsius(0)),\n",
    "    convert(Celsius, Kelvin(0))\n",
    "]"
   ]
  },
  {
   "cell_type": "markdown",
   "metadata": {},
   "source": [
    "### Basic arithmetic operations\n",
    "\n",
    "Before defining any arithmetic operation, we must define the right way to deal with cases where we have to deal with temperatures in different temperature scales. To do that, we have to define  `promote_rule` for our types"
   ]
  },
  {
   "cell_type": "code",
   "execution_count": 52,
   "metadata": {},
   "outputs": [
    {
     "data": {
      "text/plain": [
       "2-element Array{Any,1}:\n",
       " Kelvin\n",
       " (0.0K, 0.0K)"
      ]
     },
     "execution_count": 52,
     "metadata": {},
     "output_type": "execute_result"
    }
   ],
   "source": [
    "Base.promote_rule(::Type{Kelvin}, ::Type{Celsius}) = Kelvin\n",
    "\n",
    "[\n",
    "    promote_type(Celsius, Kelvin)\n",
    "    promote(Celsius(-273.15), Kelvin(0))\n",
    "]"
   ]
  },
  {
   "cell_type": "markdown",
   "metadata": {},
   "source": [
    "We can now define basic arithmetic operations in two easy steps as can be seen in the following code"
   ]
  },
  {
   "cell_type": "code",
   "execution_count": 53,
   "metadata": {},
   "outputs": [
    {
     "data": {
      "text/plain": [
       "- (generic function with 176 methods)"
      ]
     },
     "execution_count": 53,
     "metadata": {},
     "output_type": "execute_result"
    }
   ],
   "source": [
    "import Base: +, -, *, /\n",
    "\n",
    "+(x::Temperature, y::Temperature) = +(promote(x,y)...)\n",
    "+(x::T, y::T) where {T<:Temperature} = T(x.value + y.value)\n",
    "\n",
    "-(x::Temperature, y::Temperature) = -(promote(x,y)...)\n",
    "-(x::T, y::T) where {T<:Temperature} = T(x.value - y.value)"
   ]
  },
  {
   "cell_type": "markdown",
   "metadata": {},
   "source": [
    "Now we are able to add and subtract temperatures in different temperature scales"
   ]
  },
  {
   "cell_type": "code",
   "execution_count": 54,
   "metadata": {},
   "outputs": [
    {
     "data": {
      "text/plain": [
       "4-element Array{Kelvin,1}:\n",
       " 0.0K\n",
       " 0.0K\n",
       " 0.0K\n",
       " 0.0K"
      ]
     },
     "execution_count": 54,
     "metadata": {},
     "output_type": "execute_result"
    }
   ],
   "source": [
    "[\n",
    "    Celsius(-273.15) + Kelvin(0),\n",
    "    Kelvin(0) + Celsius(-273.15),\n",
    "    Celsius(-273.15) - Kelvin(0),\n",
    "    Kelvin(0) - Celsius(-273.15)\n",
    "]"
   ]
  },
  {
   "cell_type": "markdown",
   "metadata": {},
   "source": [
    "We can also define the multiplication of temperature by a number and rounding function"
   ]
  },
  {
   "cell_type": "code",
   "execution_count": 55,
   "metadata": {},
   "outputs": [],
   "source": [
    "*(x::Number, y::T) where {T <: Temperature} = T(x * y.value)\n",
    "*(x::T, y::Number) where {T <: Temperature} = T(y * x.value)\n",
    "\n",
    "Base.round(t::T, args...; kwargs...) where {T<:Temperature} = T(round(t.value, args...; kwargs...))"
   ]
  },
  {
   "cell_type": "markdown",
   "metadata": {},
   "source": [
    "In Julia, it is possible to apply given function `f(x)` to each element of an array `A` to yield a new array via `f.(A)`. We can use this syntax to obtain a random temperature vector in degrees Kelvin as follows"
   ]
  },
  {
   "cell_type": "code",
   "execution_count": 56,
   "metadata": {},
   "outputs": [
    {
     "data": {
      "text/plain": [
       "10-element Array{Kelvin,1}:\n",
       " 288.1982985661692K\n",
       " 281.3070076094924K\n",
       " 277.1532737013006K\n",
       " 291.5523107033456K\n",
       " 283.87707492275484K\n",
       " 289.28941044682995K\n",
       " 284.04591738879674K\n",
       " 284.5776106099723K\n",
       " 284.21514378740085K\n",
       " 282.1347598213607K"
      ]
     },
     "execution_count": 56,
     "metadata": {},
     "output_type": "execute_result"
    }
   ],
   "source": [
    "temps_K = Kelvin.(273.15 .+ 20 .* rand(10))"
   ]
  },
  {
   "cell_type": "markdown",
   "metadata": {},
   "source": [
    " In the same way, we can convert this vector to degrees Celsius and round it to two digits"
   ]
  },
  {
   "cell_type": "code",
   "execution_count": 57,
   "metadata": {},
   "outputs": [
    {
     "data": {
      "text/plain": [
       "10-element Array{Celsius,1}:\n",
       " 15.05°C\n",
       " 8.16°C\n",
       " 4.0°C\n",
       " 18.4°C\n",
       " 10.73°C\n",
       " 16.14°C\n",
       " 10.9°C\n",
       " 11.43°C\n",
       " 11.07°C\n",
       " 8.98°C"
      ]
     },
     "execution_count": 57,
     "metadata": {},
     "output_type": "execute_result"
    }
   ],
   "source": [
    "temps_C = round.(Celsius.(temps_K); digits = 2)"
   ]
  },
  {
   "cell_type": "markdown",
   "metadata": {},
   "source": [
    "Finally, we can compute for example the sum of this vector"
   ]
  },
  {
   "cell_type": "code",
   "execution_count": 58,
   "metadata": {},
   "outputs": [
    {
     "data": {
      "text/plain": [
       "114.86°C"
      ]
     },
     "execution_count": 58,
     "metadata": {},
     "output_type": "execute_result"
    }
   ],
   "source": [
    "sum(temps_C)"
   ]
  },
  {
   "cell_type": "markdown",
   "metadata": {},
   "source": [
    "### Adding new temperature scale\n",
    "\n",
    "To add a new temperature scale, we have to:\n",
    "* define new type\n",
    "* extend `Base.show` (otpional)\n",
    "* define outer constructors for `Kelvin` and `Celsius`\n",
    "* define promote rules for `Kelvin` and `Celsius`"
   ]
  },
  {
   "cell_type": "code",
   "execution_count": 59,
   "metadata": {},
   "outputs": [],
   "source": [
    "struct Fahrenheit <: Temperature\n",
    "    value::Float64\n",
    "\n",
    "    function Fahrenheit(x::Real)\n",
    "        x < -459.67 && throw(ArgumentError(\"input temperature smaller than absolute zero\"))\n",
    "        return new(x)\n",
    "    end\n",
    "end\n",
    "\n",
    "Base.show(io::IO, t::Fahrenheit) = print(io, t.value, \"°F\")\n",
    "\n",
    "Celsius(t::Fahrenheit) = Celsius((t.value - 32)*5/9)\n",
    "Fahrenheit(t::Celsius) = Fahrenheit(t.value*9/5 + 32)\n",
    "Kelvin(t::Fahrenheit) = Kelvin(Celsius(t))\n",
    "Fahrenheit(t::Kelvin) = Fahrenheit(Celsius(t))\n",
    "\n",
    "Base.promote_rule(::Type{Fahrenheit}, ::Type{Celsius}) = Celsius\n",
    "Base.promote_rule(::Type{Fahrenheit}, ::Type{Kelvin}) = Kelvin"
   ]
  },
  {
   "cell_type": "markdown",
   "metadata": {},
   "source": [
    "Now all the functions defined for `Kelvin` and `Celsius` will work for `Fahrenheit` as well"
   ]
  },
  {
   "cell_type": "code",
   "execution_count": 60,
   "metadata": {},
   "outputs": [
    {
     "data": {
      "text/plain": [
       "0.0K"
      ]
     },
     "execution_count": 60,
     "metadata": {},
     "output_type": "execute_result"
    }
   ],
   "source": [
    "Temperature[\n",
    "    Fahrenheit(Celsius(0)),\n",
    "    Celsius(Fahrenheit(32)),\n",
    "    Fahrenheit(Kelvin(0)),\n",
    "    Kelvin(Fahrenheit(-459.67)),\n",
    "]\n",
    "\n",
    "Fahrenheit(32) + Celsius(0) - Kelvin(273.15)"
   ]
  },
  {
   "cell_type": "markdown",
   "metadata": {},
   "source": [
    "To obtain even more user-friendly behavior, we can define constants representing 1 degree in each temperature scale"
   ]
  },
  {
   "cell_type": "code",
   "execution_count": 61,
   "metadata": {},
   "outputs": [
    {
     "data": {
      "text/plain": [
       "1.0°F"
      ]
     },
     "execution_count": 61,
     "metadata": {},
     "output_type": "execute_result"
    }
   ],
   "source": [
    "const °C = Celsius(1)\n",
    "const K = Kelvin(1)\n",
    "const °F = Fahrenheit(1)"
   ]
  },
  {
   "cell_type": "markdown",
   "metadata": {},
   "source": [
    " With these constants and the fact, that `*` operator can be omitted in some cases, we can work with temperatures as follows"
   ]
  },
  {
   "cell_type": "code",
   "execution_count": 66,
   "metadata": {},
   "outputs": [
    {
     "data": {
      "text/plain": [
       "22.666666666666686K"
      ]
     },
     "execution_count": 66,
     "metadata": {},
     "output_type": "execute_result"
    }
   ],
   "source": [
    "2°C + 4K - 2°F"
   ]
  },
  {
   "cell_type": "markdown",
   "metadata": {},
   "source": [
    "---\n",
    "\n",
    "*This notebook was generated using [Literate.jl](https://github.com/fredrikekre/Literate.jl).*"
   ]
  }
 ],
 "metadata": {
  "kernelspec": {
   "display_name": "Julia 1.4.2",
   "language": "julia",
   "name": "julia-1.4"
  },
  "language_info": {
   "file_extension": ".jl",
   "mimetype": "application/julia",
   "name": "julia",
   "version": "1.4.2"
  }
 },
 "nbformat": 4,
 "nbformat_minor": 4
}
