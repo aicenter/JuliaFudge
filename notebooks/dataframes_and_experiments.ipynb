{
 "cells": [
  {
   "cell_type": "markdown",
   "metadata": {},
   "source": [
    "### DataFrames basics\n",
    "\n",
    "For a complete overview see the official documentation at `https://juliadata.github.io/DataFrames.jl/stable/`"
   ]
  },
  {
   "cell_type": "code",
   "execution_count": 1,
   "metadata": {},
   "outputs": [],
   "source": [
    "using DataFrames"
   ]
  },
  {
   "cell_type": "markdown",
   "metadata": {},
   "source": [
    "DataFrame construction"
   ]
  },
  {
   "cell_type": "markdown",
   "metadata": {},
   "source": [
    "From an Array"
   ]
  },
  {
   "cell_type": "code",
   "execution_count": 2,
   "metadata": {},
   "outputs": [
    {
     "data": {
      "text/html": [
       "<table class=\"data-frame\"><thead><tr><th></th><th>x1</th><th>x2</th><th>x3</th><th>x4</th></tr><tr><th></th><th>Float64</th><th>Float64</th><th>Float64</th><th>Float64</th></tr></thead><tbody><p>5 rows × 4 columns</p><tr><th>1</th><td>-1.2539</td><td>-0.669164</td><td>0.221726</td><td>-0.275339</td></tr><tr><th>2</th><td>1.16686</td><td>-1.72402</td><td>-0.585281</td><td>-0.847573</td></tr><tr><th>3</th><td>-1.00434</td><td>-1.08028</td><td>-0.199503</td><td>-1.44058</td></tr><tr><th>4</th><td>-1.22948</td><td>1.25691</td><td>0.843868</td><td>0.149301</td></tr><tr><th>5</th><td>-0.186074</td><td>2.50235</td><td>-0.45772</td><td>1.07423</td></tr></tbody></table>"
      ],
      "text/latex": [
       "\\begin{tabular}{r|cccc}\n",
       "\t& x1 & x2 & x3 & x4\\\\\n",
       "\t\\hline\n",
       "\t& Float64 & Float64 & Float64 & Float64\\\\\n",
       "\t\\hline\n",
       "\t1 & -1.2539 & -0.669164 & 0.221726 & -0.275339 \\\\\n",
       "\t2 & 1.16686 & -1.72402 & -0.585281 & -0.847573 \\\\\n",
       "\t3 & -1.00434 & -1.08028 & -0.199503 & -1.44058 \\\\\n",
       "\t4 & -1.22948 & 1.25691 & 0.843868 & 0.149301 \\\\\n",
       "\t5 & -0.186074 & 2.50235 & -0.45772 & 1.07423 \\\\\n",
       "\\end{tabular}\n"
      ],
      "text/plain": [
       "5×4 DataFrame\n",
       "│ Row │ x1        │ x2        │ x3        │ x4        │\n",
       "│     │ \u001b[90mFloat64\u001b[39m   │ \u001b[90mFloat64\u001b[39m   │ \u001b[90mFloat64\u001b[39m   │ \u001b[90mFloat64\u001b[39m   │\n",
       "├─────┼───────────┼───────────┼───────────┼───────────┤\n",
       "│ 1   │ -1.2539   │ -0.669164 │ 0.221726  │ -0.275339 │\n",
       "│ 2   │ 1.16686   │ -1.72402  │ -0.585281 │ -0.847573 │\n",
       "│ 3   │ -1.00434  │ -1.08028  │ -0.199503 │ -1.44058  │\n",
       "│ 4   │ -1.22948  │ 1.25691   │ 0.843868  │ 0.149301  │\n",
       "│ 5   │ -0.186074 │ 2.50235   │ -0.45772  │ 1.07423   │"
      ]
     },
     "execution_count": 2,
     "metadata": {},
     "output_type": "execute_result"
    }
   ],
   "source": [
    "df = DataFrame(randn(5,4))"
   ]
  },
  {
   "cell_type": "markdown",
   "metadata": {},
   "source": [
    "But this makes more sense."
   ]
  },
  {
   "cell_type": "code",
   "execution_count": 3,
   "metadata": {},
   "outputs": [
    {
     "data": {
      "text/html": [
       "<table class=\"data-frame\"><thead><tr><th></th><th>brand</th><th>motor</th><th>doors</th></tr><tr><th></th><th>String</th><th>Float64</th><th>Int64</th></tr></thead><tbody><p>3 rows × 3 columns</p><tr><th>1</th><td>Volvo</td><td>2.0</td><td>3</td></tr><tr><th>2</th><td>Volkswagen</td><td>1.6</td><td>5</td></tr><tr><th>3</th><td>Škoda</td><td>1.3</td><td>5</td></tr></tbody></table>"
      ],
      "text/latex": [
       "\\begin{tabular}{r|ccc}\n",
       "\t& brand & motor & doors\\\\\n",
       "\t\\hline\n",
       "\t& String & Float64 & Int64\\\\\n",
       "\t\\hline\n",
       "\t1 & Volvo & 2.0 & 3 \\\\\n",
       "\t2 & Volkswagen & 1.6 & 5 \\\\\n",
       "\t3 & Škoda & 1.3 & 5 \\\\\n",
       "\\end{tabular}\n"
      ],
      "text/plain": [
       "3×3 DataFrame\n",
       "│ Row │ brand      │ motor   │ doors │\n",
       "│     │ \u001b[90mString\u001b[39m     │ \u001b[90mFloat64\u001b[39m │ \u001b[90mInt64\u001b[39m │\n",
       "├─────┼────────────┼─────────┼───────┤\n",
       "│ 1   │ Volvo      │ 2.0     │ 3     │\n",
       "│ 2   │ Volkswagen │ 1.6     │ 5     │\n",
       "│ 3   │ Škoda      │ 1.3     │ 5     │"
      ]
     },
     "execution_count": 3,
     "metadata": {},
     "output_type": "execute_result"
    }
   ],
   "source": [
    "cars = DataFrame(\n",
    "    brand = [\"Volvo\", \"Volkswagen\", \"Škoda\"], \n",
    "    motor = [2.0, 1.6, 1.3], \n",
    "    doors = [3, 5, 5])"
   ]
  },
  {
   "cell_type": "markdown",
   "metadata": {},
   "source": [
    "indexing like a matrix - not so useful"
   ]
  },
  {
   "cell_type": "code",
   "execution_count": 4,
   "metadata": {},
   "outputs": [
    {
     "data": {
      "text/html": [
       "<table class=\"data-frame\"><thead><tr><th></th><th>brand</th><th>motor</th></tr><tr><th></th><th>String</th><th>Float64</th></tr></thead><tbody><p>2 rows × 2 columns</p><tr><th>1</th><td>Volkswagen</td><td>1.6</td></tr><tr><th>2</th><td>Škoda</td><td>1.3</td></tr></tbody></table>"
      ],
      "text/latex": [
       "\\begin{tabular}{r|cc}\n",
       "\t& brand & motor\\\\\n",
       "\t\\hline\n",
       "\t& String & Float64\\\\\n",
       "\t\\hline\n",
       "\t1 & Volkswagen & 1.6 \\\\\n",
       "\t2 & Škoda & 1.3 \\\\\n",
       "\\end{tabular}\n"
      ],
      "text/plain": [
       "2×2 DataFrame\n",
       "│ Row │ brand      │ motor   │\n",
       "│     │ \u001b[90mString\u001b[39m     │ \u001b[90mFloat64\u001b[39m │\n",
       "├─────┼────────────┼─────────┤\n",
       "│ 1   │ Volkswagen │ 1.6     │\n",
       "│ 2   │ Škoda      │ 1.3     │"
      ]
     },
     "execution_count": 4,
     "metadata": {},
     "output_type": "execute_result"
    }
   ],
   "source": [
    "cars[2:3, 1:2]"
   ]
  },
  {
   "cell_type": "markdown",
   "metadata": {},
   "source": [
    "list of column names - you can use this to iterate over columns"
   ]
  },
  {
   "cell_type": "code",
   "execution_count": 5,
   "metadata": {},
   "outputs": [
    {
     "data": {
      "text/plain": [
       "3-element Array{String,1}:\n",
       " \"brand\"\n",
       " \"motor\"\n",
       " \"doors\""
      ]
     },
     "execution_count": 5,
     "metadata": {},
     "output_type": "execute_result"
    }
   ],
   "source": [
    "names(cars)"
   ]
  },
  {
   "cell_type": "markdown",
   "metadata": {},
   "source": [
    "column names as symbols"
   ]
  },
  {
   "cell_type": "code",
   "execution_count": 6,
   "metadata": {},
   "outputs": [
    {
     "data": {
      "text/plain": [
       "3-element Array{Symbol,1}:\n",
       " :brand\n",
       " :motor\n",
       " :doors"
      ]
     },
     "execution_count": 6,
     "metadata": {},
     "output_type": "execute_result"
    }
   ],
   "source": [
    "propertynames(cars)"
   ]
  },
  {
   "cell_type": "markdown",
   "metadata": {},
   "source": [
    "getting a column - is a vector"
   ]
  },
  {
   "cell_type": "code",
   "execution_count": 7,
   "metadata": {},
   "outputs": [
    {
     "data": {
      "text/plain": [
       "3-element Array{String,1}:\n",
       " \"Volvo\"\n",
       " \"Volkswagen\"\n",
       " \"Škoda\""
      ]
     },
     "execution_count": 7,
     "metadata": {},
     "output_type": "execute_result"
    }
   ],
   "source": [
    "cars.brand"
   ]
  },
  {
   "cell_type": "code",
   "execution_count": 10,
   "metadata": {},
   "outputs": [
    {
     "data": {
      "text/plain": [
       "3-element Array{String,1}:\n",
       " \"Volvo\"\n",
       " \"Volkswagen\"\n",
       " \"Škoda\""
      ]
     },
     "execution_count": 10,
     "metadata": {},
     "output_type": "execute_result"
    }
   ],
   "source": [
    "cars[!,\"brand\"]"
   ]
  },
  {
   "cell_type": "code",
   "execution_count": 11,
   "metadata": {},
   "outputs": [
    {
     "data": {
      "text/plain": [
       "3-element Array{String,1}:\n",
       " \"Volvo\"\n",
       " \"Volkswagen\"\n",
       " \"Škoda\""
      ]
     },
     "execution_count": 11,
     "metadata": {},
     "output_type": "execute_result"
    }
   ],
   "source": [
    "cars[!,:brand]"
   ]
  },
  {
   "cell_type": "code",
   "execution_count": 12,
   "metadata": {},
   "outputs": [
    {
     "data": {
      "text/plain": [
       "3-element Array{Int64,1}:\n",
       " 3\n",
       " 5\n",
       " 5"
      ]
     },
     "execution_count": 12,
     "metadata": {},
     "output_type": "execute_result"
    }
   ],
   "source": [
    "col = :doors\n",
    "cars[!, col]"
   ]
  },
  {
   "cell_type": "markdown",
   "metadata": {},
   "source": [
    "getting multiple columns - is a DataFrame"
   ]
  },
  {
   "cell_type": "code",
   "execution_count": 13,
   "metadata": {},
   "outputs": [
    {
     "data": {
      "text/html": [
       "<table class=\"data-frame\"><thead><tr><th></th><th>brand</th><th>motor</th></tr><tr><th></th><th>String</th><th>Float64</th></tr></thead><tbody><p>3 rows × 2 columns</p><tr><th>1</th><td>Volvo</td><td>2.0</td></tr><tr><th>2</th><td>Volkswagen</td><td>1.6</td></tr><tr><th>3</th><td>Škoda</td><td>1.3</td></tr></tbody></table>"
      ],
      "text/latex": [
       "\\begin{tabular}{r|cc}\n",
       "\t& brand & motor\\\\\n",
       "\t\\hline\n",
       "\t& String & Float64\\\\\n",
       "\t\\hline\n",
       "\t1 & Volvo & 2.0 \\\\\n",
       "\t2 & Volkswagen & 1.6 \\\\\n",
       "\t3 & Škoda & 1.3 \\\\\n",
       "\\end{tabular}\n"
      ],
      "text/plain": [
       "3×2 DataFrame\n",
       "│ Row │ brand      │ motor   │\n",
       "│     │ \u001b[90mString\u001b[39m     │ \u001b[90mFloat64\u001b[39m │\n",
       "├─────┼────────────┼─────────┤\n",
       "│ 1   │ Volvo      │ 2.0     │\n",
       "│ 2   │ Volkswagen │ 1.6     │\n",
       "│ 3   │ Škoda      │ 1.3     │"
      ]
     },
     "execution_count": 13,
     "metadata": {},
     "output_type": "execute_result"
    }
   ],
   "source": [
    "cars[:,[:brand, :motor]]"
   ]
  },
  {
   "cell_type": "code",
   "execution_count": 14,
   "metadata": {},
   "outputs": [
    {
     "data": {
      "text/html": [
       "<table class=\"data-frame\"><thead><tr><th></th><th>motor</th><th>doors</th></tr><tr><th></th><th>Float64</th><th>Int64</th></tr></thead><tbody><p>3 rows × 2 columns</p><tr><th>1</th><td>2.0</td><td>3</td></tr><tr><th>2</th><td>1.6</td><td>5</td></tr><tr><th>3</th><td>1.3</td><td>5</td></tr></tbody></table>"
      ],
      "text/latex": [
       "\\begin{tabular}{r|cc}\n",
       "\t& motor & doors\\\\\n",
       "\t\\hline\n",
       "\t& Float64 & Int64\\\\\n",
       "\t\\hline\n",
       "\t1 & 2.0 & 3 \\\\\n",
       "\t2 & 1.6 & 5 \\\\\n",
       "\t3 & 1.3 & 5 \\\\\n",
       "\\end{tabular}\n"
      ],
      "text/plain": [
       "3×2 DataFrame\n",
       "│ Row │ motor   │ doors │\n",
       "│     │ \u001b[90mFloat64\u001b[39m │ \u001b[90mInt64\u001b[39m │\n",
       "├─────┼─────────┼───────┤\n",
       "│ 1   │ 2.0     │ 3     │\n",
       "│ 2   │ 1.6     │ 5     │\n",
       "│ 3   │ 1.3     │ 5     │"
      ]
     },
     "execution_count": 14,
     "metadata": {},
     "output_type": "execute_result"
    }
   ],
   "source": [
    "cars[:, Not(:brand)]"
   ]
  },
  {
   "cell_type": "markdown",
   "metadata": {},
   "source": [
    "getting a row - is a DataFrameRow"
   ]
  },
  {
   "cell_type": "code",
   "execution_count": 19,
   "metadata": {},
   "outputs": [
    {
     "data": {
      "text/html": [
       "<table class=\"data-frame\"><thead><tr><th></th><th>brand</th><th>motor</th></tr><tr><th></th><th>String</th><th>Float64</th></tr></thead><tbody><p>2 rows × 2 columns</p><tr><th>1</th><td>Volvo</td><td>2.0</td></tr><tr><th>2</th><td>Volkswagen</td><td>1.6</td></tr></tbody></table>"
      ],
      "text/latex": [
       "\\begin{tabular}{r|cc}\n",
       "\t& brand & motor\\\\\n",
       "\t\\hline\n",
       "\t& String & Float64\\\\\n",
       "\t\\hline\n",
       "\t1 & Volvo & 2.0 \\\\\n",
       "\t2 & Volkswagen & 1.6 \\\\\n",
       "\\end{tabular}\n"
      ],
      "text/plain": [
       "2×2 DataFrame\n",
       "│ Row │ brand      │ motor   │\n",
       "│     │ \u001b[90mString\u001b[39m     │ \u001b[90mFloat64\u001b[39m │\n",
       "├─────┼────────────┼─────────┤\n",
       "│ 1   │ Volvo      │ 2.0     │\n",
       "│ 2   │ Volkswagen │ 1.6     │"
      ]
     },
     "execution_count": 19,
     "metadata": {},
     "output_type": "execute_result"
    }
   ],
   "source": [
    "cars[1:2,[:brand, :motor]]"
   ]
  },
  {
   "cell_type": "markdown",
   "metadata": {},
   "source": [
    "multiple rows - is a DataFrame"
   ]
  },
  {
   "cell_type": "code",
   "execution_count": 20,
   "metadata": {},
   "outputs": [
    {
     "data": {
      "text/html": [
       "<table class=\"data-frame\"><thead><tr><th></th><th>brand</th><th>motor</th><th>doors</th></tr><tr><th></th><th>String</th><th>Float64</th><th>Int64</th></tr></thead><tbody><p>2 rows × 3 columns</p><tr><th>1</th><td>Volvo</td><td>2.0</td><td>3</td></tr><tr><th>2</th><td>Volkswagen</td><td>1.6</td><td>5</td></tr></tbody></table>"
      ],
      "text/latex": [
       "\\begin{tabular}{r|ccc}\n",
       "\t& brand & motor & doors\\\\\n",
       "\t\\hline\n",
       "\t& String & Float64 & Int64\\\\\n",
       "\t\\hline\n",
       "\t1 & Volvo & 2.0 & 3 \\\\\n",
       "\t2 & Volkswagen & 1.6 & 5 \\\\\n",
       "\\end{tabular}\n"
      ],
      "text/plain": [
       "2×3 DataFrame\n",
       "│ Row │ brand      │ motor   │ doors │\n",
       "│     │ \u001b[90mString\u001b[39m     │ \u001b[90mFloat64\u001b[39m │ \u001b[90mInt64\u001b[39m │\n",
       "├─────┼────────────┼─────────┼───────┤\n",
       "│ 1   │ Volvo      │ 2.0     │ 3     │\n",
       "│ 2   │ Volkswagen │ 1.6     │ 5     │"
      ]
     },
     "execution_count": 20,
     "metadata": {},
     "output_type": "execute_result"
    }
   ],
   "source": [
    "cars[1:2, :]"
   ]
  },
  {
   "cell_type": "markdown",
   "metadata": {},
   "source": [
    "adding a column to an existing df"
   ]
  },
  {
   "cell_type": "code",
   "execution_count": 21,
   "metadata": {},
   "outputs": [
    {
     "ename": "ArgumentError",
     "evalue": "ArgumentError: column name :country not found in the data frame",
     "output_type": "error",
     "traceback": [
      "ArgumentError: column name :country not found in the data frame",
      "",
      "Stacktrace:",
      " [1] lookupname at /home/vit/.julia/packages/DataFrames/kwVTY/src/other/index.jl:286 [inlined]",
      " [2] getindex at /home/vit/.julia/packages/DataFrames/kwVTY/src/other/index.jl:295 [inlined]",
      " [3] getindex(::DataFrame, ::Colon, ::Symbol) at /home/vit/.julia/packages/DataFrames/kwVTY/src/dataframe/dataframe.jl:421",
      " [4] top-level scope at In[21]:1"
     ]
    }
   ],
   "source": [
    "cars[:,:country]"
   ]
  },
  {
   "cell_type": "code",
   "execution_count": 22,
   "metadata": {},
   "outputs": [
    {
     "data": {
      "text/html": [
       "<table class=\"data-frame\"><thead><tr><th></th><th>brand</th><th>motor</th><th>doors</th><th>country</th></tr><tr><th></th><th>String</th><th>Float64</th><th>Int64</th><th>String</th></tr></thead><tbody><p>3 rows × 4 columns</p><tr><th>1</th><td>Volvo</td><td>2.0</td><td>3</td><td>Sweden</td></tr><tr><th>2</th><td>Volkswagen</td><td>1.6</td><td>5</td><td>Germany</td></tr><tr><th>3</th><td>Škoda</td><td>1.3</td><td>5</td><td>Czech Republic</td></tr></tbody></table>"
      ],
      "text/latex": [
       "\\begin{tabular}{r|cccc}\n",
       "\t& brand & motor & doors & country\\\\\n",
       "\t\\hline\n",
       "\t& String & Float64 & Int64 & String\\\\\n",
       "\t\\hline\n",
       "\t1 & Volvo & 2.0 & 3 & Sweden \\\\\n",
       "\t2 & Volkswagen & 1.6 & 5 & Germany \\\\\n",
       "\t3 & Škoda & 1.3 & 5 & Czech Republic \\\\\n",
       "\\end{tabular}\n"
      ],
      "text/plain": [
       "3×4 DataFrame\n",
       "│ Row │ brand      │ motor   │ doors │ country        │\n",
       "│     │ \u001b[90mString\u001b[39m     │ \u001b[90mFloat64\u001b[39m │ \u001b[90mInt64\u001b[39m │ \u001b[90mString\u001b[39m         │\n",
       "├─────┼────────────┼─────────┼───────┼────────────────┤\n",
       "│ 1   │ Volvo      │ 2.0     │ 3     │ Sweden         │\n",
       "│ 2   │ Volkswagen │ 1.6     │ 5     │ Germany        │\n",
       "│ 3   │ Škoda      │ 1.3     │ 5     │ Czech Republic │"
      ]
     },
     "execution_count": 22,
     "metadata": {},
     "output_type": "execute_result"
    }
   ],
   "source": [
    "cars[:,:country] = [\"Sweden\", \"Germany\", \"Czech Republic\"];\n",
    "cars"
   ]
  },
  {
   "cell_type": "markdown",
   "metadata": {},
   "source": [
    "adding a row to an existing df"
   ]
  },
  {
   "cell_type": "code",
   "execution_count": 23,
   "metadata": {},
   "outputs": [
    {
     "data": {
      "text/plain": [
       "3-element Array{Int64,1}:\n",
       " 1\n",
       " 2\n",
       " 3"
      ]
     },
     "execution_count": 23,
     "metadata": {},
     "output_type": "execute_result"
    }
   ],
   "source": [
    "a = [1,2,3]"
   ]
  },
  {
   "cell_type": "code",
   "execution_count": 24,
   "metadata": {},
   "outputs": [
    {
     "data": {
      "text/plain": [
       "4-element Array{Int64,1}:\n",
       " 1\n",
       " 2\n",
       " 3\n",
       " 4"
      ]
     },
     "execution_count": 24,
     "metadata": {},
     "output_type": "execute_result"
    }
   ],
   "source": [
    "push!(a, 4)"
   ]
  },
  {
   "cell_type": "code",
   "execution_count": 25,
   "metadata": {},
   "outputs": [
    {
     "data": {
      "text/plain": [
       "4-element Array{Int64,1}:\n",
       " 1\n",
       " 2\n",
       " 3\n",
       " 4"
      ]
     },
     "execution_count": 25,
     "metadata": {},
     "output_type": "execute_result"
    }
   ],
   "source": [
    "a"
   ]
  },
  {
   "cell_type": "code",
   "execution_count": 26,
   "metadata": {},
   "outputs": [
    {
     "data": {
      "text/html": [
       "<table class=\"data-frame\"><thead><tr><th></th><th>brand</th><th>motor</th><th>doors</th><th>country</th></tr><tr><th></th><th>String</th><th>Float64</th><th>Int64</th><th>String</th></tr></thead><tbody><p>5 rows × 4 columns</p><tr><th>1</th><td>Volvo</td><td>2.0</td><td>3</td><td>Sweden</td></tr><tr><th>2</th><td>Volkswagen</td><td>1.6</td><td>5</td><td>Germany</td></tr><tr><th>3</th><td>Škoda</td><td>1.3</td><td>5</td><td>Czech Republic</td></tr><tr><th>4</th><td>Fiat</td><td>1.0</td><td>3</td><td>Italy</td></tr><tr><th>5</th><td>Chrysler</td><td>2.4</td><td>5</td><td>USA</td></tr></tbody></table>"
      ],
      "text/latex": [
       "\\begin{tabular}{r|cccc}\n",
       "\t& brand & motor & doors & country\\\\\n",
       "\t\\hline\n",
       "\t& String & Float64 & Int64 & String\\\\\n",
       "\t\\hline\n",
       "\t1 & Volvo & 2.0 & 3 & Sweden \\\\\n",
       "\t2 & Volkswagen & 1.6 & 5 & Germany \\\\\n",
       "\t3 & Škoda & 1.3 & 5 & Czech Republic \\\\\n",
       "\t4 & Fiat & 1.0 & 3 & Italy \\\\\n",
       "\t5 & Chrysler & 2.4 & 5 & USA \\\\\n",
       "\\end{tabular}\n"
      ],
      "text/plain": [
       "5×4 DataFrame\n",
       "│ Row │ brand      │ motor   │ doors │ country        │\n",
       "│     │ \u001b[90mString\u001b[39m     │ \u001b[90mFloat64\u001b[39m │ \u001b[90mInt64\u001b[39m │ \u001b[90mString\u001b[39m         │\n",
       "├─────┼────────────┼─────────┼───────┼────────────────┤\n",
       "│ 1   │ Volvo      │ 2.0     │ 3     │ Sweden         │\n",
       "│ 2   │ Volkswagen │ 1.6     │ 5     │ Germany        │\n",
       "│ 3   │ Škoda      │ 1.3     │ 5     │ Czech Republic │\n",
       "│ 4   │ Fiat       │ 1.0     │ 3     │ Italy          │\n",
       "│ 5   │ Chrysler   │ 2.4     │ 5     │ USA            │"
      ]
     },
     "execution_count": 26,
     "metadata": {},
     "output_type": "execute_result"
    }
   ],
   "source": [
    "push!(cars, [\"Fiat\", 1.0, 3, \"Italy\"])\n",
    "push!(cars, [\"Chrysler\", 2.4, 5, \"USA\"])"
   ]
  },
  {
   "cell_type": "markdown",
   "metadata": {},
   "source": [
    "produces a df that contains a summary for columns of the argument"
   ]
  },
  {
   "cell_type": "code",
   "execution_count": 27,
   "metadata": {},
   "outputs": [
    {
     "data": {
      "text/html": [
       "<table class=\"data-frame\"><thead><tr><th></th><th>variable</th><th>mean</th><th>min</th><th>median</th><th>max</th><th>nunique</th><th>nmissing</th><th>eltype</th></tr><tr><th></th><th>Symbol</th><th>Union…</th><th>Any</th><th>Union…</th><th>Any</th><th>Union…</th><th>Nothing</th><th>DataType</th></tr></thead><tbody><p>4 rows × 8 columns</p><tr><th>1</th><td>brand</td><td></td><td>Chrysler</td><td></td><td>Škoda</td><td>5</td><td></td><td>String</td></tr><tr><th>2</th><td>motor</td><td>1.66</td><td>1.0</td><td>1.6</td><td>2.4</td><td></td><td></td><td>Float64</td></tr><tr><th>3</th><td>doors</td><td>4.2</td><td>3</td><td>5.0</td><td>5</td><td></td><td></td><td>Int64</td></tr><tr><th>4</th><td>country</td><td></td><td>Czech Republic</td><td></td><td>USA</td><td>5</td><td></td><td>String</td></tr></tbody></table>"
      ],
      "text/latex": [
       "\\begin{tabular}{r|cccccccc}\n",
       "\t& variable & mean & min & median & max & nunique & nmissing & eltype\\\\\n",
       "\t\\hline\n",
       "\t& Symbol & Union… & Any & Union… & Any & Union… & Nothing & DataType\\\\\n",
       "\t\\hline\n",
       "\t1 & brand &  & Chrysler &  & Škoda & 5 &  & String \\\\\n",
       "\t2 & motor & 1.66 & 1.0 & 1.6 & 2.4 &  &  & Float64 \\\\\n",
       "\t3 & doors & 4.2 & 3 & 5.0 & 5 &  &  & Int64 \\\\\n",
       "\t4 & country &  & Czech Republic &  & USA & 5 &  & String \\\\\n",
       "\\end{tabular}\n"
      ],
      "text/plain": [
       "4×8 DataFrame. Omitted printing of 2 columns\n",
       "│ Row │ variable │ mean   │ min            │ median │ max   │ nunique │\n",
       "│     │ \u001b[90mSymbol\u001b[39m   │ \u001b[90mUnion…\u001b[39m │ \u001b[90mAny\u001b[39m            │ \u001b[90mUnion…\u001b[39m │ \u001b[90mAny\u001b[39m   │ \u001b[90mUnion…\u001b[39m  │\n",
       "├─────┼──────────┼────────┼────────────────┼────────┼───────┼─────────┤\n",
       "│ 1   │ brand    │        │ Chrysler       │        │ Škoda │ 5       │\n",
       "│ 2   │ motor    │ 1.66   │ 1.0            │ 1.6    │ 2.4   │         │\n",
       "│ 3   │ doors    │ 4.2    │ 3              │ 5.0    │ 5     │         │\n",
       "│ 4   │ country  │        │ Czech Republic │        │ USA   │ 5       │"
      ]
     },
     "execution_count": 27,
     "metadata": {},
     "output_type": "execute_result"
    }
   ],
   "source": [
    "describe(cars)"
   ]
  },
  {
   "cell_type": "code",
   "execution_count": 29,
   "metadata": {},
   "outputs": [
    {
     "name": "stdout",
     "output_type": "stream",
     "text": [
      "Volvo\n",
      "2.0\n",
      "3\n",
      "Sweden\n"
     ]
    }
   ],
   "source": [
    "for col in names(cars)\n",
    "    println(cars[1,col])\n",
    "end"
   ]
  },
  {
   "cell_type": "markdown",
   "metadata": {},
   "source": [
    "Iterating over rows of a DataFrame"
   ]
  },
  {
   "cell_type": "code",
   "execution_count": 31,
   "metadata": {},
   "outputs": [
    {
     "data": {
      "text/plain": [
       "car_description (generic function with 1 method)"
      ]
     },
     "execution_count": 31,
     "metadata": {},
     "output_type": "execute_result"
    }
   ],
   "source": [
    "car_description(r::DataFrameRow) = println(\"A $(r.brand) with $(r.doors) doors and a $(r.motor)l motor.\")"
   ]
  },
  {
   "cell_type": "code",
   "execution_count": 32,
   "metadata": {},
   "outputs": [
    {
     "name": "stdout",
     "output_type": "stream",
     "text": [
      "A Volvo with 3 doors and a 2.0l motor.\n",
      "A Volkswagen with 5 doors and a 1.6l motor.\n",
      "A Škoda with 5 doors and a 1.3l motor.\n",
      "A Fiat with 3 doors and a 1.0l motor.\n",
      "A Chrysler with 5 doors and a 2.4l motor.\n"
     ]
    }
   ],
   "source": [
    "car_description.(eachrow(cars));"
   ]
  },
  {
   "cell_type": "markdown",
   "metadata": {},
   "source": [
    "#### A small join example"
   ]
  },
  {
   "cell_type": "code",
   "execution_count": 33,
   "metadata": {},
   "outputs": [
    {
     "data": {
      "text/html": [
       "<table class=\"data-frame\"><thead><tr><th></th><th>parent</th><th>brand</th></tr><tr><th></th><th>String</th><th>String</th></tr></thead><tbody><p>5 rows × 2 columns</p><tr><th>1</th><td>Fiat</td><td>Fiat</td></tr><tr><th>2</th><td>Volkswagen</td><td>Volkswagen</td></tr><tr><th>3</th><td>Volkswagen</td><td>Škoda</td></tr><tr><th>4</th><td>Geely</td><td>Volvo</td></tr><tr><th>5</th><td>Fiat</td><td>Chrysler</td></tr></tbody></table>"
      ],
      "text/latex": [
       "\\begin{tabular}{r|cc}\n",
       "\t& parent & brand\\\\\n",
       "\t\\hline\n",
       "\t& String & String\\\\\n",
       "\t\\hline\n",
       "\t1 & Fiat & Fiat \\\\\n",
       "\t2 & Volkswagen & Volkswagen \\\\\n",
       "\t3 & Volkswagen & Škoda \\\\\n",
       "\t4 & Geely & Volvo \\\\\n",
       "\t5 & Fiat & Chrysler \\\\\n",
       "\\end{tabular}\n"
      ],
      "text/plain": [
       "5×2 DataFrame\n",
       "│ Row │ parent     │ brand      │\n",
       "│     │ \u001b[90mString\u001b[39m     │ \u001b[90mString\u001b[39m     │\n",
       "├─────┼────────────┼────────────┤\n",
       "│ 1   │ Fiat       │ Fiat       │\n",
       "│ 2   │ Volkswagen │ Volkswagen │\n",
       "│ 3   │ Volkswagen │ Škoda      │\n",
       "│ 4   │ Geely      │ Volvo      │\n",
       "│ 5   │ Fiat       │ Chrysler   │"
      ]
     },
     "execution_count": 33,
     "metadata": {},
     "output_type": "execute_result"
    }
   ],
   "source": [
    "brands = DataFrame(parent = [\"Fiat\", \"Volkswagen\", \"Volkswagen\", \"Geely\", \"Fiat\"], brand = [\"Fiat\", \"Volkswagen\", \"Škoda\", \"Volvo\", \"Chrysler\"])"
   ]
  },
  {
   "cell_type": "code",
   "execution_count": 34,
   "metadata": {},
   "outputs": [
    {
     "data": {
      "text/html": [
       "<table class=\"data-frame\"><thead><tr><th></th><th>brand</th><th>motor</th><th>doors</th><th>country</th></tr><tr><th></th><th>String</th><th>Float64</th><th>Int64</th><th>String</th></tr></thead><tbody><p>5 rows × 4 columns</p><tr><th>1</th><td>Volvo</td><td>2.0</td><td>3</td><td>Sweden</td></tr><tr><th>2</th><td>Volkswagen</td><td>1.6</td><td>5</td><td>Germany</td></tr><tr><th>3</th><td>Škoda</td><td>1.3</td><td>5</td><td>Czech Republic</td></tr><tr><th>4</th><td>Fiat</td><td>1.0</td><td>3</td><td>Italy</td></tr><tr><th>5</th><td>Chrysler</td><td>2.4</td><td>5</td><td>USA</td></tr></tbody></table>"
      ],
      "text/latex": [
       "\\begin{tabular}{r|cccc}\n",
       "\t& brand & motor & doors & country\\\\\n",
       "\t\\hline\n",
       "\t& String & Float64 & Int64 & String\\\\\n",
       "\t\\hline\n",
       "\t1 & Volvo & 2.0 & 3 & Sweden \\\\\n",
       "\t2 & Volkswagen & 1.6 & 5 & Germany \\\\\n",
       "\t3 & Škoda & 1.3 & 5 & Czech Republic \\\\\n",
       "\t4 & Fiat & 1.0 & 3 & Italy \\\\\n",
       "\t5 & Chrysler & 2.4 & 5 & USA \\\\\n",
       "\\end{tabular}\n"
      ],
      "text/plain": [
       "5×4 DataFrame\n",
       "│ Row │ brand      │ motor   │ doors │ country        │\n",
       "│     │ \u001b[90mString\u001b[39m     │ \u001b[90mFloat64\u001b[39m │ \u001b[90mInt64\u001b[39m │ \u001b[90mString\u001b[39m         │\n",
       "├─────┼────────────┼─────────┼───────┼────────────────┤\n",
       "│ 1   │ Volvo      │ 2.0     │ 3     │ Sweden         │\n",
       "│ 2   │ Volkswagen │ 1.6     │ 5     │ Germany        │\n",
       "│ 3   │ Škoda      │ 1.3     │ 5     │ Czech Republic │\n",
       "│ 4   │ Fiat       │ 1.0     │ 3     │ Italy          │\n",
       "│ 5   │ Chrysler   │ 2.4     │ 5     │ USA            │"
      ]
     },
     "execution_count": 34,
     "metadata": {},
     "output_type": "execute_result"
    }
   ],
   "source": [
    "cars"
   ]
  },
  {
   "cell_type": "code",
   "execution_count": 35,
   "metadata": {},
   "outputs": [
    {
     "data": {
      "text/html": [
       "<table class=\"data-frame\"><thead><tr><th></th><th>brand</th><th>motor</th><th>doors</th><th>country</th><th>parent</th></tr><tr><th></th><th>String</th><th>Float64</th><th>Int64</th><th>String</th><th>String?</th></tr></thead><tbody><p>5 rows × 5 columns</p><tr><th>1</th><td>Volvo</td><td>2.0</td><td>3</td><td>Sweden</td><td>Geely</td></tr><tr><th>2</th><td>Volkswagen</td><td>1.6</td><td>5</td><td>Germany</td><td>Volkswagen</td></tr><tr><th>3</th><td>Škoda</td><td>1.3</td><td>5</td><td>Czech Republic</td><td>Volkswagen</td></tr><tr><th>4</th><td>Fiat</td><td>1.0</td><td>3</td><td>Italy</td><td>Fiat</td></tr><tr><th>5</th><td>Chrysler</td><td>2.4</td><td>5</td><td>USA</td><td>Fiat</td></tr></tbody></table>"
      ],
      "text/latex": [
       "\\begin{tabular}{r|ccccc}\n",
       "\t& brand & motor & doors & country & parent\\\\\n",
       "\t\\hline\n",
       "\t& String & Float64 & Int64 & String & String?\\\\\n",
       "\t\\hline\n",
       "\t1 & Volvo & 2.0 & 3 & Sweden & Geely \\\\\n",
       "\t2 & Volkswagen & 1.6 & 5 & Germany & Volkswagen \\\\\n",
       "\t3 & Škoda & 1.3 & 5 & Czech Republic & Volkswagen \\\\\n",
       "\t4 & Fiat & 1.0 & 3 & Italy & Fiat \\\\\n",
       "\t5 & Chrysler & 2.4 & 5 & USA & Fiat \\\\\n",
       "\\end{tabular}\n"
      ],
      "text/plain": [
       "5×5 DataFrame\n",
       "│ Row │ brand      │ motor   │ doors │ country        │ parent     │\n",
       "│     │ \u001b[90mString\u001b[39m     │ \u001b[90mFloat64\u001b[39m │ \u001b[90mInt64\u001b[39m │ \u001b[90mString\u001b[39m         │ \u001b[90mString?\u001b[39m    │\n",
       "├─────┼────────────┼─────────┼───────┼────────────────┼────────────┤\n",
       "│ 1   │ Volvo      │ 2.0     │ 3     │ Sweden         │ Geely      │\n",
       "│ 2   │ Volkswagen │ 1.6     │ 5     │ Germany        │ Volkswagen │\n",
       "│ 3   │ Škoda      │ 1.3     │ 5     │ Czech Republic │ Volkswagen │\n",
       "│ 4   │ Fiat       │ 1.0     │ 3     │ Italy          │ Fiat       │\n",
       "│ 5   │ Chrysler   │ 2.4     │ 5     │ USA            │ Fiat       │"
      ]
     },
     "execution_count": 35,
     "metadata": {},
     "output_type": "execute_result"
    }
   ],
   "source": [
    "cars = leftjoin(cars, brands, on = :brand)"
   ]
  },
  {
   "cell_type": "markdown",
   "metadata": {},
   "source": [
    "Sorting"
   ]
  },
  {
   "cell_type": "code",
   "execution_count": 36,
   "metadata": {},
   "outputs": [
    {
     "data": {
      "text/html": [
       "<table class=\"data-frame\"><thead><tr><th></th><th>brand</th><th>motor</th><th>doors</th><th>country</th><th>parent</th></tr><tr><th></th><th>String</th><th>Float64</th><th>Int64</th><th>String</th><th>String?</th></tr></thead><tbody><p>5 rows × 5 columns</p><tr><th>1</th><td>Fiat</td><td>1.0</td><td>3</td><td>Italy</td><td>Fiat</td></tr><tr><th>2</th><td>Škoda</td><td>1.3</td><td>5</td><td>Czech Republic</td><td>Volkswagen</td></tr><tr><th>3</th><td>Volkswagen</td><td>1.6</td><td>5</td><td>Germany</td><td>Volkswagen</td></tr><tr><th>4</th><td>Volvo</td><td>2.0</td><td>3</td><td>Sweden</td><td>Geely</td></tr><tr><th>5</th><td>Chrysler</td><td>2.4</td><td>5</td><td>USA</td><td>Fiat</td></tr></tbody></table>"
      ],
      "text/latex": [
       "\\begin{tabular}{r|ccccc}\n",
       "\t& brand & motor & doors & country & parent\\\\\n",
       "\t\\hline\n",
       "\t& String & Float64 & Int64 & String & String?\\\\\n",
       "\t\\hline\n",
       "\t1 & Fiat & 1.0 & 3 & Italy & Fiat \\\\\n",
       "\t2 & Škoda & 1.3 & 5 & Czech Republic & Volkswagen \\\\\n",
       "\t3 & Volkswagen & 1.6 & 5 & Germany & Volkswagen \\\\\n",
       "\t4 & Volvo & 2.0 & 3 & Sweden & Geely \\\\\n",
       "\t5 & Chrysler & 2.4 & 5 & USA & Fiat \\\\\n",
       "\\end{tabular}\n"
      ],
      "text/plain": [
       "5×5 DataFrame\n",
       "│ Row │ brand      │ motor   │ doors │ country        │ parent     │\n",
       "│     │ \u001b[90mString\u001b[39m     │ \u001b[90mFloat64\u001b[39m │ \u001b[90mInt64\u001b[39m │ \u001b[90mString\u001b[39m         │ \u001b[90mString?\u001b[39m    │\n",
       "├─────┼────────────┼─────────┼───────┼────────────────┼────────────┤\n",
       "│ 1   │ Fiat       │ 1.0     │ 3     │ Italy          │ Fiat       │\n",
       "│ 2   │ Škoda      │ 1.3     │ 5     │ Czech Republic │ Volkswagen │\n",
       "│ 3   │ Volkswagen │ 1.6     │ 5     │ Germany        │ Volkswagen │\n",
       "│ 4   │ Volvo      │ 2.0     │ 3     │ Sweden         │ Geely      │\n",
       "│ 5   │ Chrysler   │ 2.4     │ 5     │ USA            │ Fiat       │"
      ]
     },
     "execution_count": 36,
     "metadata": {},
     "output_type": "execute_result"
    }
   ],
   "source": [
    "sort(cars, :motor)"
   ]
  },
  {
   "cell_type": "code",
   "execution_count": 37,
   "metadata": {},
   "outputs": [
    {
     "data": {
      "text/html": [
       "<table class=\"data-frame\"><thead><tr><th></th><th>brand</th><th>motor</th><th>doors</th><th>country</th><th>parent</th></tr><tr><th></th><th>String</th><th>Float64</th><th>Int64</th><th>String</th><th>String?</th></tr></thead><tbody><p>5 rows × 5 columns</p><tr><th>1</th><td>Chrysler</td><td>2.4</td><td>5</td><td>USA</td><td>Fiat</td></tr><tr><th>2</th><td>Volkswagen</td><td>1.6</td><td>5</td><td>Germany</td><td>Volkswagen</td></tr><tr><th>3</th><td>Škoda</td><td>1.3</td><td>5</td><td>Czech Republic</td><td>Volkswagen</td></tr><tr><th>4</th><td>Volvo</td><td>2.0</td><td>3</td><td>Sweden</td><td>Geely</td></tr><tr><th>5</th><td>Fiat</td><td>1.0</td><td>3</td><td>Italy</td><td>Fiat</td></tr></tbody></table>"
      ],
      "text/latex": [
       "\\begin{tabular}{r|ccccc}\n",
       "\t& brand & motor & doors & country & parent\\\\\n",
       "\t\\hline\n",
       "\t& String & Float64 & Int64 & String & String?\\\\\n",
       "\t\\hline\n",
       "\t1 & Chrysler & 2.4 & 5 & USA & Fiat \\\\\n",
       "\t2 & Volkswagen & 1.6 & 5 & Germany & Volkswagen \\\\\n",
       "\t3 & Škoda & 1.3 & 5 & Czech Republic & Volkswagen \\\\\n",
       "\t4 & Volvo & 2.0 & 3 & Sweden & Geely \\\\\n",
       "\t5 & Fiat & 1.0 & 3 & Italy & Fiat \\\\\n",
       "\\end{tabular}\n"
      ],
      "text/plain": [
       "5×5 DataFrame\n",
       "│ Row │ brand      │ motor   │ doors │ country        │ parent     │\n",
       "│     │ \u001b[90mString\u001b[39m     │ \u001b[90mFloat64\u001b[39m │ \u001b[90mInt64\u001b[39m │ \u001b[90mString\u001b[39m         │ \u001b[90mString?\u001b[39m    │\n",
       "├─────┼────────────┼─────────┼───────┼────────────────┼────────────┤\n",
       "│ 1   │ Chrysler   │ 2.4     │ 5     │ USA            │ Fiat       │\n",
       "│ 2   │ Volkswagen │ 1.6     │ 5     │ Germany        │ Volkswagen │\n",
       "│ 3   │ Škoda      │ 1.3     │ 5     │ Czech Republic │ Volkswagen │\n",
       "│ 4   │ Volvo      │ 2.0     │ 3     │ Sweden         │ Geely      │\n",
       "│ 5   │ Fiat       │ 1.0     │ 3     │ Italy          │ Fiat       │"
      ]
     },
     "execution_count": 37,
     "metadata": {},
     "output_type": "execute_result"
    }
   ],
   "source": [
    "sort(cars, [:doors, :motor], rev=true)"
   ]
  },
  {
   "cell_type": "markdown",
   "metadata": {},
   "source": [
    "Filtering"
   ]
  },
  {
   "cell_type": "code",
   "execution_count": 38,
   "metadata": {},
   "outputs": [
    {
     "data": {
      "text/html": [
       "<table class=\"data-frame\"><thead><tr><th></th><th>brand</th><th>motor</th><th>doors</th><th>country</th><th>parent</th></tr><tr><th></th><th>String</th><th>Float64</th><th>Int64</th><th>String</th><th>String?</th></tr></thead><tbody><p>2 rows × 5 columns</p><tr><th>1</th><td>Volkswagen</td><td>1.6</td><td>5</td><td>Germany</td><td>Volkswagen</td></tr><tr><th>2</th><td>Škoda</td><td>1.3</td><td>5</td><td>Czech Republic</td><td>Volkswagen</td></tr></tbody></table>"
      ],
      "text/latex": [
       "\\begin{tabular}{r|ccccc}\n",
       "\t& brand & motor & doors & country & parent\\\\\n",
       "\t\\hline\n",
       "\t& String & Float64 & Int64 & String & String?\\\\\n",
       "\t\\hline\n",
       "\t1 & Volkswagen & 1.6 & 5 & Germany & Volkswagen \\\\\n",
       "\t2 & Škoda & 1.3 & 5 & Czech Republic & Volkswagen \\\\\n",
       "\\end{tabular}\n"
      ],
      "text/plain": [
       "2×5 DataFrame\n",
       "│ Row │ brand      │ motor   │ doors │ country        │ parent     │\n",
       "│     │ \u001b[90mString\u001b[39m     │ \u001b[90mFloat64\u001b[39m │ \u001b[90mInt64\u001b[39m │ \u001b[90mString\u001b[39m         │ \u001b[90mString?\u001b[39m    │\n",
       "├─────┼────────────┼─────────┼───────┼────────────────┼────────────┤\n",
       "│ 1   │ Volkswagen │ 1.6     │ 5     │ Germany        │ Volkswagen │\n",
       "│ 2   │ Škoda      │ 1.3     │ 5     │ Czech Republic │ Volkswagen │"
      ]
     },
     "execution_count": 38,
     "metadata": {},
     "output_type": "execute_result"
    }
   ],
   "source": [
    "filter(r -> r[:doors] > 3 && r[:motor] < 2, cars)"
   ]
  },
  {
   "cell_type": "code",
   "execution_count": 39,
   "metadata": {},
   "outputs": [
    {
     "data": {
      "text/html": [
       "<table class=\"data-frame\"><thead><tr><th></th><th>brand</th><th>motor</th><th>doors</th><th>country</th><th>parent</th></tr><tr><th></th><th>String</th><th>Float64</th><th>Int64</th><th>String</th><th>String?</th></tr></thead><tbody><p>5 rows × 5 columns</p><tr><th>1</th><td>Volvo</td><td>2.0</td><td>3</td><td>Sweden</td><td>Geely</td></tr><tr><th>2</th><td>Volkswagen</td><td>1.6</td><td>5</td><td>Germany</td><td>Volkswagen</td></tr><tr><th>3</th><td>Škoda</td><td>1.3</td><td>5</td><td>Czech Republic</td><td>Volkswagen</td></tr><tr><th>4</th><td>Fiat</td><td>1.0</td><td>3</td><td>Italy</td><td>Fiat</td></tr><tr><th>5</th><td>Chrysler</td><td>2.4</td><td>5</td><td>USA</td><td>Fiat</td></tr></tbody></table>"
      ],
      "text/latex": [
       "\\begin{tabular}{r|ccccc}\n",
       "\t& brand & motor & doors & country & parent\\\\\n",
       "\t\\hline\n",
       "\t& String & Float64 & Int64 & String & String?\\\\\n",
       "\t\\hline\n",
       "\t1 & Volvo & 2.0 & 3 & Sweden & Geely \\\\\n",
       "\t2 & Volkswagen & 1.6 & 5 & Germany & Volkswagen \\\\\n",
       "\t3 & Škoda & 1.3 & 5 & Czech Republic & Volkswagen \\\\\n",
       "\t4 & Fiat & 1.0 & 3 & Italy & Fiat \\\\\n",
       "\t5 & Chrysler & 2.4 & 5 & USA & Fiat \\\\\n",
       "\\end{tabular}\n"
      ],
      "text/plain": [
       "5×5 DataFrame\n",
       "│ Row │ brand      │ motor   │ doors │ country        │ parent     │\n",
       "│     │ \u001b[90mString\u001b[39m     │ \u001b[90mFloat64\u001b[39m │ \u001b[90mInt64\u001b[39m │ \u001b[90mString\u001b[39m         │ \u001b[90mString?\u001b[39m    │\n",
       "├─────┼────────────┼─────────┼───────┼────────────────┼────────────┤\n",
       "│ 1   │ Volvo      │ 2.0     │ 3     │ Sweden         │ Geely      │\n",
       "│ 2   │ Volkswagen │ 1.6     │ 5     │ Germany        │ Volkswagen │\n",
       "│ 3   │ Škoda      │ 1.3     │ 5     │ Czech Republic │ Volkswagen │\n",
       "│ 4   │ Fiat       │ 1.0     │ 3     │ Italy          │ Fiat       │\n",
       "│ 5   │ Chrysler   │ 2.4     │ 5     │ USA            │ Fiat       │"
      ]
     },
     "execution_count": 39,
     "metadata": {},
     "output_type": "execute_result"
    }
   ],
   "source": [
    "cars"
   ]
  },
  {
   "cell_type": "code",
   "execution_count": 40,
   "metadata": {},
   "outputs": [
    {
     "data": {
      "text/html": [
       "<table class=\"data-frame\"><thead><tr><th></th><th>brand</th><th>motor</th><th>doors</th><th>country</th><th>parent</th></tr><tr><th></th><th>String</th><th>Float64</th><th>Int64</th><th>String</th><th>String?</th></tr></thead><tbody><p>2 rows × 5 columns</p><tr><th>1</th><td>Volkswagen</td><td>1.6</td><td>5</td><td>Germany</td><td>Volkswagen</td></tr><tr><th>2</th><td>Škoda</td><td>1.3</td><td>5</td><td>Czech Republic</td><td>Volkswagen</td></tr></tbody></table>"
      ],
      "text/latex": [
       "\\begin{tabular}{r|ccccc}\n",
       "\t& brand & motor & doors & country & parent\\\\\n",
       "\t\\hline\n",
       "\t& String & Float64 & Int64 & String & String?\\\\\n",
       "\t\\hline\n",
       "\t1 & Volkswagen & 1.6 & 5 & Germany & Volkswagen \\\\\n",
       "\t2 & Škoda & 1.3 & 5 & Czech Republic & Volkswagen \\\\\n",
       "\\end{tabular}\n"
      ],
      "text/plain": [
       "2×5 DataFrame\n",
       "│ Row │ brand      │ motor   │ doors │ country        │ parent     │\n",
       "│     │ \u001b[90mString\u001b[39m     │ \u001b[90mFloat64\u001b[39m │ \u001b[90mInt64\u001b[39m │ \u001b[90mString\u001b[39m         │ \u001b[90mString?\u001b[39m    │\n",
       "├─────┼────────────┼─────────┼───────┼────────────────┼────────────┤\n",
       "│ 1   │ Volkswagen │ 1.6     │ 5     │ Germany        │ Volkswagen │\n",
       "│ 2   │ Škoda      │ 1.3     │ 5     │ Czech Republic │ Volkswagen │"
      ]
     },
     "execution_count": 40,
     "metadata": {},
     "output_type": "execute_result"
    }
   ],
   "source": [
    "filter!(r -> r[:doors] > 3 && r[:motor] < 2, cars)"
   ]
  },
  {
   "cell_type": "code",
   "execution_count": 41,
   "metadata": {},
   "outputs": [
    {
     "data": {
      "text/html": [
       "<table class=\"data-frame\"><thead><tr><th></th><th>brand</th><th>motor</th><th>doors</th><th>country</th><th>parent</th></tr><tr><th></th><th>String</th><th>Float64</th><th>Int64</th><th>String</th><th>String?</th></tr></thead><tbody><p>2 rows × 5 columns</p><tr><th>1</th><td>Volkswagen</td><td>1.6</td><td>5</td><td>Germany</td><td>Volkswagen</td></tr><tr><th>2</th><td>Škoda</td><td>1.3</td><td>5</td><td>Czech Republic</td><td>Volkswagen</td></tr></tbody></table>"
      ],
      "text/latex": [
       "\\begin{tabular}{r|ccccc}\n",
       "\t& brand & motor & doors & country & parent\\\\\n",
       "\t\\hline\n",
       "\t& String & Float64 & Int64 & String & String?\\\\\n",
       "\t\\hline\n",
       "\t1 & Volkswagen & 1.6 & 5 & Germany & Volkswagen \\\\\n",
       "\t2 & Škoda & 1.3 & 5 & Czech Republic & Volkswagen \\\\\n",
       "\\end{tabular}\n"
      ],
      "text/plain": [
       "2×5 DataFrame\n",
       "│ Row │ brand      │ motor   │ doors │ country        │ parent     │\n",
       "│     │ \u001b[90mString\u001b[39m     │ \u001b[90mFloat64\u001b[39m │ \u001b[90mInt64\u001b[39m │ \u001b[90mString\u001b[39m         │ \u001b[90mString?\u001b[39m    │\n",
       "├─────┼────────────┼─────────┼───────┼────────────────┼────────────┤\n",
       "│ 1   │ Volkswagen │ 1.6     │ 5     │ Germany        │ Volkswagen │\n",
       "│ 2   │ Škoda      │ 1.3     │ 5     │ Czech Republic │ Volkswagen │"
      ]
     },
     "execution_count": 41,
     "metadata": {},
     "output_type": "execute_result"
    }
   ],
   "source": [
    "cars"
   ]
  },
  {
   "cell_type": "markdown",
   "metadata": {},
   "source": [
    "### A simple ML experiment\n",
    "\n",
    "Load experimental data, from multiple experiments, merge them into one big DataFrame, average performance over folds and look for the best model. The script that was used to generate the data using the `MLJ` package is `generate_dataframes.jl`."
   ]
  },
  {
   "cell_type": "markdown",
   "metadata": {},
   "source": [
    "This is a folder where the data is saved"
   ]
  },
  {
   "cell_type": "code",
   "execution_count": 42,
   "metadata": {},
   "outputs": [
    {
     "data": {
      "text/plain": [
       "4-element Array{String,1}:\n",
       " \"knn_crabs.csv\"\n",
       " \"knn_iris.csv\"\n",
       " \"xgboost_crabs.csv\"\n",
       " \"xgboost_iris.csv\""
      ]
     },
     "execution_count": 42,
     "metadata": {},
     "output_type": "execute_result"
    }
   ],
   "source": [
    "savepath = \"./data\"\n",
    "files = readdir(savepath)"
   ]
  },
  {
   "cell_type": "code",
   "execution_count": 43,
   "metadata": {},
   "outputs": [
    {
     "name": "stdout",
     "output_type": "stream",
     "text": [
      "12×6 DataFrame\n",
      "│ Row │ dataset │ model         │ parameters │ fold  │ cross_entropy │ auc      │\n",
      "│     │ \u001b[90mString\u001b[39m  │ \u001b[90mString\u001b[39m        │ \u001b[90mString\u001b[39m     │ \u001b[90mInt64\u001b[39m │ \u001b[90mFloat64?\u001b[39m      │ \u001b[90mFloat64?\u001b[39m │\n",
      "├─────┼─────────┼───────────────┼────────────┼───────┼───────────────┼──────────┤\n",
      "│ 1   │ crabs   │ KNNClassifier │ K=1        │ 1     │ 1.07082       │ \u001b[90mmissing\u001b[39m  │\n",
      "│ 2   │ crabs   │ KNNClassifier │ K=1        │ 2     │ 1.80432       │ 0.945303 │\n",
      "│ 3   │ crabs   │ KNNClassifier │ K=1        │ 3     │ 1.62229       │ 0.943503 │\n",
      "│ 4   │ crabs   │ KNNClassifier │ K=11       │ 1     │ 0.3762        │ 0.936245 │\n",
      "│ 5   │ crabs   │ KNNClassifier │ K=11       │ 2     │ 0.371544      │ \u001b[90mmissing\u001b[39m  │\n",
      "│ 6   │ crabs   │ KNNClassifier │ K=11       │ 3     │ \u001b[90mmissing\u001b[39m       │ 0.913999 │\n",
      "│ 7   │ crabs   │ KNNClassifier │ K=101      │ 1     │ 0.676675      │ 0.669904 │\n",
      "│ 8   │ crabs   │ KNNClassifier │ K=101      │ 2     │ 0.66818       │ 0.665671 │\n",
      "│ 9   │ crabs   │ KNNClassifier │ K=101      │ 3     │ 0.673625      │ 0.676672 │\n",
      "│ 10  │ crabs   │ KNNClassifier │ K=301      │ 1     │ \u001b[90mmissing\u001b[39m       │ \u001b[90mmissing\u001b[39m  │\n",
      "│ 11  │ crabs   │ KNNClassifier │ K=301      │ 2     │ \u001b[90mmissing\u001b[39m       │ \u001b[90mmissing\u001b[39m  │\n",
      "│ 12  │ crabs   │ KNNClassifier │ K=301      │ 3     │ \u001b[90mmissing\u001b[39m       │ \u001b[90mmissing\u001b[39m  │"
     ]
    }
   ],
   "source": [
    "using CSV # for data reading\n",
    "using Statistics # for averaging\n",
    "results = map(x->CSV.read(joinpath(savepath,x)), files)\n",
    "show(results[1], allcols = true, splitcols=false)"
   ]
  },
  {
   "cell_type": "markdown",
   "metadata": {},
   "source": [
    "#### Missing values\n",
    "\n",
    "Any operation on a vector containing a `missing` value results in a `missing` value"
   ]
  },
  {
   "cell_type": "code",
   "execution_count": 47,
   "metadata": {},
   "outputs": [
    {
     "data": {
      "text/plain": [
       "missing"
      ]
     },
     "execution_count": 47,
     "metadata": {},
     "output_type": "execute_result"
    }
   ],
   "source": [
    "mean([1, 2, missing, 3])"
   ]
  },
  {
   "cell_type": "markdown",
   "metadata": {},
   "source": [
    "Thats why we use skipmissing"
   ]
  },
  {
   "cell_type": "code",
   "execution_count": 49,
   "metadata": {},
   "outputs": [
    {
     "data": {
      "text/plain": [
       "3-element Array{Int64,1}:\n",
       " 1\n",
       " 2\n",
       " 3"
      ]
     },
     "execution_count": 49,
     "metadata": {},
     "output_type": "execute_result"
    }
   ],
   "source": [
    "collect(skipmissing([1, 2, missing, 3]))"
   ]
  },
  {
   "cell_type": "code",
   "execution_count": 50,
   "metadata": {},
   "outputs": [
    {
     "data": {
      "text/plain": [
       "2.0"
      ]
     },
     "execution_count": 50,
     "metadata": {},
     "output_type": "execute_result"
    }
   ],
   "source": [
    "mean(skipmissing([1, 2, missing, 3]))"
   ]
  },
  {
   "cell_type": "markdown",
   "metadata": {},
   "source": [
    "Now we have the DataFrames from individual experiments, let's join them together."
   ]
  },
  {
   "cell_type": "code",
   "execution_count": 53,
   "metadata": {},
   "outputs": [
    {
     "name": "stdout",
     "output_type": "stream",
     "text": [
      "48×6 DataFrame\n",
      "│ Row │ dataset │ model             │ parameters  │ fold  │ cross_entropy │ auc      │\n",
      "│     │ \u001b[90mString\u001b[39m  │ \u001b[90mString\u001b[39m            │ \u001b[90mString\u001b[39m      │ \u001b[90mInt64\u001b[39m │ \u001b[90mFloat64?\u001b[39m      │ \u001b[90mFloat64?\u001b[39m │\n",
      "├─────┼─────────┼───────────────────┼─────────────┼───────┼───────────────┼──────────┤\n",
      "│ 1   │ crabs   │ KNNClassifier     │ K=1         │ 1     │ 1.07082       │ \u001b[90mmissing\u001b[39m  │\n",
      "│ 2   │ crabs   │ KNNClassifier     │ K=1         │ 2     │ 1.80432       │ 0.945303 │\n",
      "│ 3   │ crabs   │ KNNClassifier     │ K=1         │ 3     │ 1.62229       │ 0.943503 │\n",
      "│ 4   │ crabs   │ KNNClassifier     │ K=11        │ 1     │ 0.3762        │ 0.936245 │\n",
      "│ 5   │ crabs   │ KNNClassifier     │ K=11        │ 2     │ 0.371544      │ \u001b[90mmissing\u001b[39m  │\n",
      "│ 6   │ crabs   │ KNNClassifier     │ K=11        │ 3     │ \u001b[90mmissing\u001b[39m       │ 0.913999 │\n",
      "│ 7   │ crabs   │ KNNClassifier     │ K=101       │ 1     │ 0.676675      │ 0.669904 │\n",
      "│ 8   │ crabs   │ KNNClassifier     │ K=101       │ 2     │ 0.66818       │ 0.665671 │\n",
      "│ 9   │ crabs   │ KNNClassifier     │ K=101       │ 3     │ 0.673625      │ 0.676672 │\n",
      "│ 10  │ crabs   │ KNNClassifier     │ K=301       │ 1     │ \u001b[90mmissing\u001b[39m       │ \u001b[90mmissing\u001b[39m  │\n",
      "⋮\n",
      "│ 38  │ iris    │ XGBoostClassifier │ max_depth=2 │ 2     │ 0.213429      │ 0.964842 │\n",
      "│ 39  │ iris    │ XGBoostClassifier │ max_depth=2 │ 3     │ 0.189261      │ 0.939378 │\n",
      "│ 40  │ iris    │ XGBoostClassifier │ max_depth=4 │ 1     │ 0.181803      │ 0.965699 │\n",
      "│ 41  │ iris    │ XGBoostClassifier │ max_depth=4 │ 2     │ 0.247221      │ 0.945458 │\n",
      "│ 42  │ iris    │ XGBoostClassifier │ max_depth=4 │ 3     │ 0.253637      │ 0.949444 │\n",
      "│ 43  │ iris    │ XGBoostClassifier │ max_depth=6 │ 1     │ 0.202409      │ 0.946922 │\n",
      "│ 44  │ iris    │ XGBoostClassifier │ max_depth=6 │ 2     │ 0.203301      │ 0.976508 │\n",
      "│ 45  │ iris    │ XGBoostClassifier │ max_depth=6 │ 3     │ 0.229145      │ 0.970582 │\n",
      "│ 46  │ iris    │ XGBoostClassifier │ max_depth=8 │ 1     │ 0.183129      │ 0.971825 │\n",
      "│ 47  │ iris    │ XGBoostClassifier │ max_depth=8 │ 2     │ 0.238846      │ 0.965133 │\n",
      "│ 48  │ iris    │ XGBoostClassifier │ max_depth=8 │ 3     │ 0.215587      │ 0.944603 │"
     ]
    }
   ],
   "source": [
    "resdf = vcat(results...)\n",
    "show(resdf, splitcols=false)"
   ]
  },
  {
   "cell_type": "markdown",
   "metadata": {},
   "source": [
    "Now aggregate them over folds."
   ]
  },
  {
   "cell_type": "code",
   "execution_count": 58,
   "metadata": {},
   "outputs": [
    {
     "data": {
      "text/html": [
       "<table class=\"data-frame\"><thead><tr><th></th><th>dataset</th><th>model</th><th>parameters</th><th>fold</th><th>cross_entropy</th><th>auc</th></tr><tr><th></th><th>String</th><th>String</th><th>String</th><th>Int64</th><th>Float64?</th><th>Float64?</th></tr></thead><tbody><p>3 rows × 6 columns</p><tr><th>1</th><td>iris</td><td>KNNClassifier</td><td>K=1</td><td>1</td><td>1.44175</td><td>0.977176</td></tr><tr><th>2</th><td>iris</td><td>KNNClassifier</td><td>K=1</td><td>2</td><td>1.44175</td><td>0.951051</td></tr><tr><th>3</th><td>iris</td><td>KNNClassifier</td><td>K=1</td><td>3</td><td>1.44175</td><td>0.954223</td></tr></tbody></table>"
      ],
      "text/latex": [
       "\\begin{tabular}{r|cccccc}\n",
       "\t& dataset & model & parameters & fold & cross\\_entropy & auc\\\\\n",
       "\t\\hline\n",
       "\t& String & String & String & Int64 & Float64? & Float64?\\\\\n",
       "\t\\hline\n",
       "\t1 & iris & KNNClassifier & K=1 & 1 & 1.44175 & 0.977176 \\\\\n",
       "\t2 & iris & KNNClassifier & K=1 & 2 & 1.44175 & 0.951051 \\\\\n",
       "\t3 & iris & KNNClassifier & K=1 & 3 & 1.44175 & 0.954223 \\\\\n",
       "\\end{tabular}\n"
      ],
      "text/plain": [
       "3×6 SubDataFrame. Omitted printing of 1 columns\n",
       "│ Row │ dataset │ model         │ parameters │ fold  │ cross_entropy │\n",
       "│     │ \u001b[90mString\u001b[39m  │ \u001b[90mString\u001b[39m        │ \u001b[90mString\u001b[39m     │ \u001b[90mInt64\u001b[39m │ \u001b[90mFloat64?\u001b[39m      │\n",
       "├─────┼─────────┼───────────────┼────────────┼───────┼───────────────┤\n",
       "│ 1   │ iris    │ KNNClassifier │ K=1        │ 1     │ 1.44175       │\n",
       "│ 2   │ iris    │ KNNClassifier │ K=1        │ 2     │ 1.44175       │\n",
       "│ 3   │ iris    │ KNNClassifier │ K=1        │ 3     │ 1.44175       │"
      ]
     },
     "execution_count": 58,
     "metadata": {},
     "output_type": "execute_result"
    }
   ],
   "source": [
    "groupby(resdf, [:dataset, :model, :parameters])[5]"
   ]
  },
  {
   "cell_type": "code",
   "execution_count": 59,
   "metadata": {},
   "outputs": [
    {
     "name": "stdout",
     "output_type": "stream",
     "text": [
      "16×6 DataFrame\n",
      "│ Row │ dataset │ model             │ parameters  │ fold_mean │ cross_entropy_mean │ auc_mean │\n",
      "│     │ \u001b[90mString\u001b[39m  │ \u001b[90mString\u001b[39m            │ \u001b[90mString\u001b[39m      │ \u001b[90mFloat64\u001b[39m   │ \u001b[90mFloat64?\u001b[39m           │ \u001b[90mFloat64?\u001b[39m │\n",
      "├─────┼─────────┼───────────────────┼─────────────┼───────────┼────────────────────┼──────────┤\n",
      "│ 1   │ crabs   │ KNNClassifier     │ K=1         │ 2.0       │ 1.49914            │ \u001b[90mmissing\u001b[39m  │\n",
      "│ 2   │ crabs   │ KNNClassifier     │ K=11        │ 2.0       │ \u001b[90mmissing\u001b[39m            │ \u001b[90mmissing\u001b[39m  │\n",
      "│ 3   │ crabs   │ KNNClassifier     │ K=101       │ 2.0       │ 0.672827           │ 0.670749 │\n",
      "│ 4   │ crabs   │ KNNClassifier     │ K=301       │ 2.0       │ \u001b[90mmissing\u001b[39m            │ \u001b[90mmissing\u001b[39m  │\n",
      "│ 5   │ iris    │ KNNClassifier     │ K=1         │ 2.0       │ 1.44175            │ 0.960816 │\n",
      "│ 6   │ iris    │ KNNClassifier     │ K=11        │ 2.0       │ 0.0969837          │ 0.996452 │\n",
      "│ 7   │ iris    │ KNNClassifier     │ K=101       │ 2.0       │ 0.899702           │ 0.466738 │\n",
      "│ 8   │ iris    │ KNNClassifier     │ K=301       │ 2.0       │ \u001b[90mmissing\u001b[39m            │ \u001b[90mmissing\u001b[39m  │\n",
      "│ 9   │ crabs   │ XGBoostClassifier │ max_depth=2 │ 2.0       │ 0.214894           │ 0.976127 │\n",
      "│ 10  │ crabs   │ XGBoostClassifier │ max_depth=4 │ 2.0       │ 0.211701           │ 0.968631 │\n",
      "│ 11  │ crabs   │ XGBoostClassifier │ max_depth=6 │ 2.0       │ 0.216623           │ 0.976535 │\n",
      "│ 12  │ crabs   │ XGBoostClassifier │ max_depth=8 │ 2.0       │ 0.241723           │ 0.97217  │\n",
      "│ 13  │ iris    │ XGBoostClassifier │ max_depth=2 │ 2.0       │ 0.219998           │ 0.958139 │\n",
      "│ 14  │ iris    │ XGBoostClassifier │ max_depth=4 │ 2.0       │ 0.227554           │ 0.953534 │\n",
      "│ 15  │ iris    │ XGBoostClassifier │ max_depth=6 │ 2.0       │ 0.211618           │ 0.964671 │\n",
      "│ 16  │ iris    │ XGBoostClassifier │ max_depth=8 │ 2.0       │ 0.21252            │ 0.960521 │"
     ]
    }
   ],
   "source": [
    "agdf = combine(groupby(resdf, [:dataset, :model, :parameters]), names(resdf, Not([:dataset, :model, :parameters])) .=> mean)\n",
    "show(agdf, allrows=true, splitcols=false)"
   ]
  },
  {
   "cell_type": "markdown",
   "metadata": {},
   "source": [
    "Where do the missing values come from?"
   ]
  },
  {
   "cell_type": "code",
   "execution_count": 61,
   "metadata": {},
   "outputs": [
    {
     "data": {
      "text/html": [
       "<table class=\"data-frame\"><thead><tr><th></th><th>dataset</th><th>model</th><th>parameters</th><th>fold</th><th>cross_entropy</th><th>auc</th></tr><tr><th></th><th>String</th><th>String</th><th>String</th><th>Int64</th><th>Float64?</th><th>Float64?</th></tr></thead><tbody><p>9 rows × 6 columns</p><tr><th>1</th><td>crabs</td><td>KNNClassifier</td><td>K=1</td><td>1</td><td>1.07082</td><td><em>missing</em></td></tr><tr><th>2</th><td>crabs</td><td>KNNClassifier</td><td>K=11</td><td>2</td><td>0.371544</td><td><em>missing</em></td></tr><tr><th>3</th><td>crabs</td><td>KNNClassifier</td><td>K=11</td><td>3</td><td><em>missing</em></td><td>0.913999</td></tr><tr><th>4</th><td>crabs</td><td>KNNClassifier</td><td>K=301</td><td>1</td><td><em>missing</em></td><td><em>missing</em></td></tr><tr><th>5</th><td>crabs</td><td>KNNClassifier</td><td>K=301</td><td>2</td><td><em>missing</em></td><td><em>missing</em></td></tr><tr><th>6</th><td>crabs</td><td>KNNClassifier</td><td>K=301</td><td>3</td><td><em>missing</em></td><td><em>missing</em></td></tr><tr><th>7</th><td>iris</td><td>KNNClassifier</td><td>K=301</td><td>1</td><td><em>missing</em></td><td><em>missing</em></td></tr><tr><th>8</th><td>iris</td><td>KNNClassifier</td><td>K=301</td><td>2</td><td><em>missing</em></td><td><em>missing</em></td></tr><tr><th>9</th><td>iris</td><td>KNNClassifier</td><td>K=301</td><td>3</td><td><em>missing</em></td><td><em>missing</em></td></tr></tbody></table>"
      ],
      "text/latex": [
       "\\begin{tabular}{r|cccccc}\n",
       "\t& dataset & model & parameters & fold & cross\\_entropy & auc\\\\\n",
       "\t\\hline\n",
       "\t& String & String & String & Int64 & Float64? & Float64?\\\\\n",
       "\t\\hline\n",
       "\t1 & crabs & KNNClassifier & K=1 & 1 & 1.07082 & \\emph{missing} \\\\\n",
       "\t2 & crabs & KNNClassifier & K=11 & 2 & 0.371544 & \\emph{missing} \\\\\n",
       "\t3 & crabs & KNNClassifier & K=11 & 3 & \\emph{missing} & 0.913999 \\\\\n",
       "\t4 & crabs & KNNClassifier & K=301 & 1 & \\emph{missing} & \\emph{missing} \\\\\n",
       "\t5 & crabs & KNNClassifier & K=301 & 2 & \\emph{missing} & \\emph{missing} \\\\\n",
       "\t6 & crabs & KNNClassifier & K=301 & 3 & \\emph{missing} & \\emph{missing} \\\\\n",
       "\t7 & iris & KNNClassifier & K=301 & 1 & \\emph{missing} & \\emph{missing} \\\\\n",
       "\t8 & iris & KNNClassifier & K=301 & 2 & \\emph{missing} & \\emph{missing} \\\\\n",
       "\t9 & iris & KNNClassifier & K=301 & 3 & \\emph{missing} & \\emph{missing} \\\\\n",
       "\\end{tabular}\n"
      ],
      "text/plain": [
       "9×6 DataFrame. Omitted printing of 1 columns\n",
       "│ Row │ dataset │ model         │ parameters │ fold  │ cross_entropy │\n",
       "│     │ \u001b[90mString\u001b[39m  │ \u001b[90mString\u001b[39m        │ \u001b[90mString\u001b[39m     │ \u001b[90mInt64\u001b[39m │ \u001b[90mFloat64?\u001b[39m      │\n",
       "├─────┼─────────┼───────────────┼────────────┼───────┼───────────────┤\n",
       "│ 1   │ crabs   │ KNNClassifier │ K=1        │ 1     │ 1.07082       │\n",
       "│ 2   │ crabs   │ KNNClassifier │ K=11       │ 2     │ 0.371544      │\n",
       "│ 3   │ crabs   │ KNNClassifier │ K=11       │ 3     │ \u001b[90mmissing\u001b[39m       │\n",
       "│ 4   │ crabs   │ KNNClassifier │ K=301      │ 1     │ \u001b[90mmissing\u001b[39m       │\n",
       "│ 5   │ crabs   │ KNNClassifier │ K=301      │ 2     │ \u001b[90mmissing\u001b[39m       │\n",
       "│ 6   │ crabs   │ KNNClassifier │ K=301      │ 3     │ \u001b[90mmissing\u001b[39m       │\n",
       "│ 7   │ iris    │ KNNClassifier │ K=301      │ 1     │ \u001b[90mmissing\u001b[39m       │\n",
       "│ 8   │ iris    │ KNNClassifier │ K=301      │ 2     │ \u001b[90mmissing\u001b[39m       │\n",
       "│ 9   │ iris    │ KNNClassifier │ K=301      │ 3     │ \u001b[90mmissing\u001b[39m       │"
      ]
     },
     "execution_count": 61,
     "metadata": {},
     "output_type": "execute_result"
    }
   ],
   "source": [
    "filter(r->ismissing(r[:cross_entropy]) || ismissing(r[:auc]), resdf)"
   ]
  },
  {
   "cell_type": "code",
   "execution_count": 66,
   "metadata": {},
   "outputs": [
    {
     "data": {
      "text/plain": [
       "true"
      ]
     },
     "execution_count": 66,
     "metadata": {},
     "output_type": "execute_result"
    }
   ],
   "source": [
    "missing === missing"
   ]
  },
  {
   "cell_type": "code",
   "execution_count": 67,
   "metadata": {},
   "outputs": [
    {
     "data": {
      "text/plain": [
       "true"
      ]
     },
     "execution_count": 67,
     "metadata": {},
     "output_type": "execute_result"
    }
   ],
   "source": [
    "NaN === NaN"
   ]
  },
  {
   "cell_type": "code",
   "execution_count": 64,
   "metadata": {},
   "outputs": [
    {
     "data": {
      "text/plain": [
       "false"
      ]
     },
     "execution_count": 64,
     "metadata": {},
     "output_type": "execute_result"
    }
   ],
   "source": [
    "ismissing(3)"
   ]
  },
  {
   "cell_type": "markdown",
   "metadata": {},
   "source": [
    "For K=301, we want to have missings, but for other values, we just want to ignore the one missing value."
   ]
  },
  {
   "cell_type": "code",
   "execution_count": 68,
   "metadata": {},
   "outputs": [
    {
     "data": {
      "text/plain": [
       "1.5"
      ]
     },
     "execution_count": 68,
     "metadata": {},
     "output_type": "execute_result"
    }
   ],
   "source": [
    "mean(skipmissing([1,2,missing]))"
   ]
  },
  {
   "cell_type": "code",
   "execution_count": 69,
   "metadata": {},
   "outputs": [
    {
     "ename": "MethodError",
     "evalue": "MethodError: reduce_empty(::typeof(Base.add_sum), ::Type{Union{}}) is ambiguous. Candidates:\n  reduce_empty(::typeof(Base.add_sum), ::Type{T}) where T<:Union{Int16, Int32, Int8} in Base at reduce.jl:314\n  reduce_empty(::typeof(Base.add_sum), ::Type{T}) where T<:Union{UInt16, UInt32, UInt8} in Base at reduce.jl:315\nPossible fix, define\n  reduce_empty(::typeof(Base.add_sum), ::Type{Union{}})",
     "output_type": "error",
     "traceback": [
      "MethodError: reduce_empty(::typeof(Base.add_sum), ::Type{Union{}}) is ambiguous. Candidates:\n  reduce_empty(::typeof(Base.add_sum), ::Type{T}) where T<:Union{Int16, Int32, Int8} in Base at reduce.jl:314\n  reduce_empty(::typeof(Base.add_sum), ::Type{T}) where T<:Union{UInt16, UInt32, UInt8} in Base at reduce.jl:315\nPossible fix, define\n  reduce_empty(::typeof(Base.add_sum), ::Type{Union{}})",
      "",
      "Stacktrace:",
      " [1] mapreduce_empty(::typeof(identity), ::Function, ::Type{T} where T) at ./reduce.jl:335",
      " [2] reduce_empty(::Base.MappingRF{typeof(identity),typeof(Base.add_sum)}, ::Type{T} where T) at ./reduce.jl:321",
      " [3] reduce_empty_iter at ./reduce.jl:347 [inlined]",
      " [4] mapreduce_empty_iter(::Function, ::Function, ::Base.SkipMissing{Array{Missing,1}}, ::Base.HasEltype) at ./reduce.jl:343",
      " [5] mean(::typeof(identity), ::Base.SkipMissing{Array{Missing,1}}) at /buildworker/worker/package_linux64/build/usr/share/julia/stdlib/v1.4/Statistics/src/Statistics.jl:60",
      " [6] mean(::Base.SkipMissing{Array{Missing,1}}) at /buildworker/worker/package_linux64/build/usr/share/julia/stdlib/v1.4/Statistics/src/Statistics.jl:42",
      " [7] top-level scope at In[69]:1"
     ]
    }
   ],
   "source": [
    "mean(skipmissing([missing, missing, missing]))"
   ]
  },
  {
   "cell_type": "code",
   "execution_count": 70,
   "metadata": {},
   "outputs": [
    {
     "data": {
      "text/plain": [
       "missmean (generic function with 1 method)"
      ]
     },
     "execution_count": 70,
     "metadata": {},
     "output_type": "execute_result"
    }
   ],
   "source": [
    "missmean(x) = all(ismissing, x) ? missing : mean(skipmissing(x)) # this returns mean ignoring the missing elements, but if all elements of x are missing, it returns missing"
   ]
  },
  {
   "cell_type": "code",
   "execution_count": 71,
   "metadata": {},
   "outputs": [
    {
     "data": {
      "text/html": [
       "<table class=\"data-frame\"><thead><tr><th></th><th>dataset</th><th>model</th><th>parameters</th><th>fold_missmean</th><th>cross_entropy_missmean</th></tr><tr><th></th><th>String</th><th>String</th><th>String</th><th>Float64</th><th>Float64?</th></tr></thead><tbody><p>16 rows × 6 columns (omitted printing of 1 columns)</p><tr><th>1</th><td>crabs</td><td>KNNClassifier</td><td>K=1</td><td>2.0</td><td>1.49914</td></tr><tr><th>2</th><td>crabs</td><td>KNNClassifier</td><td>K=11</td><td>2.0</td><td>0.373872</td></tr><tr><th>3</th><td>crabs</td><td>KNNClassifier</td><td>K=101</td><td>2.0</td><td>0.672827</td></tr><tr><th>4</th><td>crabs</td><td>KNNClassifier</td><td>K=301</td><td>2.0</td><td><em>missing</em></td></tr><tr><th>5</th><td>iris</td><td>KNNClassifier</td><td>K=1</td><td>2.0</td><td>1.44175</td></tr><tr><th>6</th><td>iris</td><td>KNNClassifier</td><td>K=11</td><td>2.0</td><td>0.0969837</td></tr><tr><th>7</th><td>iris</td><td>KNNClassifier</td><td>K=101</td><td>2.0</td><td>0.899702</td></tr><tr><th>8</th><td>iris</td><td>KNNClassifier</td><td>K=301</td><td>2.0</td><td><em>missing</em></td></tr><tr><th>9</th><td>crabs</td><td>XGBoostClassifier</td><td>max_depth=2</td><td>2.0</td><td>0.214894</td></tr><tr><th>10</th><td>crabs</td><td>XGBoostClassifier</td><td>max_depth=4</td><td>2.0</td><td>0.211701</td></tr><tr><th>11</th><td>crabs</td><td>XGBoostClassifier</td><td>max_depth=6</td><td>2.0</td><td>0.216623</td></tr><tr><th>12</th><td>crabs</td><td>XGBoostClassifier</td><td>max_depth=8</td><td>2.0</td><td>0.241723</td></tr><tr><th>13</th><td>iris</td><td>XGBoostClassifier</td><td>max_depth=2</td><td>2.0</td><td>0.219998</td></tr><tr><th>14</th><td>iris</td><td>XGBoostClassifier</td><td>max_depth=4</td><td>2.0</td><td>0.227554</td></tr><tr><th>15</th><td>iris</td><td>XGBoostClassifier</td><td>max_depth=6</td><td>2.0</td><td>0.211618</td></tr><tr><th>16</th><td>iris</td><td>XGBoostClassifier</td><td>max_depth=8</td><td>2.0</td><td>0.21252</td></tr></tbody></table>"
      ],
      "text/latex": [
       "\\begin{tabular}{r|cccccc}\n",
       "\t& dataset & model & parameters & fold\\_missmean & cross\\_entropy\\_missmean & \\\\\n",
       "\t\\hline\n",
       "\t& String & String & String & Float64 & Float64? & \\\\\n",
       "\t\\hline\n",
       "\t1 & crabs & KNNClassifier & K=1 & 2.0 & 1.49914 & $\\dots$ \\\\\n",
       "\t2 & crabs & KNNClassifier & K=11 & 2.0 & 0.373872 & $\\dots$ \\\\\n",
       "\t3 & crabs & KNNClassifier & K=101 & 2.0 & 0.672827 & $\\dots$ \\\\\n",
       "\t4 & crabs & KNNClassifier & K=301 & 2.0 & \\emph{missing} & $\\dots$ \\\\\n",
       "\t5 & iris & KNNClassifier & K=1 & 2.0 & 1.44175 & $\\dots$ \\\\\n",
       "\t6 & iris & KNNClassifier & K=11 & 2.0 & 0.0969837 & $\\dots$ \\\\\n",
       "\t7 & iris & KNNClassifier & K=101 & 2.0 & 0.899702 & $\\dots$ \\\\\n",
       "\t8 & iris & KNNClassifier & K=301 & 2.0 & \\emph{missing} & $\\dots$ \\\\\n",
       "\t9 & crabs & XGBoostClassifier & max\\_depth=2 & 2.0 & 0.214894 & $\\dots$ \\\\\n",
       "\t10 & crabs & XGBoostClassifier & max\\_depth=4 & 2.0 & 0.211701 & $\\dots$ \\\\\n",
       "\t11 & crabs & XGBoostClassifier & max\\_depth=6 & 2.0 & 0.216623 & $\\dots$ \\\\\n",
       "\t12 & crabs & XGBoostClassifier & max\\_depth=8 & 2.0 & 0.241723 & $\\dots$ \\\\\n",
       "\t13 & iris & XGBoostClassifier & max\\_depth=2 & 2.0 & 0.219998 & $\\dots$ \\\\\n",
       "\t14 & iris & XGBoostClassifier & max\\_depth=4 & 2.0 & 0.227554 & $\\dots$ \\\\\n",
       "\t15 & iris & XGBoostClassifier & max\\_depth=6 & 2.0 & 0.211618 & $\\dots$ \\\\\n",
       "\t16 & iris & XGBoostClassifier & max\\_depth=8 & 2.0 & 0.21252 & $\\dots$ \\\\\n",
       "\\end{tabular}\n"
      ],
      "text/plain": [
       "16×6 DataFrame. Omitted printing of 2 columns\n",
       "│ Row │ dataset │ model             │ parameters  │ fold_missmean │\n",
       "│     │ \u001b[90mString\u001b[39m  │ \u001b[90mString\u001b[39m            │ \u001b[90mString\u001b[39m      │ \u001b[90mFloat64\u001b[39m       │\n",
       "├─────┼─────────┼───────────────────┼─────────────┼───────────────┤\n",
       "│ 1   │ crabs   │ KNNClassifier     │ K=1         │ 2.0           │\n",
       "│ 2   │ crabs   │ KNNClassifier     │ K=11        │ 2.0           │\n",
       "│ 3   │ crabs   │ KNNClassifier     │ K=101       │ 2.0           │\n",
       "│ 4   │ crabs   │ KNNClassifier     │ K=301       │ 2.0           │\n",
       "│ 5   │ iris    │ KNNClassifier     │ K=1         │ 2.0           │\n",
       "│ 6   │ iris    │ KNNClassifier     │ K=11        │ 2.0           │\n",
       "│ 7   │ iris    │ KNNClassifier     │ K=101       │ 2.0           │\n",
       "│ 8   │ iris    │ KNNClassifier     │ K=301       │ 2.0           │\n",
       "│ 9   │ crabs   │ XGBoostClassifier │ max_depth=2 │ 2.0           │\n",
       "│ 10  │ crabs   │ XGBoostClassifier │ max_depth=4 │ 2.0           │\n",
       "│ 11  │ crabs   │ XGBoostClassifier │ max_depth=6 │ 2.0           │\n",
       "│ 12  │ crabs   │ XGBoostClassifier │ max_depth=8 │ 2.0           │\n",
       "│ 13  │ iris    │ XGBoostClassifier │ max_depth=2 │ 2.0           │\n",
       "│ 14  │ iris    │ XGBoostClassifier │ max_depth=4 │ 2.0           │\n",
       "│ 15  │ iris    │ XGBoostClassifier │ max_depth=6 │ 2.0           │\n",
       "│ 16  │ iris    │ XGBoostClassifier │ max_depth=8 │ 2.0           │"
      ]
     },
     "execution_count": 71,
     "metadata": {},
     "output_type": "execute_result"
    }
   ],
   "source": [
    "agdf = combine(groupby(resdf, [:dataset, :model, :parameters]), names(resdf, Not([:dataset, :model, :parameters])) .=> missmean)"
   ]
  },
  {
   "cell_type": "code",
   "execution_count": 72,
   "metadata": {},
   "outputs": [
    {
     "data": {
      "text/html": [
       "<table class=\"data-frame\"><thead><tr><th></th><th>dataset</th><th>model</th><th>parameters</th><th>cross_entropy_missmean</th><th>auc_missmean</th></tr><tr><th></th><th>String</th><th>String</th><th>String</th><th>Float64?</th><th>Float64?</th></tr></thead><tbody><p>16 rows × 5 columns</p><tr><th>1</th><td>crabs</td><td>KNNClassifier</td><td>K=1</td><td>1.49914</td><td>0.944403</td></tr><tr><th>2</th><td>crabs</td><td>KNNClassifier</td><td>K=11</td><td>0.373872</td><td>0.925122</td></tr><tr><th>3</th><td>crabs</td><td>KNNClassifier</td><td>K=101</td><td>0.672827</td><td>0.670749</td></tr><tr><th>4</th><td>crabs</td><td>KNNClassifier</td><td>K=301</td><td><em>missing</em></td><td><em>missing</em></td></tr><tr><th>5</th><td>iris</td><td>KNNClassifier</td><td>K=1</td><td>1.44175</td><td>0.960816</td></tr><tr><th>6</th><td>iris</td><td>KNNClassifier</td><td>K=11</td><td>0.0969837</td><td>0.996452</td></tr><tr><th>7</th><td>iris</td><td>KNNClassifier</td><td>K=101</td><td>0.899702</td><td>0.466738</td></tr><tr><th>8</th><td>iris</td><td>KNNClassifier</td><td>K=301</td><td><em>missing</em></td><td><em>missing</em></td></tr><tr><th>9</th><td>crabs</td><td>XGBoostClassifier</td><td>max_depth=2</td><td>0.214894</td><td>0.976127</td></tr><tr><th>10</th><td>crabs</td><td>XGBoostClassifier</td><td>max_depth=4</td><td>0.211701</td><td>0.968631</td></tr><tr><th>11</th><td>crabs</td><td>XGBoostClassifier</td><td>max_depth=6</td><td>0.216623</td><td>0.976535</td></tr><tr><th>12</th><td>crabs</td><td>XGBoostClassifier</td><td>max_depth=8</td><td>0.241723</td><td>0.97217</td></tr><tr><th>13</th><td>iris</td><td>XGBoostClassifier</td><td>max_depth=2</td><td>0.219998</td><td>0.958139</td></tr><tr><th>14</th><td>iris</td><td>XGBoostClassifier</td><td>max_depth=4</td><td>0.227554</td><td>0.953534</td></tr><tr><th>15</th><td>iris</td><td>XGBoostClassifier</td><td>max_depth=6</td><td>0.211618</td><td>0.964671</td></tr><tr><th>16</th><td>iris</td><td>XGBoostClassifier</td><td>max_depth=8</td><td>0.21252</td><td>0.960521</td></tr></tbody></table>"
      ],
      "text/latex": [
       "\\begin{tabular}{r|ccccc}\n",
       "\t& dataset & model & parameters & cross\\_entropy\\_missmean & auc\\_missmean\\\\\n",
       "\t\\hline\n",
       "\t& String & String & String & Float64? & Float64?\\\\\n",
       "\t\\hline\n",
       "\t1 & crabs & KNNClassifier & K=1 & 1.49914 & 0.944403 \\\\\n",
       "\t2 & crabs & KNNClassifier & K=11 & 0.373872 & 0.925122 \\\\\n",
       "\t3 & crabs & KNNClassifier & K=101 & 0.672827 & 0.670749 \\\\\n",
       "\t4 & crabs & KNNClassifier & K=301 & \\emph{missing} & \\emph{missing} \\\\\n",
       "\t5 & iris & KNNClassifier & K=1 & 1.44175 & 0.960816 \\\\\n",
       "\t6 & iris & KNNClassifier & K=11 & 0.0969837 & 0.996452 \\\\\n",
       "\t7 & iris & KNNClassifier & K=101 & 0.899702 & 0.466738 \\\\\n",
       "\t8 & iris & KNNClassifier & K=301 & \\emph{missing} & \\emph{missing} \\\\\n",
       "\t9 & crabs & XGBoostClassifier & max\\_depth=2 & 0.214894 & 0.976127 \\\\\n",
       "\t10 & crabs & XGBoostClassifier & max\\_depth=4 & 0.211701 & 0.968631 \\\\\n",
       "\t11 & crabs & XGBoostClassifier & max\\_depth=6 & 0.216623 & 0.976535 \\\\\n",
       "\t12 & crabs & XGBoostClassifier & max\\_depth=8 & 0.241723 & 0.97217 \\\\\n",
       "\t13 & iris & XGBoostClassifier & max\\_depth=2 & 0.219998 & 0.958139 \\\\\n",
       "\t14 & iris & XGBoostClassifier & max\\_depth=4 & 0.227554 & 0.953534 \\\\\n",
       "\t15 & iris & XGBoostClassifier & max\\_depth=6 & 0.211618 & 0.964671 \\\\\n",
       "\t16 & iris & XGBoostClassifier & max\\_depth=8 & 0.21252 & 0.960521 \\\\\n",
       "\\end{tabular}\n"
      ],
      "text/plain": [
       "16×5 DataFrame. Omitted printing of 1 columns\n",
       "│ Row │ dataset │ model             │ parameters  │ cross_entropy_missmean │\n",
       "│     │ \u001b[90mString\u001b[39m  │ \u001b[90mString\u001b[39m            │ \u001b[90mString\u001b[39m      │ \u001b[90mFloat64?\u001b[39m               │\n",
       "├─────┼─────────┼───────────────────┼─────────────┼────────────────────────┤\n",
       "│ 1   │ crabs   │ KNNClassifier     │ K=1         │ 1.49914                │\n",
       "│ 2   │ crabs   │ KNNClassifier     │ K=11        │ 0.373872               │\n",
       "│ 3   │ crabs   │ KNNClassifier     │ K=101       │ 0.672827               │\n",
       "│ 4   │ crabs   │ KNNClassifier     │ K=301       │ \u001b[90mmissing\u001b[39m                │\n",
       "│ 5   │ iris    │ KNNClassifier     │ K=1         │ 1.44175                │\n",
       "│ 6   │ iris    │ KNNClassifier     │ K=11        │ 0.0969837              │\n",
       "│ 7   │ iris    │ KNNClassifier     │ K=101       │ 0.899702               │\n",
       "│ 8   │ iris    │ KNNClassifier     │ K=301       │ \u001b[90mmissing\u001b[39m                │\n",
       "│ 9   │ crabs   │ XGBoostClassifier │ max_depth=2 │ 0.214894               │\n",
       "│ 10  │ crabs   │ XGBoostClassifier │ max_depth=4 │ 0.211701               │\n",
       "│ 11  │ crabs   │ XGBoostClassifier │ max_depth=6 │ 0.216623               │\n",
       "│ 12  │ crabs   │ XGBoostClassifier │ max_depth=8 │ 0.241723               │\n",
       "│ 13  │ iris    │ XGBoostClassifier │ max_depth=2 │ 0.219998               │\n",
       "│ 14  │ iris    │ XGBoostClassifier │ max_depth=4 │ 0.227554               │\n",
       "│ 15  │ iris    │ XGBoostClassifier │ max_depth=6 │ 0.211618               │\n",
       "│ 16  │ iris    │ XGBoostClassifier │ max_depth=8 │ 0.21252                │"
      ]
     },
     "execution_count": 72,
     "metadata": {},
     "output_type": "execute_result"
    }
   ],
   "source": [
    "agdf = agdf[!,Not(:fold_missmean)] # drop the means of folds"
   ]
  },
  {
   "cell_type": "code",
   "execution_count": 73,
   "metadata": {},
   "outputs": [
    {
     "name": "stdout",
     "output_type": "stream",
     "text": [
      "16×5 DataFrame\n",
      "│ Row │ dataset │ model             │ parameters  │ cross_entropy │ auc      │\n",
      "│     │ \u001b[90mString\u001b[39m  │ \u001b[90mString\u001b[39m            │ \u001b[90mString\u001b[39m      │ \u001b[90mFloat64?\u001b[39m      │ \u001b[90mFloat64?\u001b[39m │\n",
      "├─────┼─────────┼───────────────────┼─────────────┼───────────────┼──────────┤\n",
      "│ 1   │ crabs   │ KNNClassifier     │ K=1         │ 1.49914       │ 0.944403 │\n",
      "│ 2   │ crabs   │ KNNClassifier     │ K=11        │ 0.373872      │ 0.925122 │\n",
      "│ 3   │ crabs   │ KNNClassifier     │ K=101       │ 0.672827      │ 0.670749 │\n",
      "│ 4   │ crabs   │ KNNClassifier     │ K=301       │ \u001b[90mmissing\u001b[39m       │ \u001b[90mmissing\u001b[39m  │\n",
      "│ 5   │ iris    │ KNNClassifier     │ K=1         │ 1.44175       │ 0.960816 │\n",
      "│ 6   │ iris    │ KNNClassifier     │ K=11        │ 0.0969837     │ 0.996452 │\n",
      "│ 7   │ iris    │ KNNClassifier     │ K=101       │ 0.899702      │ 0.466738 │\n",
      "│ 8   │ iris    │ KNNClassifier     │ K=301       │ \u001b[90mmissing\u001b[39m       │ \u001b[90mmissing\u001b[39m  │\n",
      "│ 9   │ crabs   │ XGBoostClassifier │ max_depth=2 │ 0.214894      │ 0.976127 │\n",
      "│ 10  │ crabs   │ XGBoostClassifier │ max_depth=4 │ 0.211701      │ 0.968631 │\n",
      "│ 11  │ crabs   │ XGBoostClassifier │ max_depth=6 │ 0.216623      │ 0.976535 │\n",
      "│ 12  │ crabs   │ XGBoostClassifier │ max_depth=8 │ 0.241723      │ 0.97217  │\n",
      "│ 13  │ iris    │ XGBoostClassifier │ max_depth=2 │ 0.219998      │ 0.958139 │\n",
      "│ 14  │ iris    │ XGBoostClassifier │ max_depth=4 │ 0.227554      │ 0.953534 │\n",
      "│ 15  │ iris    │ XGBoostClassifier │ max_depth=6 │ 0.211618      │ 0.964671 │\n",
      "│ 16  │ iris    │ XGBoostClassifier │ max_depth=8 │ 0.21252       │ 0.960521 │"
     ]
    }
   ],
   "source": [
    "rename!(agdf, :cross_entropy_missmean => :cross_entropy) # rename the aggregated columns\n",
    "rename!(agdf, :auc_missmean => :auc)\n",
    "show(agdf, allrows=true, splitcols=false)"
   ]
  },
  {
   "cell_type": "markdown",
   "metadata": {},
   "source": [
    "What is the best model on each dataset?"
   ]
  },
  {
   "cell_type": "code",
   "execution_count": 74,
   "metadata": {},
   "outputs": [
    {
     "data": {
      "text/html": [
       "<p><b>GroupedDataFrame with 2 groups based on key: dataset</b></p><p><i>First Group (8 rows): dataset = \"crabs\"</i></p><table class=\"data-frame\"><thead><tr><th></th><th>dataset</th><th>model</th><th>parameters</th><th>cross_entropy</th><th>auc</th></tr><tr><th></th><th>String</th><th>String</th><th>String</th><th>Float64?</th><th>Float64?</th></tr></thead><tbody><tr><th>1</th><td>crabs</td><td>XGBoostClassifier</td><td>max_depth=4</td><td>0.211701</td><td>0.968631</td></tr><tr><th>2</th><td>crabs</td><td>XGBoostClassifier</td><td>max_depth=2</td><td>0.214894</td><td>0.976127</td></tr><tr><th>3</th><td>crabs</td><td>XGBoostClassifier</td><td>max_depth=6</td><td>0.216623</td><td>0.976535</td></tr><tr><th>4</th><td>crabs</td><td>XGBoostClassifier</td><td>max_depth=8</td><td>0.241723</td><td>0.97217</td></tr><tr><th>5</th><td>crabs</td><td>KNNClassifier</td><td>K=11</td><td>0.373872</td><td>0.925122</td></tr><tr><th>6</th><td>crabs</td><td>KNNClassifier</td><td>K=101</td><td>0.672827</td><td>0.670749</td></tr><tr><th>7</th><td>crabs</td><td>KNNClassifier</td><td>K=1</td><td>1.49914</td><td>0.944403</td></tr><tr><th>8</th><td>crabs</td><td>KNNClassifier</td><td>K=301</td><td><em>missing</em></td><td><em>missing</em></td></tr></tbody></table><p>&vellip;</p><p><i>Last Group (8 rows): dataset = \"iris\"</i></p><table class=\"data-frame\"><thead><tr><th></th><th>dataset</th><th>model</th><th>parameters</th><th>cross_entropy</th><th>auc</th></tr><tr><th></th><th>String</th><th>String</th><th>String</th><th>Float64?</th><th>Float64?</th></tr></thead><tbody><tr><th>1</th><td>iris</td><td>KNNClassifier</td><td>K=11</td><td>0.0969837</td><td>0.996452</td></tr><tr><th>2</th><td>iris</td><td>XGBoostClassifier</td><td>max_depth=6</td><td>0.211618</td><td>0.964671</td></tr><tr><th>3</th><td>iris</td><td>XGBoostClassifier</td><td>max_depth=8</td><td>0.21252</td><td>0.960521</td></tr><tr><th>4</th><td>iris</td><td>XGBoostClassifier</td><td>max_depth=2</td><td>0.219998</td><td>0.958139</td></tr><tr><th>5</th><td>iris</td><td>XGBoostClassifier</td><td>max_depth=4</td><td>0.227554</td><td>0.953534</td></tr><tr><th>6</th><td>iris</td><td>KNNClassifier</td><td>K=101</td><td>0.899702</td><td>0.466738</td></tr><tr><th>7</th><td>iris</td><td>KNNClassifier</td><td>K=1</td><td>1.44175</td><td>0.960816</td></tr><tr><th>8</th><td>iris</td><td>KNNClassifier</td><td>K=301</td><td><em>missing</em></td><td><em>missing</em></td></tr></tbody></table>"
      ],
      "text/latex": [
       "GroupedDataFrame with 2 groups based on key: dataset\n",
       "\n",
       "First Group (8 rows): dataset = \"crabs\"\n",
       "\n",
       "\\begin{tabular}{r|ccccc}\n",
       "\t& dataset & model & parameters & cross\\_entropy & auc\\\\\n",
       "\t\\hline\n",
       "\t& String & String & String & Float64? & Float64?\\\\\n",
       "\t\\hline\n",
       "\t1 & crabs & XGBoostClassifier & max\\_depth=4 & 0.211701 & 0.968631 \\\\\n",
       "\t2 & crabs & XGBoostClassifier & max\\_depth=2 & 0.214894 & 0.976127 \\\\\n",
       "\t3 & crabs & XGBoostClassifier & max\\_depth=6 & 0.216623 & 0.976535 \\\\\n",
       "\t4 & crabs & XGBoostClassifier & max\\_depth=8 & 0.241723 & 0.97217 \\\\\n",
       "\t5 & crabs & KNNClassifier & K=11 & 0.373872 & 0.925122 \\\\\n",
       "\t6 & crabs & KNNClassifier & K=101 & 0.672827 & 0.670749 \\\\\n",
       "\t7 & crabs & KNNClassifier & K=1 & 1.49914 & 0.944403 \\\\\n",
       "\t8 & crabs & KNNClassifier & K=301 & \\emph{missing} & \\emph{missing} \\\\\n",
       "\\end{tabular}\n",
       "\n",
       "$\\dots$\n",
       "\n",
       "Last Group (8 rows): dataset = \"iris\"\n",
       "\n",
       "\\begin{tabular}{r|ccccc}\n",
       "\t& dataset & model & parameters & cross\\_entropy & auc\\\\\n",
       "\t\\hline\n",
       "\t& String & String & String & Float64? & Float64?\\\\\n",
       "\t\\hline\n",
       "\t1 & iris & KNNClassifier & K=11 & 0.0969837 & 0.996452 \\\\\n",
       "\t2 & iris & XGBoostClassifier & max\\_depth=6 & 0.211618 & 0.964671 \\\\\n",
       "\t3 & iris & XGBoostClassifier & max\\_depth=8 & 0.21252 & 0.960521 \\\\\n",
       "\t4 & iris & XGBoostClassifier & max\\_depth=2 & 0.219998 & 0.958139 \\\\\n",
       "\t5 & iris & XGBoostClassifier & max\\_depth=4 & 0.227554 & 0.953534 \\\\\n",
       "\t6 & iris & KNNClassifier & K=101 & 0.899702 & 0.466738 \\\\\n",
       "\t7 & iris & KNNClassifier & K=1 & 1.44175 & 0.960816 \\\\\n",
       "\t8 & iris & KNNClassifier & K=301 & \\emph{missing} & \\emph{missing} \\\\\n",
       "\\end{tabular}\n"
      ],
      "text/plain": [
       "GroupedDataFrame with 2 groups based on key: dataset\n",
       "First Group (8 rows): dataset = \"crabs\"\n",
       "│ Row │ dataset │ model             │ parameters  │ cross_entropy │ auc      │\n",
       "│     │ \u001b[90mString\u001b[39m  │ \u001b[90mString\u001b[39m            │ \u001b[90mString\u001b[39m      │ \u001b[90mFloat64?\u001b[39m      │ \u001b[90mFloat64?\u001b[39m │\n",
       "├─────┼─────────┼───────────────────┼─────────────┼───────────────┼──────────┤\n",
       "│ 1   │ crabs   │ XGBoostClassifier │ max_depth=4 │ 0.211701      │ 0.968631 │\n",
       "│ 2   │ crabs   │ XGBoostClassifier │ max_depth=2 │ 0.214894      │ 0.976127 │\n",
       "│ 3   │ crabs   │ XGBoostClassifier │ max_depth=6 │ 0.216623      │ 0.976535 │\n",
       "│ 4   │ crabs   │ XGBoostClassifier │ max_depth=8 │ 0.241723      │ 0.97217  │\n",
       "│ 5   │ crabs   │ KNNClassifier     │ K=11        │ 0.373872      │ 0.925122 │\n",
       "│ 6   │ crabs   │ KNNClassifier     │ K=101       │ 0.672827      │ 0.670749 │\n",
       "│ 7   │ crabs   │ KNNClassifier     │ K=1         │ 1.49914       │ 0.944403 │\n",
       "│ 8   │ crabs   │ KNNClassifier     │ K=301       │ \u001b[90mmissing\u001b[39m       │ \u001b[90mmissing\u001b[39m  │\n",
       "⋮\n",
       "Last Group (8 rows): dataset = \"iris\"\n",
       "│ Row │ dataset │ model             │ parameters  │ cross_entropy │ auc      │\n",
       "│     │ \u001b[90mString\u001b[39m  │ \u001b[90mString\u001b[39m            │ \u001b[90mString\u001b[39m      │ \u001b[90mFloat64?\u001b[39m      │ \u001b[90mFloat64?\u001b[39m │\n",
       "├─────┼─────────┼───────────────────┼─────────────┼───────────────┼──────────┤\n",
       "│ 1   │ iris    │ KNNClassifier     │ K=11        │ 0.0969837     │ 0.996452 │\n",
       "│ 2   │ iris    │ XGBoostClassifier │ max_depth=6 │ 0.211618      │ 0.964671 │\n",
       "│ 3   │ iris    │ XGBoostClassifier │ max_depth=8 │ 0.21252       │ 0.960521 │\n",
       "│ 4   │ iris    │ XGBoostClassifier │ max_depth=2 │ 0.219998      │ 0.958139 │\n",
       "│ 5   │ iris    │ XGBoostClassifier │ max_depth=4 │ 0.227554      │ 0.953534 │\n",
       "│ 6   │ iris    │ KNNClassifier     │ K=101       │ 0.899702      │ 0.466738 │\n",
       "│ 7   │ iris    │ KNNClassifier     │ K=1         │ 1.44175       │ 0.960816 │\n",
       "│ 8   │ iris    │ KNNClassifier     │ K=301       │ \u001b[90mmissing\u001b[39m       │ \u001b[90mmissing\u001b[39m  │"
      ]
     },
     "execution_count": 74,
     "metadata": {},
     "output_type": "execute_result"
    }
   ],
   "source": [
    "combine(x->sort(x, :cross_entropy), groupby(agdf, [:dataset]), ungroup = false)"
   ]
  },
  {
   "cell_type": "code",
   "execution_count": 75,
   "metadata": {},
   "outputs": [
    {
     "data": {
      "text/html": [
       "<p><b>GroupedDataFrame with 2 groups based on key: dataset</b></p><p><i>First Group (8 rows): dataset = \"crabs\"</i></p><table class=\"data-frame\"><thead><tr><th></th><th>dataset</th><th>model</th><th>parameters</th><th>cross_entropy</th><th>auc</th></tr><tr><th></th><th>String</th><th>String</th><th>String</th><th>Float64?</th><th>Float64?</th></tr></thead><tbody><tr><th>1</th><td>crabs</td><td>KNNClassifier</td><td>K=301</td><td><em>missing</em></td><td><em>missing</em></td></tr><tr><th>2</th><td>crabs</td><td>XGBoostClassifier</td><td>max_depth=6</td><td>0.216623</td><td>0.976535</td></tr><tr><th>3</th><td>crabs</td><td>XGBoostClassifier</td><td>max_depth=2</td><td>0.214894</td><td>0.976127</td></tr><tr><th>4</th><td>crabs</td><td>XGBoostClassifier</td><td>max_depth=8</td><td>0.241723</td><td>0.97217</td></tr><tr><th>5</th><td>crabs</td><td>XGBoostClassifier</td><td>max_depth=4</td><td>0.211701</td><td>0.968631</td></tr><tr><th>6</th><td>crabs</td><td>KNNClassifier</td><td>K=1</td><td>1.49914</td><td>0.944403</td></tr><tr><th>7</th><td>crabs</td><td>KNNClassifier</td><td>K=11</td><td>0.373872</td><td>0.925122</td></tr><tr><th>8</th><td>crabs</td><td>KNNClassifier</td><td>K=101</td><td>0.672827</td><td>0.670749</td></tr></tbody></table><p>&vellip;</p><p><i>Last Group (8 rows): dataset = \"iris\"</i></p><table class=\"data-frame\"><thead><tr><th></th><th>dataset</th><th>model</th><th>parameters</th><th>cross_entropy</th><th>auc</th></tr><tr><th></th><th>String</th><th>String</th><th>String</th><th>Float64?</th><th>Float64?</th></tr></thead><tbody><tr><th>1</th><td>iris</td><td>KNNClassifier</td><td>K=301</td><td><em>missing</em></td><td><em>missing</em></td></tr><tr><th>2</th><td>iris</td><td>KNNClassifier</td><td>K=11</td><td>0.0969837</td><td>0.996452</td></tr><tr><th>3</th><td>iris</td><td>XGBoostClassifier</td><td>max_depth=6</td><td>0.211618</td><td>0.964671</td></tr><tr><th>4</th><td>iris</td><td>KNNClassifier</td><td>K=1</td><td>1.44175</td><td>0.960816</td></tr><tr><th>5</th><td>iris</td><td>XGBoostClassifier</td><td>max_depth=8</td><td>0.21252</td><td>0.960521</td></tr><tr><th>6</th><td>iris</td><td>XGBoostClassifier</td><td>max_depth=2</td><td>0.219998</td><td>0.958139</td></tr><tr><th>7</th><td>iris</td><td>XGBoostClassifier</td><td>max_depth=4</td><td>0.227554</td><td>0.953534</td></tr><tr><th>8</th><td>iris</td><td>KNNClassifier</td><td>K=101</td><td>0.899702</td><td>0.466738</td></tr></tbody></table>"
      ],
      "text/latex": [
       "GroupedDataFrame with 2 groups based on key: dataset\n",
       "\n",
       "First Group (8 rows): dataset = \"crabs\"\n",
       "\n",
       "\\begin{tabular}{r|ccccc}\n",
       "\t& dataset & model & parameters & cross\\_entropy & auc\\\\\n",
       "\t\\hline\n",
       "\t& String & String & String & Float64? & Float64?\\\\\n",
       "\t\\hline\n",
       "\t1 & crabs & KNNClassifier & K=301 & \\emph{missing} & \\emph{missing} \\\\\n",
       "\t2 & crabs & XGBoostClassifier & max\\_depth=6 & 0.216623 & 0.976535 \\\\\n",
       "\t3 & crabs & XGBoostClassifier & max\\_depth=2 & 0.214894 & 0.976127 \\\\\n",
       "\t4 & crabs & XGBoostClassifier & max\\_depth=8 & 0.241723 & 0.97217 \\\\\n",
       "\t5 & crabs & XGBoostClassifier & max\\_depth=4 & 0.211701 & 0.968631 \\\\\n",
       "\t6 & crabs & KNNClassifier & K=1 & 1.49914 & 0.944403 \\\\\n",
       "\t7 & crabs & KNNClassifier & K=11 & 0.373872 & 0.925122 \\\\\n",
       "\t8 & crabs & KNNClassifier & K=101 & 0.672827 & 0.670749 \\\\\n",
       "\\end{tabular}\n",
       "\n",
       "$\\dots$\n",
       "\n",
       "Last Group (8 rows): dataset = \"iris\"\n",
       "\n",
       "\\begin{tabular}{r|ccccc}\n",
       "\t& dataset & model & parameters & cross\\_entropy & auc\\\\\n",
       "\t\\hline\n",
       "\t& String & String & String & Float64? & Float64?\\\\\n",
       "\t\\hline\n",
       "\t1 & iris & KNNClassifier & K=301 & \\emph{missing} & \\emph{missing} \\\\\n",
       "\t2 & iris & KNNClassifier & K=11 & 0.0969837 & 0.996452 \\\\\n",
       "\t3 & iris & XGBoostClassifier & max\\_depth=6 & 0.211618 & 0.964671 \\\\\n",
       "\t4 & iris & KNNClassifier & K=1 & 1.44175 & 0.960816 \\\\\n",
       "\t5 & iris & XGBoostClassifier & max\\_depth=8 & 0.21252 & 0.960521 \\\\\n",
       "\t6 & iris & XGBoostClassifier & max\\_depth=2 & 0.219998 & 0.958139 \\\\\n",
       "\t7 & iris & XGBoostClassifier & max\\_depth=4 & 0.227554 & 0.953534 \\\\\n",
       "\t8 & iris & KNNClassifier & K=101 & 0.899702 & 0.466738 \\\\\n",
       "\\end{tabular}\n"
      ],
      "text/plain": [
       "GroupedDataFrame with 2 groups based on key: dataset\n",
       "First Group (8 rows): dataset = \"crabs\"\n",
       "│ Row │ dataset │ model             │ parameters  │ cross_entropy │ auc      │\n",
       "│     │ \u001b[90mString\u001b[39m  │ \u001b[90mString\u001b[39m            │ \u001b[90mString\u001b[39m      │ \u001b[90mFloat64?\u001b[39m      │ \u001b[90mFloat64?\u001b[39m │\n",
       "├─────┼─────────┼───────────────────┼─────────────┼───────────────┼──────────┤\n",
       "│ 1   │ crabs   │ KNNClassifier     │ K=301       │ \u001b[90mmissing\u001b[39m       │ \u001b[90mmissing\u001b[39m  │\n",
       "│ 2   │ crabs   │ XGBoostClassifier │ max_depth=6 │ 0.216623      │ 0.976535 │\n",
       "│ 3   │ crabs   │ XGBoostClassifier │ max_depth=2 │ 0.214894      │ 0.976127 │\n",
       "│ 4   │ crabs   │ XGBoostClassifier │ max_depth=8 │ 0.241723      │ 0.97217  │\n",
       "│ 5   │ crabs   │ XGBoostClassifier │ max_depth=4 │ 0.211701      │ 0.968631 │\n",
       "│ 6   │ crabs   │ KNNClassifier     │ K=1         │ 1.49914       │ 0.944403 │\n",
       "│ 7   │ crabs   │ KNNClassifier     │ K=11        │ 0.373872      │ 0.925122 │\n",
       "│ 8   │ crabs   │ KNNClassifier     │ K=101       │ 0.672827      │ 0.670749 │\n",
       "⋮\n",
       "Last Group (8 rows): dataset = \"iris\"\n",
       "│ Row │ dataset │ model             │ parameters  │ cross_entropy │ auc      │\n",
       "│     │ \u001b[90mString\u001b[39m  │ \u001b[90mString\u001b[39m            │ \u001b[90mString\u001b[39m      │ \u001b[90mFloat64?\u001b[39m      │ \u001b[90mFloat64?\u001b[39m │\n",
       "├─────┼─────────┼───────────────────┼─────────────┼───────────────┼──────────┤\n",
       "│ 1   │ iris    │ KNNClassifier     │ K=301       │ \u001b[90mmissing\u001b[39m       │ \u001b[90mmissing\u001b[39m  │\n",
       "│ 2   │ iris    │ KNNClassifier     │ K=11        │ 0.0969837     │ 0.996452 │\n",
       "│ 3   │ iris    │ XGBoostClassifier │ max_depth=6 │ 0.211618      │ 0.964671 │\n",
       "│ 4   │ iris    │ KNNClassifier     │ K=1         │ 1.44175       │ 0.960816 │\n",
       "│ 5   │ iris    │ XGBoostClassifier │ max_depth=8 │ 0.21252       │ 0.960521 │\n",
       "│ 6   │ iris    │ XGBoostClassifier │ max_depth=2 │ 0.219998      │ 0.958139 │\n",
       "│ 7   │ iris    │ XGBoostClassifier │ max_depth=4 │ 0.227554      │ 0.953534 │\n",
       "│ 8   │ iris    │ KNNClassifier     │ K=101       │ 0.899702      │ 0.466738 │"
      ]
     },
     "execution_count": 75,
     "metadata": {},
     "output_type": "execute_result"
    }
   ],
   "source": [
    "combine(x->sort(x, :auc, rev=true), groupby(agdf, [:dataset]), ungroup = false) # revert sorting since bigger auc is better"
   ]
  },
  {
   "cell_type": "markdown",
   "metadata": {},
   "source": [
    "### DataFramesMeta.jl\n",
    "\n",
    "This package works on top of DataFrames and enables SQL-like queries. We can try to do the above in one query."
   ]
  },
  {
   "cell_type": "code",
   "execution_count": 76,
   "metadata": {},
   "outputs": [],
   "source": [
    "using DataFramesMeta"
   ]
  },
  {
   "cell_type": "markdown",
   "metadata": {},
   "source": [
    "Best average result in terms of cross entropy on iris dataset."
   ]
  },
  {
   "cell_type": "code",
   "execution_count": 78,
   "metadata": {},
   "outputs": [
    {
     "data": {
      "text/html": [
       "<table class=\"data-frame\"><thead><tr><th></th><th>dataset</th><th>model</th><th>parameters</th><th>cross_entropy</th></tr><tr><th></th><th>String</th><th>String</th><th>String</th><th>Float64</th></tr></thead><tbody><p>7 rows × 4 columns</p><tr><th>1</th><td>iris</td><td>KNNClassifier</td><td>K=1</td><td>1.44175</td></tr><tr><th>2</th><td>iris</td><td>KNNClassifier</td><td>K=11</td><td>0.0969837</td></tr><tr><th>3</th><td>iris</td><td>KNNClassifier</td><td>K=101</td><td>0.899702</td></tr><tr><th>4</th><td>iris</td><td>XGBoostClassifier</td><td>max_depth=2</td><td>0.219998</td></tr><tr><th>5</th><td>iris</td><td>XGBoostClassifier</td><td>max_depth=4</td><td>0.227554</td></tr><tr><th>6</th><td>iris</td><td>XGBoostClassifier</td><td>max_depth=6</td><td>0.211618</td></tr><tr><th>7</th><td>iris</td><td>XGBoostClassifier</td><td>max_depth=8</td><td>0.21252</td></tr></tbody></table>"
      ],
      "text/latex": [
       "\\begin{tabular}{r|cccc}\n",
       "\t& dataset & model & parameters & cross\\_entropy\\\\\n",
       "\t\\hline\n",
       "\t& String & String & String & Float64\\\\\n",
       "\t\\hline\n",
       "\t1 & iris & KNNClassifier & K=1 & 1.44175 \\\\\n",
       "\t2 & iris & KNNClassifier & K=11 & 0.0969837 \\\\\n",
       "\t3 & iris & KNNClassifier & K=101 & 0.899702 \\\\\n",
       "\t4 & iris & XGBoostClassifier & max\\_depth=2 & 0.219998 \\\\\n",
       "\t5 & iris & XGBoostClassifier & max\\_depth=4 & 0.227554 \\\\\n",
       "\t6 & iris & XGBoostClassifier & max\\_depth=6 & 0.211618 \\\\\n",
       "\t7 & iris & XGBoostClassifier & max\\_depth=8 & 0.21252 \\\\\n",
       "\\end{tabular}\n"
      ],
      "text/plain": [
       "7×4 DataFrame\n",
       "│ Row │ dataset │ model             │ parameters  │ cross_entropy │\n",
       "│     │ \u001b[90mString\u001b[39m  │ \u001b[90mString\u001b[39m            │ \u001b[90mString\u001b[39m      │ \u001b[90mFloat64\u001b[39m       │\n",
       "├─────┼─────────┼───────────────────┼─────────────┼───────────────┤\n",
       "│ 1   │ iris    │ KNNClassifier     │ K=1         │ 1.44175       │\n",
       "│ 2   │ iris    │ KNNClassifier     │ K=11        │ 0.0969837     │\n",
       "│ 3   │ iris    │ KNNClassifier     │ K=101       │ 0.899702      │\n",
       "│ 4   │ iris    │ XGBoostClassifier │ max_depth=2 │ 0.219998      │\n",
       "│ 5   │ iris    │ XGBoostClassifier │ max_depth=4 │ 0.227554      │\n",
       "│ 6   │ iris    │ XGBoostClassifier │ max_depth=6 │ 0.211618      │\n",
       "│ 7   │ iris    │ XGBoostClassifier │ max_depth=8 │ 0.21252       │"
      ]
     },
     "execution_count": 78,
     "metadata": {},
     "output_type": "execute_result"
    }
   ],
   "source": [
    "@linq resdf |>\n",
    "    where(.!ismissing.(:cross_entropy), :dataset.==\"iris\") |>\n",
    "    by([:dataset, :model, :parameters], cross_entropy=mean(:cross_entropy))"
   ]
  },
  {
   "cell_type": "code",
   "execution_count": 77,
   "metadata": {},
   "outputs": [
    {
     "data": {
      "text/html": [
       "<table class=\"data-frame\"><thead><tr><th></th><th>dataset</th><th>model</th><th>parameters</th><th>cross_entropy</th></tr><tr><th></th><th>String</th><th>String</th><th>String</th><th>Float64</th></tr></thead><tbody><p>7 rows × 4 columns</p><tr><th>1</th><td>iris</td><td>KNNClassifier</td><td>K=11</td><td>0.0969837</td></tr><tr><th>2</th><td>iris</td><td>XGBoostClassifier</td><td>max_depth=6</td><td>0.211618</td></tr><tr><th>3</th><td>iris</td><td>XGBoostClassifier</td><td>max_depth=8</td><td>0.21252</td></tr><tr><th>4</th><td>iris</td><td>XGBoostClassifier</td><td>max_depth=2</td><td>0.219998</td></tr><tr><th>5</th><td>iris</td><td>XGBoostClassifier</td><td>max_depth=4</td><td>0.227554</td></tr><tr><th>6</th><td>iris</td><td>KNNClassifier</td><td>K=101</td><td>0.899702</td></tr><tr><th>7</th><td>iris</td><td>KNNClassifier</td><td>K=1</td><td>1.44175</td></tr></tbody></table>"
      ],
      "text/latex": [
       "\\begin{tabular}{r|cccc}\n",
       "\t& dataset & model & parameters & cross\\_entropy\\\\\n",
       "\t\\hline\n",
       "\t& String & String & String & Float64\\\\\n",
       "\t\\hline\n",
       "\t1 & iris & KNNClassifier & K=11 & 0.0969837 \\\\\n",
       "\t2 & iris & XGBoostClassifier & max\\_depth=6 & 0.211618 \\\\\n",
       "\t3 & iris & XGBoostClassifier & max\\_depth=8 & 0.21252 \\\\\n",
       "\t4 & iris & XGBoostClassifier & max\\_depth=2 & 0.219998 \\\\\n",
       "\t5 & iris & XGBoostClassifier & max\\_depth=4 & 0.227554 \\\\\n",
       "\t6 & iris & KNNClassifier & K=101 & 0.899702 \\\\\n",
       "\t7 & iris & KNNClassifier & K=1 & 1.44175 \\\\\n",
       "\\end{tabular}\n"
      ],
      "text/plain": [
       "7×4 DataFrame\n",
       "│ Row │ dataset │ model             │ parameters  │ cross_entropy │\n",
       "│     │ \u001b[90mString\u001b[39m  │ \u001b[90mString\u001b[39m            │ \u001b[90mString\u001b[39m      │ \u001b[90mFloat64\u001b[39m       │\n",
       "├─────┼─────────┼───────────────────┼─────────────┼───────────────┤\n",
       "│ 1   │ iris    │ KNNClassifier     │ K=11        │ 0.0969837     │\n",
       "│ 2   │ iris    │ XGBoostClassifier │ max_depth=6 │ 0.211618      │\n",
       "│ 3   │ iris    │ XGBoostClassifier │ max_depth=8 │ 0.21252       │\n",
       "│ 4   │ iris    │ XGBoostClassifier │ max_depth=2 │ 0.219998      │\n",
       "│ 5   │ iris    │ XGBoostClassifier │ max_depth=4 │ 0.227554      │\n",
       "│ 6   │ iris    │ KNNClassifier     │ K=101       │ 0.899702      │\n",
       "│ 7   │ iris    │ KNNClassifier     │ K=1         │ 1.44175       │"
      ]
     },
     "execution_count": 77,
     "metadata": {},
     "output_type": "execute_result"
    }
   ],
   "source": [
    "@linq resdf |>\n",
    "    where(.!ismissing.(:cross_entropy), :dataset.==\"iris\") |>\n",
    "    by([:dataset, :model, :parameters], cross_entropy=mean(:cross_entropy)) |>\n",
    "    orderby(:cross_entropy) |>\n",
    "    select(:dataset, :model, :parameters, :cross_entropy)"
   ]
  },
  {
   "cell_type": "markdown",
   "metadata": {},
   "source": [
    "Best average result in terms of AUC on crabs dataset."
   ]
  },
  {
   "cell_type": "code",
   "execution_count": 79,
   "metadata": {},
   "outputs": [
    {
     "data": {
      "text/html": [
       "<table class=\"data-frame\"><thead><tr><th></th><th>dataset</th><th>model</th><th>parameters</th><th>auc</th></tr><tr><th></th><th>String</th><th>String</th><th>String</th><th>Float64</th></tr></thead><tbody><p>7 rows × 4 columns</p><tr><th>1</th><td>crabs</td><td>XGBoostClassifier</td><td>max_depth=6</td><td>0.976535</td></tr><tr><th>2</th><td>crabs</td><td>XGBoostClassifier</td><td>max_depth=2</td><td>0.976127</td></tr><tr><th>3</th><td>crabs</td><td>XGBoostClassifier</td><td>max_depth=8</td><td>0.97217</td></tr><tr><th>4</th><td>crabs</td><td>XGBoostClassifier</td><td>max_depth=4</td><td>0.968631</td></tr><tr><th>5</th><td>crabs</td><td>KNNClassifier</td><td>K=1</td><td>0.944403</td></tr><tr><th>6</th><td>crabs</td><td>KNNClassifier</td><td>K=11</td><td>0.925122</td></tr><tr><th>7</th><td>crabs</td><td>KNNClassifier</td><td>K=101</td><td>0.670749</td></tr></tbody></table>"
      ],
      "text/latex": [
       "\\begin{tabular}{r|cccc}\n",
       "\t& dataset & model & parameters & auc\\\\\n",
       "\t\\hline\n",
       "\t& String & String & String & Float64\\\\\n",
       "\t\\hline\n",
       "\t1 & crabs & XGBoostClassifier & max\\_depth=6 & 0.976535 \\\\\n",
       "\t2 & crabs & XGBoostClassifier & max\\_depth=2 & 0.976127 \\\\\n",
       "\t3 & crabs & XGBoostClassifier & max\\_depth=8 & 0.97217 \\\\\n",
       "\t4 & crabs & XGBoostClassifier & max\\_depth=4 & 0.968631 \\\\\n",
       "\t5 & crabs & KNNClassifier & K=1 & 0.944403 \\\\\n",
       "\t6 & crabs & KNNClassifier & K=11 & 0.925122 \\\\\n",
       "\t7 & crabs & KNNClassifier & K=101 & 0.670749 \\\\\n",
       "\\end{tabular}\n"
      ],
      "text/plain": [
       "7×4 DataFrame\n",
       "│ Row │ dataset │ model             │ parameters  │ auc      │\n",
       "│     │ \u001b[90mString\u001b[39m  │ \u001b[90mString\u001b[39m            │ \u001b[90mString\u001b[39m      │ \u001b[90mFloat64\u001b[39m  │\n",
       "├─────┼─────────┼───────────────────┼─────────────┼──────────┤\n",
       "│ 1   │ crabs   │ XGBoostClassifier │ max_depth=6 │ 0.976535 │\n",
       "│ 2   │ crabs   │ XGBoostClassifier │ max_depth=2 │ 0.976127 │\n",
       "│ 3   │ crabs   │ XGBoostClassifier │ max_depth=8 │ 0.97217  │\n",
       "│ 4   │ crabs   │ XGBoostClassifier │ max_depth=4 │ 0.968631 │\n",
       "│ 5   │ crabs   │ KNNClassifier     │ K=1         │ 0.944403 │\n",
       "│ 6   │ crabs   │ KNNClassifier     │ K=11        │ 0.925122 │\n",
       "│ 7   │ crabs   │ KNNClassifier     │ K=101       │ 0.670749 │"
      ]
     },
     "execution_count": 79,
     "metadata": {},
     "output_type": "execute_result"
    }
   ],
   "source": [
    "@linq resdf |>\n",
    "    where(.!ismissing.(:auc), :dataset.==\"crabs\") |>\n",
    "    by([:dataset, :model, :parameters], auc=mean(:auc)) |>\n",
    "    orderby(-:auc) |>\n",
    "    select(:dataset, :model, :parameters, :auc)"
   ]
  }
 ],
 "metadata": {
  "@webio": {
   "lastCommId": null,
   "lastKernelId": null
  },
  "kernelspec": {
   "display_name": "Julia 1.4.2",
   "language": "julia",
   "name": "julia-1.4"
  },
  "language_info": {
   "file_extension": ".jl",
   "mimetype": "application/julia",
   "name": "julia",
   "version": "1.4.2"
  }
 },
 "nbformat": 4,
 "nbformat_minor": 2
}
