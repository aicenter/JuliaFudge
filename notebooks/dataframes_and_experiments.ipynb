{
 "cells": [
  {
   "cell_type": "markdown",
   "metadata": {},
   "source": [
    "### DataFrames basics\n",
    "\n",
    "For a complete overview see the official documentation at `https://juliadata.github.io/DataFrames.jl/stable/`"
   ]
  },
  {
   "cell_type": "code",
   "execution_count": 1,
   "metadata": {},
   "outputs": [],
   "source": [
    "using DataFrames"
   ]
  },
  {
   "cell_type": "markdown",
   "metadata": {},
   "source": [
    "DataFrame construction"
   ]
  },
  {
   "cell_type": "code",
   "execution_count": 2,
   "metadata": {},
   "outputs": [
    {
     "data": {
      "text/html": [
       "<table class=\"data-frame\"><thead><tr><th></th><th>brand</th><th>motor</th><th>doors</th></tr><tr><th></th><th>String</th><th>Float64</th><th>Int64</th></tr></thead><tbody><p>3 rows × 3 columns</p><tr><th>1</th><td>Volvo</td><td>2.0</td><td>3</td></tr><tr><th>2</th><td>Volkswagen</td><td>1.6</td><td>5</td></tr><tr><th>3</th><td>Škoda</td><td>1.3</td><td>5</td></tr></tbody></table>"
      ],
      "text/latex": [
       "\\begin{tabular}{r|ccc}\n",
       "\t& brand & motor & doors\\\\\n",
       "\t\\hline\n",
       "\t& String & Float64 & Int64\\\\\n",
       "\t\\hline\n",
       "\t1 & Volvo & 2.0 & 3 \\\\\n",
       "\t2 & Volkswagen & 1.6 & 5 \\\\\n",
       "\t3 & Škoda & 1.3 & 5 \\\\\n",
       "\\end{tabular}\n"
      ],
      "text/plain": [
       "3×3 DataFrame\n",
       "│ Row │ brand      │ motor   │ doors │\n",
       "│     │ \u001b[90mString\u001b[39m     │ \u001b[90mFloat64\u001b[39m │ \u001b[90mInt64\u001b[39m │\n",
       "├─────┼────────────┼─────────┼───────┤\n",
       "│ 1   │ Volvo      │ 2.0     │ 3     │\n",
       "│ 2   │ Volkswagen │ 1.6     │ 5     │\n",
       "│ 3   │ Škoda      │ 1.3     │ 5     │"
      ]
     },
     "execution_count": 2,
     "metadata": {},
     "output_type": "execute_result"
    }
   ],
   "source": [
    "cars = DataFrame(brand = [\"Volvo\", \"Volkswagen\", \"Škoda\"], motor = [2.0, 1.6, 1.3], doors = [3, 5, 5])"
   ]
  },
  {
   "cell_type": "markdown",
   "metadata": {},
   "source": [
    "indexing like a matrix - not so useful"
   ]
  },
  {
   "cell_type": "code",
   "execution_count": 3,
   "metadata": {},
   "outputs": [
    {
     "data": {
      "text/html": [
       "<table class=\"data-frame\"><thead><tr><th></th><th>brand</th><th>motor</th></tr><tr><th></th><th>String</th><th>Float64</th></tr></thead><tbody><p>2 rows × 2 columns</p><tr><th>1</th><td>Volkswagen</td><td>1.6</td></tr><tr><th>2</th><td>Škoda</td><td>1.3</td></tr></tbody></table>"
      ],
      "text/latex": [
       "\\begin{tabular}{r|cc}\n",
       "\t& brand & motor\\\\\n",
       "\t\\hline\n",
       "\t& String & Float64\\\\\n",
       "\t\\hline\n",
       "\t1 & Volkswagen & 1.6 \\\\\n",
       "\t2 & Škoda & 1.3 \\\\\n",
       "\\end{tabular}\n"
      ],
      "text/plain": [
       "2×2 DataFrame\n",
       "│ Row │ brand      │ motor   │\n",
       "│     │ \u001b[90mString\u001b[39m     │ \u001b[90mFloat64\u001b[39m │\n",
       "├─────┼────────────┼─────────┤\n",
       "│ 1   │ Volkswagen │ 1.6     │\n",
       "│ 2   │ Škoda      │ 1.3     │"
      ]
     },
     "execution_count": 3,
     "metadata": {},
     "output_type": "execute_result"
    }
   ],
   "source": [
    "cars[2:3, 1:2]"
   ]
  },
  {
   "cell_type": "markdown",
   "metadata": {},
   "source": [
    "list of column names - you can use this to iterate over columns"
   ]
  },
  {
   "cell_type": "code",
   "execution_count": 4,
   "metadata": {},
   "outputs": [
    {
     "data": {
      "text/plain": [
       "3-element Array{String,1}:\n",
       " \"brand\"\n",
       " \"motor\"\n",
       " \"doors\""
      ]
     },
     "execution_count": 4,
     "metadata": {},
     "output_type": "execute_result"
    }
   ],
   "source": [
    "names(cars)"
   ]
  },
  {
   "cell_type": "markdown",
   "metadata": {},
   "source": [
    "column names as symbols"
   ]
  },
  {
   "cell_type": "code",
   "execution_count": 5,
   "metadata": {},
   "outputs": [
    {
     "data": {
      "text/plain": [
       "3-element Array{Symbol,1}:\n",
       " :brand\n",
       " :motor\n",
       " :doors"
      ]
     },
     "execution_count": 5,
     "metadata": {},
     "output_type": "execute_result"
    }
   ],
   "source": [
    "propertynames(cars)"
   ]
  },
  {
   "cell_type": "markdown",
   "metadata": {},
   "source": [
    "getting a column - is a vector"
   ]
  },
  {
   "cell_type": "code",
   "execution_count": 6,
   "metadata": {},
   "outputs": [
    {
     "data": {
      "text/plain": [
       "3-element Array{String,1}:\n",
       " \"Volvo\"\n",
       " \"Volkswagen\"\n",
       " \"Škoda\""
      ]
     },
     "execution_count": 6,
     "metadata": {},
     "output_type": "execute_result"
    }
   ],
   "source": [
    "cars.brand"
   ]
  },
  {
   "cell_type": "code",
   "execution_count": 7,
   "metadata": {},
   "outputs": [
    {
     "data": {
      "text/plain": [
       "3-element Array{String,1}:\n",
       " \"Volvo\"\n",
       " \"Volkswagen\"\n",
       " \"Škoda\""
      ]
     },
     "execution_count": 7,
     "metadata": {},
     "output_type": "execute_result"
    }
   ],
   "source": [
    "cars[!,\"brand\"]"
   ]
  },
  {
   "cell_type": "code",
   "execution_count": 8,
   "metadata": {},
   "outputs": [
    {
     "data": {
      "text/plain": [
       "3-element Array{String,1}:\n",
       " \"Volvo\"\n",
       " \"Volkswagen\"\n",
       " \"Škoda\""
      ]
     },
     "execution_count": 8,
     "metadata": {},
     "output_type": "execute_result"
    }
   ],
   "source": [
    "cars[!,:brand]"
   ]
  },
  {
   "cell_type": "markdown",
   "metadata": {},
   "source": [
    "getting multiple columns - is a DataFrame"
   ]
  },
  {
   "cell_type": "code",
   "execution_count": 9,
   "metadata": {},
   "outputs": [
    {
     "data": {
      "text/html": [
       "<table class=\"data-frame\"><thead><tr><th></th><th>brand</th><th>motor</th></tr><tr><th></th><th>String</th><th>Float64</th></tr></thead><tbody><p>3 rows × 2 columns</p><tr><th>1</th><td>Volvo</td><td>2.0</td></tr><tr><th>2</th><td>Volkswagen</td><td>1.6</td></tr><tr><th>3</th><td>Škoda</td><td>1.3</td></tr></tbody></table>"
      ],
      "text/latex": [
       "\\begin{tabular}{r|cc}\n",
       "\t& brand & motor\\\\\n",
       "\t\\hline\n",
       "\t& String & Float64\\\\\n",
       "\t\\hline\n",
       "\t1 & Volvo & 2.0 \\\\\n",
       "\t2 & Volkswagen & 1.6 \\\\\n",
       "\t3 & Škoda & 1.3 \\\\\n",
       "\\end{tabular}\n"
      ],
      "text/plain": [
       "3×2 DataFrame\n",
       "│ Row │ brand      │ motor   │\n",
       "│     │ \u001b[90mString\u001b[39m     │ \u001b[90mFloat64\u001b[39m │\n",
       "├─────┼────────────┼─────────┤\n",
       "│ 1   │ Volvo      │ 2.0     │\n",
       "│ 2   │ Volkswagen │ 1.6     │\n",
       "│ 3   │ Škoda      │ 1.3     │"
      ]
     },
     "execution_count": 9,
     "metadata": {},
     "output_type": "execute_result"
    }
   ],
   "source": [
    "cars[:,[:brand, :motor]]"
   ]
  },
  {
   "cell_type": "markdown",
   "metadata": {},
   "source": [
    "getting a row - is a DataFrameRow"
   ]
  },
  {
   "cell_type": "code",
   "execution_count": 10,
   "metadata": {},
   "outputs": [
    {
     "data": {
      "text/html": [
       "<p>DataFrameRow (3 columns)</p><table class=\"data-frame\"><thead><tr><th></th><th>brand</th><th>motor</th><th>doors</th></tr><tr><th></th><th>String</th><th>Float64</th><th>Int64</th></tr></thead><tbody><tr><th>1</th><td>Volvo</td><td>2.0</td><td>3</td></tr></tbody></table>"
      ],
      "text/latex": [
       "\\begin{tabular}{r|ccc}\n",
       "\t& brand & motor & doors\\\\\n",
       "\t\\hline\n",
       "\t& String & Float64 & Int64\\\\\n",
       "\t\\hline\n",
       "\t1 & Volvo & 2.0 & 3 \\\\\n",
       "\\end{tabular}\n"
      ],
      "text/plain": [
       "DataFrameRow\n",
       "│ Row │ brand  │ motor   │ doors │\n",
       "│     │ \u001b[90mString\u001b[39m │ \u001b[90mFloat64\u001b[39m │ \u001b[90mInt64\u001b[39m │\n",
       "├─────┼────────┼─────────┼───────┤\n",
       "│ 1   │ Volvo  │ 2.0     │ 3     │"
      ]
     },
     "execution_count": 10,
     "metadata": {},
     "output_type": "execute_result"
    }
   ],
   "source": [
    "cars[1,:]"
   ]
  },
  {
   "cell_type": "markdown",
   "metadata": {},
   "source": [
    "multiple rows - is a DataFrame"
   ]
  },
  {
   "cell_type": "code",
   "execution_count": 11,
   "metadata": {},
   "outputs": [
    {
     "data": {
      "text/html": [
       "<table class=\"data-frame\"><thead><tr><th></th><th>brand</th><th>motor</th><th>doors</th></tr><tr><th></th><th>String</th><th>Float64</th><th>Int64</th></tr></thead><tbody><p>2 rows × 3 columns</p><tr><th>1</th><td>Volvo</td><td>2.0</td><td>3</td></tr><tr><th>2</th><td>Volkswagen</td><td>1.6</td><td>5</td></tr></tbody></table>"
      ],
      "text/latex": [
       "\\begin{tabular}{r|ccc}\n",
       "\t& brand & motor & doors\\\\\n",
       "\t\\hline\n",
       "\t& String & Float64 & Int64\\\\\n",
       "\t\\hline\n",
       "\t1 & Volvo & 2.0 & 3 \\\\\n",
       "\t2 & Volkswagen & 1.6 & 5 \\\\\n",
       "\\end{tabular}\n"
      ],
      "text/plain": [
       "2×3 DataFrame\n",
       "│ Row │ brand      │ motor   │ doors │\n",
       "│     │ \u001b[90mString\u001b[39m     │ \u001b[90mFloat64\u001b[39m │ \u001b[90mInt64\u001b[39m │\n",
       "├─────┼────────────┼─────────┼───────┤\n",
       "│ 1   │ Volvo      │ 2.0     │ 3     │\n",
       "│ 2   │ Volkswagen │ 1.6     │ 5     │"
      ]
     },
     "execution_count": 11,
     "metadata": {},
     "output_type": "execute_result"
    }
   ],
   "source": [
    "cars[1:2, :]"
   ]
  },
  {
   "cell_type": "markdown",
   "metadata": {},
   "source": [
    "adding a column to an existing df"
   ]
  },
  {
   "cell_type": "code",
   "execution_count": 12,
   "metadata": {},
   "outputs": [
    {
     "data": {
      "text/html": [
       "<table class=\"data-frame\"><thead><tr><th></th><th>brand</th><th>motor</th><th>doors</th><th>country</th></tr><tr><th></th><th>String</th><th>Float64</th><th>Int64</th><th>String</th></tr></thead><tbody><p>3 rows × 4 columns</p><tr><th>1</th><td>Volvo</td><td>2.0</td><td>3</td><td>Sweden</td></tr><tr><th>2</th><td>Volkswagen</td><td>1.6</td><td>5</td><td>Germany</td></tr><tr><th>3</th><td>Škoda</td><td>1.3</td><td>5</td><td>Czech Republic</td></tr></tbody></table>"
      ],
      "text/latex": [
       "\\begin{tabular}{r|cccc}\n",
       "\t& brand & motor & doors & country\\\\\n",
       "\t\\hline\n",
       "\t& String & Float64 & Int64 & String\\\\\n",
       "\t\\hline\n",
       "\t1 & Volvo & 2.0 & 3 & Sweden \\\\\n",
       "\t2 & Volkswagen & 1.6 & 5 & Germany \\\\\n",
       "\t3 & Škoda & 1.3 & 5 & Czech Republic \\\\\n",
       "\\end{tabular}\n"
      ],
      "text/plain": [
       "3×4 DataFrame\n",
       "│ Row │ brand      │ motor   │ doors │ country        │\n",
       "│     │ \u001b[90mString\u001b[39m     │ \u001b[90mFloat64\u001b[39m │ \u001b[90mInt64\u001b[39m │ \u001b[90mString\u001b[39m         │\n",
       "├─────┼────────────┼─────────┼───────┼────────────────┤\n",
       "│ 1   │ Volvo      │ 2.0     │ 3     │ Sweden         │\n",
       "│ 2   │ Volkswagen │ 1.6     │ 5     │ Germany        │\n",
       "│ 3   │ Škoda      │ 1.3     │ 5     │ Czech Republic │"
      ]
     },
     "execution_count": 12,
     "metadata": {},
     "output_type": "execute_result"
    }
   ],
   "source": [
    "cars[:,:country] = [\"Sweden\", \"Germany\", \"Czech Republic\"];\n",
    "cars"
   ]
  },
  {
   "cell_type": "markdown",
   "metadata": {},
   "source": [
    "adding a row to an existing df"
   ]
  },
  {
   "cell_type": "code",
   "execution_count": 13,
   "metadata": {},
   "outputs": [
    {
     "data": {
      "text/html": [
       "<table class=\"data-frame\"><thead><tr><th></th><th>brand</th><th>motor</th><th>doors</th><th>country</th></tr><tr><th></th><th>String</th><th>Float64</th><th>Int64</th><th>String</th></tr></thead><tbody><p>5 rows × 4 columns</p><tr><th>1</th><td>Volvo</td><td>2.0</td><td>3</td><td>Sweden</td></tr><tr><th>2</th><td>Volkswagen</td><td>1.6</td><td>5</td><td>Germany</td></tr><tr><th>3</th><td>Škoda</td><td>1.3</td><td>5</td><td>Czech Republic</td></tr><tr><th>4</th><td>Fiat</td><td>1.0</td><td>3</td><td>Italy</td></tr><tr><th>5</th><td>Chrysler</td><td>2.4</td><td>5</td><td>USA</td></tr></tbody></table>"
      ],
      "text/latex": [
       "\\begin{tabular}{r|cccc}\n",
       "\t& brand & motor & doors & country\\\\\n",
       "\t\\hline\n",
       "\t& String & Float64 & Int64 & String\\\\\n",
       "\t\\hline\n",
       "\t1 & Volvo & 2.0 & 3 & Sweden \\\\\n",
       "\t2 & Volkswagen & 1.6 & 5 & Germany \\\\\n",
       "\t3 & Škoda & 1.3 & 5 & Czech Republic \\\\\n",
       "\t4 & Fiat & 1.0 & 3 & Italy \\\\\n",
       "\t5 & Chrysler & 2.4 & 5 & USA \\\\\n",
       "\\end{tabular}\n"
      ],
      "text/plain": [
       "5×4 DataFrame\n",
       "│ Row │ brand      │ motor   │ doors │ country        │\n",
       "│     │ \u001b[90mString\u001b[39m     │ \u001b[90mFloat64\u001b[39m │ \u001b[90mInt64\u001b[39m │ \u001b[90mString\u001b[39m         │\n",
       "├─────┼────────────┼─────────┼───────┼────────────────┤\n",
       "│ 1   │ Volvo      │ 2.0     │ 3     │ Sweden         │\n",
       "│ 2   │ Volkswagen │ 1.6     │ 5     │ Germany        │\n",
       "│ 3   │ Škoda      │ 1.3     │ 5     │ Czech Republic │\n",
       "│ 4   │ Fiat       │ 1.0     │ 3     │ Italy          │\n",
       "│ 5   │ Chrysler   │ 2.4     │ 5     │ USA            │"
      ]
     },
     "execution_count": 13,
     "metadata": {},
     "output_type": "execute_result"
    }
   ],
   "source": [
    "push!(cars, [\"Fiat\", 1.0, 3, \"Italy\"])\n",
    "push!(cars, [\"Chrysler\", 2.4, 5, \"USA\"])"
   ]
  },
  {
   "cell_type": "markdown",
   "metadata": {},
   "source": [
    "produces a df that contains a summary for columns of the argument"
   ]
  },
  {
   "cell_type": "code",
   "execution_count": 14,
   "metadata": {},
   "outputs": [
    {
     "data": {
      "text/html": [
       "<table class=\"data-frame\"><thead><tr><th></th><th>variable</th><th>mean</th><th>min</th><th>median</th><th>max</th><th>nunique</th><th>nmissing</th><th>eltype</th></tr><tr><th></th><th>Symbol</th><th>Union…</th><th>Any</th><th>Union…</th><th>Any</th><th>Union…</th><th>Nothing</th><th>DataType</th></tr></thead><tbody><p>4 rows × 8 columns</p><tr><th>1</th><td>brand</td><td></td><td>Chrysler</td><td></td><td>Škoda</td><td>5</td><td></td><td>String</td></tr><tr><th>2</th><td>motor</td><td>1.66</td><td>1.0</td><td>1.6</td><td>2.4</td><td></td><td></td><td>Float64</td></tr><tr><th>3</th><td>doors</td><td>4.2</td><td>3</td><td>5.0</td><td>5</td><td></td><td></td><td>Int64</td></tr><tr><th>4</th><td>country</td><td></td><td>Czech Republic</td><td></td><td>USA</td><td>5</td><td></td><td>String</td></tr></tbody></table>"
      ],
      "text/latex": [
       "\\begin{tabular}{r|cccccccc}\n",
       "\t& variable & mean & min & median & max & nunique & nmissing & eltype\\\\\n",
       "\t\\hline\n",
       "\t& Symbol & Union… & Any & Union… & Any & Union… & Nothing & DataType\\\\\n",
       "\t\\hline\n",
       "\t1 & brand &  & Chrysler &  & Škoda & 5 &  & String \\\\\n",
       "\t2 & motor & 1.66 & 1.0 & 1.6 & 2.4 &  &  & Float64 \\\\\n",
       "\t3 & doors & 4.2 & 3 & 5.0 & 5 &  &  & Int64 \\\\\n",
       "\t4 & country &  & Czech Republic &  & USA & 5 &  & String \\\\\n",
       "\\end{tabular}\n"
      ],
      "text/plain": [
       "4×8 DataFrame. Omitted printing of 2 columns\n",
       "│ Row │ variable │ mean   │ min            │ median │ max   │ nunique │\n",
       "│     │ \u001b[90mSymbol\u001b[39m   │ \u001b[90mUnion…\u001b[39m │ \u001b[90mAny\u001b[39m            │ \u001b[90mUnion…\u001b[39m │ \u001b[90mAny\u001b[39m   │ \u001b[90mUnion…\u001b[39m  │\n",
       "├─────┼──────────┼────────┼────────────────┼────────┼───────┼─────────┤\n",
       "│ 1   │ brand    │        │ Chrysler       │        │ Škoda │ 5       │\n",
       "│ 2   │ motor    │ 1.66   │ 1.0            │ 1.6    │ 2.4   │         │\n",
       "│ 3   │ doors    │ 4.2    │ 3              │ 5.0    │ 5     │         │\n",
       "│ 4   │ country  │        │ Czech Republic │        │ USA   │ 5       │"
      ]
     },
     "execution_count": 14,
     "metadata": {},
     "output_type": "execute_result"
    }
   ],
   "source": [
    "describe(cars)"
   ]
  },
  {
   "cell_type": "markdown",
   "metadata": {},
   "source": [
    "Iterating over rows of a DataFrame"
   ]
  },
  {
   "cell_type": "code",
   "execution_count": 15,
   "metadata": {},
   "outputs": [
    {
     "data": {
      "text/plain": [
       "row_stats (generic function with 1 method)"
      ]
     },
     "execution_count": 15,
     "metadata": {},
     "output_type": "execute_result"
    }
   ],
   "source": [
    "row_stats(r::DataFrameRow) = println(\"A $(r.brand) with $(r.doors) doors and a $(r.motor)l motor.\")"
   ]
  },
  {
   "cell_type": "code",
   "execution_count": 20,
   "metadata": {},
   "outputs": [
    {
     "name": "stdout",
     "output_type": "stream",
     "text": [
      "A Volvo with 3 doors and a 2.0l motor.\n",
      "A Volkswagen with 5 doors and a 1.6l motor.\n",
      "A Škoda with 5 doors and a 1.3l motor.\n",
      "A Fiat with 3 doors and a 1.0l motor.\n",
      "A Chrysler with 5 doors and a 2.4l motor.\n"
     ]
    }
   ],
   "source": [
    "row_stats.(eachrow(cars));"
   ]
  },
  {
   "cell_type": "markdown",
   "metadata": {},
   "source": [
    "#### A small join example"
   ]
  },
  {
   "cell_type": "code",
   "execution_count": 17,
   "metadata": {},
   "outputs": [
    {
     "data": {
      "text/html": [
       "<table class=\"data-frame\"><thead><tr><th></th><th>parent</th><th>brand</th></tr><tr><th></th><th>String</th><th>String</th></tr></thead><tbody><p>5 rows × 2 columns</p><tr><th>1</th><td>Fiat</td><td>Fiat</td></tr><tr><th>2</th><td>Volkswagen</td><td>Volkswagen</td></tr><tr><th>3</th><td>Volkswagen</td><td>Škoda</td></tr><tr><th>4</th><td>Geely</td><td>Volvo</td></tr><tr><th>5</th><td>Fiat</td><td>Chrysler</td></tr></tbody></table>"
      ],
      "text/latex": [
       "\\begin{tabular}{r|cc}\n",
       "\t& parent & brand\\\\\n",
       "\t\\hline\n",
       "\t& String & String\\\\\n",
       "\t\\hline\n",
       "\t1 & Fiat & Fiat \\\\\n",
       "\t2 & Volkswagen & Volkswagen \\\\\n",
       "\t3 & Volkswagen & Škoda \\\\\n",
       "\t4 & Geely & Volvo \\\\\n",
       "\t5 & Fiat & Chrysler \\\\\n",
       "\\end{tabular}\n"
      ],
      "text/plain": [
       "5×2 DataFrame\n",
       "│ Row │ parent     │ brand      │\n",
       "│     │ \u001b[90mString\u001b[39m     │ \u001b[90mString\u001b[39m     │\n",
       "├─────┼────────────┼────────────┤\n",
       "│ 1   │ Fiat       │ Fiat       │\n",
       "│ 2   │ Volkswagen │ Volkswagen │\n",
       "│ 3   │ Volkswagen │ Škoda      │\n",
       "│ 4   │ Geely      │ Volvo      │\n",
       "│ 5   │ Fiat       │ Chrysler   │"
      ]
     },
     "execution_count": 17,
     "metadata": {},
     "output_type": "execute_result"
    }
   ],
   "source": [
    "brands = DataFrame(parent = [\"Fiat\", \"Volkswagen\", \"Volkswagen\", \"Geely\", \"Fiat\"], brand = [\"Fiat\", \"Volkswagen\", \"Škoda\", \"Volvo\", \"Chrysler\"])"
   ]
  },
  {
   "cell_type": "code",
   "execution_count": 18,
   "metadata": {},
   "outputs": [
    {
     "data": {
      "text/html": [
       "<table class=\"data-frame\"><thead><tr><th></th><th>brand</th><th>motor</th><th>doors</th><th>country</th><th>parent</th></tr><tr><th></th><th>String</th><th>Float64</th><th>Int64</th><th>String</th><th>String?</th></tr></thead><tbody><p>5 rows × 5 columns</p><tr><th>1</th><td>Volvo</td><td>2.0</td><td>3</td><td>Sweden</td><td>Geely</td></tr><tr><th>2</th><td>Volkswagen</td><td>1.6</td><td>5</td><td>Germany</td><td>Volkswagen</td></tr><tr><th>3</th><td>Škoda</td><td>1.3</td><td>5</td><td>Czech Republic</td><td>Volkswagen</td></tr><tr><th>4</th><td>Fiat</td><td>1.0</td><td>3</td><td>Italy</td><td>Fiat</td></tr><tr><th>5</th><td>Chrysler</td><td>2.4</td><td>5</td><td>USA</td><td>Fiat</td></tr></tbody></table>"
      ],
      "text/latex": [
       "\\begin{tabular}{r|ccccc}\n",
       "\t& brand & motor & doors & country & parent\\\\\n",
       "\t\\hline\n",
       "\t& String & Float64 & Int64 & String & String?\\\\\n",
       "\t\\hline\n",
       "\t1 & Volvo & 2.0 & 3 & Sweden & Geely \\\\\n",
       "\t2 & Volkswagen & 1.6 & 5 & Germany & Volkswagen \\\\\n",
       "\t3 & Škoda & 1.3 & 5 & Czech Republic & Volkswagen \\\\\n",
       "\t4 & Fiat & 1.0 & 3 & Italy & Fiat \\\\\n",
       "\t5 & Chrysler & 2.4 & 5 & USA & Fiat \\\\\n",
       "\\end{tabular}\n"
      ],
      "text/plain": [
       "5×5 DataFrame\n",
       "│ Row │ brand      │ motor   │ doors │ country        │ parent     │\n",
       "│     │ \u001b[90mString\u001b[39m     │ \u001b[90mFloat64\u001b[39m │ \u001b[90mInt64\u001b[39m │ \u001b[90mString\u001b[39m         │ \u001b[90mString?\u001b[39m    │\n",
       "├─────┼────────────┼─────────┼───────┼────────────────┼────────────┤\n",
       "│ 1   │ Volvo      │ 2.0     │ 3     │ Sweden         │ Geely      │\n",
       "│ 2   │ Volkswagen │ 1.6     │ 5     │ Germany        │ Volkswagen │\n",
       "│ 3   │ Škoda      │ 1.3     │ 5     │ Czech Republic │ Volkswagen │\n",
       "│ 4   │ Fiat       │ 1.0     │ 3     │ Italy          │ Fiat       │\n",
       "│ 5   │ Chrysler   │ 2.4     │ 5     │ USA            │ Fiat       │"
      ]
     },
     "execution_count": 18,
     "metadata": {},
     "output_type": "execute_result"
    }
   ],
   "source": [
    "cars = leftjoin(cars, brands, on = :brand)"
   ]
  },
  {
   "cell_type": "markdown",
   "metadata": {},
   "source": [
    "Sorting"
   ]
  },
  {
   "cell_type": "code",
   "execution_count": null,
   "metadata": {},
   "outputs": [],
   "source": [
    "sort(cars, [:doors, :motor], rev=true)"
   ]
  },
  {
   "cell_type": "markdown",
   "metadata": {},
   "source": [
    "Filtering"
   ]
  },
  {
   "cell_type": "code",
   "execution_count": null,
   "metadata": {},
   "outputs": [],
   "source": [
    "filter(r-> r[:doors] > 3 && r[:motor] < 2, cars)"
   ]
  },
  {
   "cell_type": "markdown",
   "metadata": {},
   "source": [
    "### A simple ML experiment\n",
    "\n",
    "Load experimental data, from multiple experiments, merge them into one big DataFrame, average performance over folds and look for the best model. The script that was used to generate the data using the `MLJ` package is `generate_dataframes.jl`."
   ]
  },
  {
   "cell_type": "markdown",
   "metadata": {},
   "source": [
    "This is a folder where the data is saved"
   ]
  },
  {
   "cell_type": "code",
   "execution_count": null,
   "metadata": {},
   "outputs": [],
   "source": [
    "savepath = \"./data\"\n",
    "files = readdir(savepath)"
   ]
  },
  {
   "cell_type": "code",
   "execution_count": null,
   "metadata": {},
   "outputs": [],
   "source": [
    "using CSV # for data reading\n",
    "using Statistics # for averaging\n",
    "results = map(x->CSV.read(joinpath(savepath,x)), files)\n",
    "show(results[1], allcols = true, splitcols=false)"
   ]
  },
  {
   "cell_type": "markdown",
   "metadata": {},
   "source": [
    "#### Missing values\n",
    "\n",
    "Any operation on a vector containing a `missing` value results in a `missing` value"
   ]
  },
  {
   "cell_type": "code",
   "execution_count": null,
   "metadata": {},
   "outputs": [],
   "source": [
    "mean([1, 2, missing, 3])"
   ]
  },
  {
   "cell_type": "markdown",
   "metadata": {},
   "source": [
    "Thats why we use skipmissing"
   ]
  },
  {
   "cell_type": "code",
   "execution_count": null,
   "metadata": {},
   "outputs": [],
   "source": [
    "mean(skipmissing([1, 2, missing, 3]))"
   ]
  },
  {
   "cell_type": "markdown",
   "metadata": {},
   "source": [
    "Now we have the DataFrames from individual experiments, let's join them together."
   ]
  },
  {
   "cell_type": "code",
   "execution_count": null,
   "metadata": {},
   "outputs": [],
   "source": [
    "resdf = vcat(results...)\n",
    "show(resdf, splitcols=false)"
   ]
  },
  {
   "cell_type": "markdown",
   "metadata": {},
   "source": [
    "Now aggregate them over folds."
   ]
  },
  {
   "cell_type": "code",
   "execution_count": null,
   "metadata": {},
   "outputs": [],
   "source": [
    "agdf = combine(groupby(resdf, [:dataset, :model, :parameters]), names(resdf, Not([:dataset, :model, :parameters])) .=> mean)\n",
    "show(agdf, allrows=true, splitcols=false)"
   ]
  },
  {
   "cell_type": "markdown",
   "metadata": {},
   "source": [
    "Where do the missing values come from?"
   ]
  },
  {
   "cell_type": "code",
   "execution_count": null,
   "metadata": {},
   "outputs": [],
   "source": [
    "filter(r->ismissing(r[:cross_entropy]) || ismissing(r[:auc]), resdf)"
   ]
  },
  {
   "cell_type": "markdown",
   "metadata": {},
   "source": [
    "For K=301, we want to have missings, but for other values, we just want to ignore the one missing value."
   ]
  },
  {
   "cell_type": "code",
   "execution_count": null,
   "metadata": {},
   "outputs": [],
   "source": [
    "missmean(x) = all(ismissing, x) ? missing : mean(skipmissing(x)) # this returns mean ignoring the missing elements, but if all elements of x are missing, it returns missing"
   ]
  },
  {
   "cell_type": "code",
   "execution_count": null,
   "metadata": {},
   "outputs": [],
   "source": [
    "agdf = combine(groupby(resdf, [:dataset, :model, :parameters]), names(resdf, Not([:dataset, :model, :parameters])) .=> missmean)\n",
    "agdf = agdf[!,Not(:fold_missmean)] # drop the means of folds\n",
    "rename!(agdf, :cross_entropy_missmean => :cross_entropy) # rename the aggregated columns\n",
    "rename!(agdf, :auc_missmean => :auc)\n",
    "show(agdf, allrows=true, splitcols=false)"
   ]
  },
  {
   "cell_type": "markdown",
   "metadata": {},
   "source": [
    "What is the best model on each dataset?"
   ]
  },
  {
   "cell_type": "code",
   "execution_count": null,
   "metadata": {},
   "outputs": [],
   "source": [
    "combine(x->sort(x, :cross_entropy), groupby(agdf, [:dataset]), ungroup = false)"
   ]
  },
  {
   "cell_type": "code",
   "execution_count": null,
   "metadata": {},
   "outputs": [],
   "source": [
    "combine(x->sort(x, :auc, rev=true), groupby(agdf, [:dataset]), ungroup = false) # revert sorting since bigger auc is better"
   ]
  },
  {
   "cell_type": "markdown",
   "metadata": {},
   "source": [
    "### DataFramesMeta.jl\n",
    "\n",
    "This package works on top of DataFrames and enables SQL-like queries. We can try to do the above in one query."
   ]
  },
  {
   "cell_type": "code",
   "execution_count": null,
   "metadata": {},
   "outputs": [],
   "source": [
    "using DataFramesMeta"
   ]
  },
  {
   "cell_type": "markdown",
   "metadata": {},
   "source": [
    "Best average result in terms of cross entropy on iris dataset."
   ]
  },
  {
   "cell_type": "code",
   "execution_count": null,
   "metadata": {},
   "outputs": [],
   "source": [
    "@linq resdf |>\n",
    "    where(.!ismissing.(:cross_entropy), :dataset.==\"iris\") |>\n",
    "    by([:dataset, :model, :parameters], cross_entropy=mean(:cross_entropy)) |>\n",
    "    orderby(:cross_entropy) |>\n",
    "    select(:dataset, :model, :parameters, :cross_entropy)"
   ]
  },
  {
   "cell_type": "markdown",
   "metadata": {},
   "source": [
    "Best average result in terms of AUC on crabs dataset."
   ]
  },
  {
   "cell_type": "code",
   "execution_count": null,
   "metadata": {},
   "outputs": [],
   "source": [
    "@linq resdf |>\n",
    "    where(.!ismissing.(:auc), :dataset.==\"crabs\") |>\n",
    "    by([:dataset, :model, :parameters], auc=mean(:auc)) |>\n",
    "    orderby(-:auc) |>\n",
    "    select(:dataset, :model, :parameters, :auc)"
   ]
  }
 ],
 "metadata": {
  "@webio": {
   "lastCommId": null,
   "lastKernelId": null
  },
  "kernelspec": {
   "display_name": "Julia 1.4.2",
   "language": "julia",
   "name": "julia-1.4"
  },
  "language_info": {
   "file_extension": ".jl",
   "mimetype": "application/julia",
   "name": "julia",
   "version": "1.4.2"
  }
 },
 "nbformat": 4,
 "nbformat_minor": 2
}
